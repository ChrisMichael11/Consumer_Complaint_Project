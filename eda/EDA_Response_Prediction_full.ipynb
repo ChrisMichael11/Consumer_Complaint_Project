{
 "cells": [
  {
   "cell_type": "markdown",
   "metadata": {},
   "source": [
    "## Import EDA libraries"
   ]
  },
  {
   "cell_type": "code",
   "execution_count": 2,
   "metadata": {
    "collapsed": true
   },
   "outputs": [],
   "source": [
    "import pandas as pd\n",
    "from pandas import DataFrame, Series\n",
    "import numpy as np\n",
    "import matplotlib.pyplot as plt\n",
    "import datetime\n",
    "import random\n",
    "\n",
    "%matplotlib inline"
   ]
  },
  {
   "cell_type": "markdown",
   "metadata": {},
   "source": [
    "## Import Datafiles from Consumer Finance Protection Bureau API\n",
    "#### Consumer_Complaints.csv (full dataset)\n",
    "#### Consumer_Complaints_with_Consumer_Complaint_Narratives.csv (with text complaints only)"
   ]
  },
  {
   "cell_type": "code",
   "execution_count": 3,
   "metadata": {
    "collapsed": false
   },
   "outputs": [
    {
     "name": "stderr",
     "output_type": "stream",
     "text": [
      "//anaconda/lib/python2.7/site-packages/IPython/core/interactiveshell.py:2723: DtypeWarning: Columns (5,9,11) have mixed types. Specify dtype option on import or set low_memory=False.\n",
      "  interactivity=interactivity, compiler=compiler, result=result)\n"
     ]
    }
   ],
   "source": [
    "df = pd.read_csv('../data/Consumer_Complaints.csv')\n",
    "# df = pd.read_csv('../data/Consumer_Complaints_with_Consumer_Complaint_Narratives.csv')"
   ]
  },
  {
   "cell_type": "code",
   "execution_count": 6,
   "metadata": {
    "collapsed": false
   },
   "outputs": [
    {
     "name": "stdout",
     "output_type": "stream",
     "text": [
      "<class 'pandas.core.frame.DataFrame'>\n",
      "RangeIndex: 596096 entries, 0 to 596095\n",
      "Data columns (total 18 columns):\n",
      "Date received                   596096 non-null object\n",
      "Product                         596096 non-null object\n",
      "Sub-product                     423392 non-null object\n",
      "Issue                           596094 non-null object\n",
      "Sub-issue                       232166 non-null object\n",
      "Consumer complaint narrative    84466 non-null object\n",
      "Company public response         106682 non-null object\n",
      "Company                         596096 non-null object\n",
      "State                           591350 non-null object\n",
      "ZIP code                        591340 non-null object\n",
      "Tags                            83897 non-null object\n",
      "Consumer consent provided?      153914 non-null object\n",
      "Submitted via                   596096 non-null object\n",
      "Date sent to company            596096 non-null object\n",
      "Company response to consumer    596096 non-null object\n",
      "Timely response?                596096 non-null object\n",
      "Consumer disputed?              559649 non-null object\n",
      "Complaint ID                    596096 non-null int64\n",
      "dtypes: int64(1), object(17)\n",
      "memory usage: 81.9+ MB\n"
     ]
    }
   ],
   "source": [
    "df.info() #596095 entries, 18 columns"
   ]
  },
  {
   "cell_type": "code",
   "execution_count": 7,
   "metadata": {
    "collapsed": false
   },
   "outputs": [],
   "source": [
    "# df.info() #84466 entries, 18 columns"
   ]
  },
  {
   "cell_type": "markdown",
   "metadata": {},
   "source": [
    "### Checkout each column, just using \"df\" for now to get the whole scope of data"
   ]
  },
  {
   "cell_type": "markdown",
   "metadata": {},
   "source": [
    "#### Date Recieved"
   ]
  },
  {
   "cell_type": "code",
   "execution_count": 8,
   "metadata": {
    "collapsed": false
   },
   "outputs": [
    {
     "name": "stdout",
     "output_type": "stream",
     "text": [
      "2011-12-01\n",
      "2016-07-14\n"
     ]
    }
   ],
   "source": [
    "df['Date received'].value_counts(dropna=False)\n",
    "# df['Date received'].value_counts(dropna=False).shape #(1688,)\n",
    "# put date in datetime format\n",
    "df['Date received']=pd.DatetimeIndex(df['Date received'],format='%m/%d/%Y').date\n",
    "\n",
    "print df['Date received'].min()\n",
    "print df['Date received'].max()"
   ]
  },
  {
   "cell_type": "markdown",
   "metadata": {},
   "source": [
    "#### Product"
   ]
  },
  {
   "cell_type": "code",
   "execution_count": 9,
   "metadata": {
    "collapsed": false
   },
   "outputs": [
    {
     "data": {
      "text/plain": [
       "Mortgage                   195640\n",
       "Debt collection            109146\n",
       "Credit reporting           102091\n",
       "Credit card                 70613\n",
       "Bank account or service     67155\n",
       "Consumer Loan               22981\n",
       "Student loan                16722\n",
       "Payday loan                  4207\n",
       "Money transfers              4151\n",
       "Prepaid card                 2750\n",
       "Other financial service       640\n",
       "Name: Product, dtype: int64"
      ]
     },
     "execution_count": 9,
     "metadata": {},
     "output_type": "execute_result"
    }
   ],
   "source": [
    "df['Product'].value_counts(dropna=False)\n",
    "# df['Product'].value_counts(dropna=False).shape #(11,)"
   ]
  },
  {
   "cell_type": "markdown",
   "metadata": {},
   "source": [
    "#### Sub-product"
   ]
  },
  {
   "cell_type": "code",
   "execution_count": 11,
   "metadata": {
    "collapsed": false
   },
   "outputs": [
    {
     "data": {
      "text/plain": [
       "(47,)"
      ]
     },
     "execution_count": 11,
     "metadata": {},
     "output_type": "execute_result"
    }
   ],
   "source": [
    "# df['Sub-product'].value_counts(dropna=False)\n",
    "# df['Sub-product'].value_counts(dropna=False).shape #(47,)"
   ]
  },
  {
   "cell_type": "markdown",
   "metadata": {},
   "source": [
    "#### Issue"
   ]
  },
  {
   "cell_type": "code",
   "execution_count": 13,
   "metadata": {
    "collapsed": false
   },
   "outputs": [
    {
     "data": {
      "text/plain": [
       "(96,)"
      ]
     },
     "execution_count": 13,
     "metadata": {},
     "output_type": "execute_result"
    }
   ],
   "source": [
    "# df['Issue'].value_counts(dropna=False)\n",
    "# df['Issue'].value_counts(dropna=False).shape #(96,)"
   ]
  },
  {
   "cell_type": "markdown",
   "metadata": {},
   "source": [
    "#### Sub-Issue"
   ]
  },
  {
   "cell_type": "code",
   "execution_count": 14,
   "metadata": {
    "collapsed": false
   },
   "outputs": [],
   "source": [
    "# df['Sub-issue'].value_counts()\n",
    "# df['Sub-issue'].value_counts().shape   #(68,)"
   ]
  },
  {
   "cell_type": "markdown",
   "metadata": {},
   "source": [
    "#### Consumer complaint narrative"
   ]
  },
  {
   "cell_type": "code",
   "execution_count": 10,
   "metadata": {
    "collapsed": false
   },
   "outputs": [],
   "source": [
    "# df['Consumer complaint narrative'].value_counts(dropna=False)\n",
    "# df['Consumer complaint narrative'].value_counts(dropna=False).shape   #(83049,)"
   ]
  },
  {
   "cell_type": "markdown",
   "metadata": {},
   "source": [
    "#### Company public response"
   ]
  },
  {
   "cell_type": "code",
   "execution_count": 11,
   "metadata": {
    "collapsed": false
   },
   "outputs": [],
   "source": [
    "# df['Company public response'].value_counts(dropna=False)\n",
    "# df['Company public response'].value_counts(dropna=False).shape   #(11,)"
   ]
  },
  {
   "cell_type": "markdown",
   "metadata": {},
   "source": [
    "#### Company"
   ]
  },
  {
   "cell_type": "code",
   "execution_count": 12,
   "metadata": {
    "collapsed": false
   },
   "outputs": [],
   "source": [
    "# df['Company'].value_counts(dropna=False)\n",
    "# df['Company'].value_counts(dropna=False).shape #(3670,)"
   ]
  },
  {
   "cell_type": "markdown",
   "metadata": {},
   "source": [
    "#### State\n"
   ]
  },
  {
   "cell_type": "code",
   "execution_count": 13,
   "metadata": {
    "collapsed": false
   },
   "outputs": [],
   "source": [
    "# df['State'].value_counts(dropna=False)\n",
    "# df['State'].value_counts(dropna=False).shape #(63,)\n",
    "\n",
    "# Use pyzipcode to find missing zipcodes\n",
    "# https://pypi.python.org/pypi/pyzipcode"
   ]
  },
  {
   "cell_type": "markdown",
   "metadata": {},
   "source": [
    "#### ZIP code"
   ]
  },
  {
   "cell_type": "code",
   "execution_count": 14,
   "metadata": {
    "collapsed": false
   },
   "outputs": [],
   "source": [
    "# df['ZIP code'].value_counts(dropna=False)\n",
    "# df['ZIP code'].value_counts(dropna=False).shape #(38066,)"
   ]
  },
  {
   "cell_type": "markdown",
   "metadata": {},
   "source": [
    "#### Tags"
   ]
  },
  {
   "cell_type": "code",
   "execution_count": 15,
   "metadata": {
    "collapsed": false
   },
   "outputs": [
    {
     "data": {
      "text/plain": [
       "NaN                              512199\n",
       "Older American                    48657\n",
       "Servicemember                     28393\n",
       "Older American, Servicemember      6847\n",
       "Name: Tags, dtype: int64"
      ]
     },
     "execution_count": 15,
     "metadata": {},
     "output_type": "execute_result"
    }
   ],
   "source": [
    "df['Tags'].value_counts(dropna=False)\n",
    "# df['Tags'].value_counts(dropna=False).shape   #(4,)"
   ]
  },
  {
   "cell_type": "markdown",
   "metadata": {},
   "source": [
    "#### Consumer consent provided?"
   ]
  },
  {
   "cell_type": "code",
   "execution_count": 16,
   "metadata": {
    "collapsed": false
   },
   "outputs": [
    {
     "data": {
      "text/plain": [
       "NaN                     442182\n",
       "Consent provided         84467\n",
       "Consent not provided     64197\n",
       "Other                     5246\n",
       "Consent withdrawn            4\n",
       "Name: Consumer consent provided?, dtype: int64"
      ]
     },
     "execution_count": 16,
     "metadata": {},
     "output_type": "execute_result"
    }
   ],
   "source": [
    "df['Consumer consent provided?'].value_counts(dropna=False)\n",
    "# df['Consumer consent provided?'].value_counts(dropna=False).shape #(5,)   "
   ]
  },
  {
   "cell_type": "markdown",
   "metadata": {},
   "source": [
    "#### Submitted via"
   ]
  },
  {
   "cell_type": "code",
   "execution_count": 17,
   "metadata": {
    "collapsed": false
   },
   "outputs": [
    {
     "data": {
      "text/plain": [
       "Web            389903\n",
       "Referral       114650\n",
       "Phone           42938\n",
       "Postal mail     39438\n",
       "Fax              8820\n",
       "Email             347\n",
       "Name: Submitted via, dtype: int64"
      ]
     },
     "execution_count": 17,
     "metadata": {},
     "output_type": "execute_result"
    }
   ],
   "source": [
    "df['Submitted via'].value_counts()\n",
    "# df['Submitted via'].value_counts().shape   #(6,)"
   ]
  },
  {
   "cell_type": "markdown",
   "metadata": {},
   "source": [
    "#### Date sent to company"
   ]
  },
  {
   "cell_type": "code",
   "execution_count": 18,
   "metadata": {
    "collapsed": false
   },
   "outputs": [],
   "source": [
    "#df['Date sent to company'].value_counts(dropna=False)\n",
    "# df['Date sent to company'].value_counts(dropna=False).shape #(1637,)\n",
    "# put date in datetime format\n",
    "df['Date sent to company']=pd.DatetimeIndex(df['Date sent to company'],format='%m/%d/%Y').date"
   ]
  },
  {
   "cell_type": "markdown",
   "metadata": {},
   "source": [
    "#### Company response to consumer"
   ]
  },
  {
   "cell_type": "code",
   "execution_count": 19,
   "metadata": {
    "collapsed": false
   },
   "outputs": [
    {
     "data": {
      "text/plain": [
       "Closed with explanation            435783\n",
       "Closed with non-monetary relief     75726\n",
       "Closed with monetary relief         40631\n",
       "Closed without relief               17909\n",
       "Closed                              14225\n",
       "Closed with relief                   5305\n",
       "In progress                          3636\n",
       "Untimely response                    2881\n",
       "Name: Company response to consumer, dtype: int64"
      ]
     },
     "execution_count": 19,
     "metadata": {},
     "output_type": "execute_result"
    }
   ],
   "source": [
    "df['Company response to consumer'].value_counts(dropna=False)\n",
    "# df['Company response to consumer'].value_counts(dropna=False).shape #(8,)"
   ]
  },
  {
   "cell_type": "markdown",
   "metadata": {},
   "source": [
    "#### Timely Response"
   ]
  },
  {
   "cell_type": "code",
   "execution_count": 20,
   "metadata": {
    "collapsed": false
   },
   "outputs": [
    {
     "data": {
      "text/plain": [
       "Yes    581018\n",
       "No      15078\n",
       "Name: Timely response?, dtype: int64"
      ]
     },
     "execution_count": 20,
     "metadata": {},
     "output_type": "execute_result"
    }
   ],
   "source": [
    "df['Timely response?'].value_counts(dropna=False)\n",
    "# df['Timely response?'].value_counts(dropna=False).shape  #(2,)"
   ]
  },
  {
   "cell_type": "markdown",
   "metadata": {},
   "source": [
    "#### Consumer disputed?"
   ]
  },
  {
   "cell_type": "code",
   "execution_count": 21,
   "metadata": {
    "collapsed": false
   },
   "outputs": [
    {
     "data": {
      "text/plain": [
       "No     439958\n",
       "Yes    119691\n",
       "NaN     36447\n",
       "Name: Consumer disputed?, dtype: int64"
      ]
     },
     "execution_count": 21,
     "metadata": {},
     "output_type": "execute_result"
    }
   ],
   "source": [
    "df['Consumer disputed?'].value_counts(dropna=False)\n",
    "# df['Consumer disputed?'].value_counts(dropna=False).shape  #(3,)df['Consumer consent provided?'].value_counts()\n",
    "# df['Consumer consent provided?'].value_counts().shape   #(4,)"
   ]
  },
  {
   "cell_type": "markdown",
   "metadata": {},
   "source": [
    "#### Complaint ID"
   ]
  },
  {
   "cell_type": "code",
   "execution_count": 22,
   "metadata": {
    "collapsed": false
   },
   "outputs": [],
   "source": [
    "#df['Complaint ID'].value_counts(dropna=False)\n",
    "# df['Complaint ID'].value_counts().shape   #(596096,)"
   ]
  },
  {
   "cell_type": "markdown",
   "metadata": {},
   "source": [
    "### Initial Plotting"
   ]
  },
  {
   "cell_type": "code",
   "execution_count": 23,
   "metadata": {
    "collapsed": false
   },
   "outputs": [
    {
     "data": {
      "image/png": "[encoded data removed]",
      "text/plain": [
       "<matplotlib.figure.Figure at 0x127e64c50>"
      ]
     },
     "metadata": {},
     "output_type": "display_data"
    }
   ],
   "source": [
    "p1 = pd.crosstab(df['Product'], df['Consumer disputed?'])\n",
    "p1.plot(kind='bar', figsize=(10,8));"
   ]
  },
  {
   "cell_type": "code",
   "execution_count": 24,
   "metadata": {
    "collapsed": false
   },
   "outputs": [
    {
     "data": {
      "image/png": "[encoded data removed]",
      "text/plain": [
       "<matplotlib.figure.Figure at 0x125dbe090>"
      ]
     },
     "metadata": {},
     "output_type": "display_data"
    }
   ],
   "source": [
    "p2 = pd.crosstab(df['Product'], df['Submitted via'])\n",
    "p2.plot(kind='bar', figsize=(10,8));"
   ]
  },
  {
   "cell_type": "code",
   "execution_count": 25,
   "metadata": {
    "collapsed": false
   },
   "outputs": [
    {
     "data": {
      "text/plain": [
       "<matplotlib.axes._subplots.AxesSubplot at 0x117398c10>"
      ]
     },
     "execution_count": 25,
     "metadata": {},
     "output_type": "execute_result"
    },
    {
     "data": {
      "image/png": "[encoded data removed]",
      "text/plain": [
       "<matplotlib.figure.Figure at 0x125dbe190>"
      ]
     },
     "metadata": {},
     "output_type": "display_data"
    }
   ],
   "source": [
    "p3 = pd.crosstab(df['Product'], df['Submitted via'])\n",
    "p3.plot(kind='bar', figsize=(10,8))"
   ]
  },
  {
   "cell_type": "code",
   "execution_count": 29,
   "metadata": {
    "collapsed": false
   },
   "outputs": [
    {
     "data": {
      "text/html": [
       "<div>\n",
       "<table border=\"1\" class=\"dataframe\">\n",
       "  <thead>\n",
       "    <tr style=\"text-align: right;\">\n",
       "      <th>Submitted via</th>\n",
       "      <th>Email</th>\n",
       "      <th>Fax</th>\n",
       "      <th>Phone</th>\n",
       "      <th>Postal mail</th>\n",
       "      <th>Referral</th>\n",
       "      <th>Web</th>\n",
       "    </tr>\n",
       "    <tr>\n",
       "      <th>Product</th>\n",
       "      <th></th>\n",
       "      <th></th>\n",
       "      <th></th>\n",
       "      <th></th>\n",
       "      <th></th>\n",
       "      <th></th>\n",
       "    </tr>\n",
       "  </thead>\n",
       "  <tbody>\n",
       "    <tr>\n",
       "      <th>Bank account or service</th>\n",
       "      <td>66</td>\n",
       "      <td>932</td>\n",
       "      <td>9955</td>\n",
       "      <td>3028</td>\n",
       "      <td>23966</td>\n",
       "      <td>29208</td>\n",
       "    </tr>\n",
       "    <tr>\n",
       "      <th>Consumer Loan</th>\n",
       "      <td>22</td>\n",
       "      <td>254</td>\n",
       "      <td>2229</td>\n",
       "      <td>977</td>\n",
       "      <td>2756</td>\n",
       "      <td>16743</td>\n",
       "    </tr>\n",
       "    <tr>\n",
       "      <th>Credit card</th>\n",
       "      <td>43</td>\n",
       "      <td>710</td>\n",
       "      <td>5555</td>\n",
       "      <td>4329</td>\n",
       "      <td>12720</td>\n",
       "      <td>47256</td>\n",
       "    </tr>\n",
       "    <tr>\n",
       "      <th>Credit reporting</th>\n",
       "      <td>22</td>\n",
       "      <td>1648</td>\n",
       "      <td>1405</td>\n",
       "      <td>14954</td>\n",
       "      <td>7523</td>\n",
       "      <td>76539</td>\n",
       "    </tr>\n",
       "    <tr>\n",
       "      <th>Debt collection</th>\n",
       "      <td>7</td>\n",
       "      <td>990</td>\n",
       "      <td>8830</td>\n",
       "      <td>4301</td>\n",
       "      <td>7400</td>\n",
       "      <td>87618</td>\n",
       "    </tr>\n",
       "    <tr>\n",
       "      <th>Money transfers</th>\n",
       "      <td>0</td>\n",
       "      <td>46</td>\n",
       "      <td>1156</td>\n",
       "      <td>99</td>\n",
       "      <td>170</td>\n",
       "      <td>2680</td>\n",
       "    </tr>\n",
       "    <tr>\n",
       "      <th>Mortgage</th>\n",
       "      <td>176</td>\n",
       "      <td>4112</td>\n",
       "      <td>12360</td>\n",
       "      <td>11294</td>\n",
       "      <td>58384</td>\n",
       "      <td>109314</td>\n",
       "    </tr>\n",
       "    <tr>\n",
       "      <th>Other financial service</th>\n",
       "      <td>1</td>\n",
       "      <td>16</td>\n",
       "      <td>93</td>\n",
       "      <td>63</td>\n",
       "      <td>126</td>\n",
       "      <td>341</td>\n",
       "    </tr>\n",
       "    <tr>\n",
       "      <th>Payday loan</th>\n",
       "      <td>0</td>\n",
       "      <td>23</td>\n",
       "      <td>272</td>\n",
       "      <td>53</td>\n",
       "      <td>126</td>\n",
       "      <td>3733</td>\n",
       "    </tr>\n",
       "    <tr>\n",
       "      <th>Prepaid card</th>\n",
       "      <td>0</td>\n",
       "      <td>12</td>\n",
       "      <td>382</td>\n",
       "      <td>71</td>\n",
       "      <td>336</td>\n",
       "      <td>1949</td>\n",
       "    </tr>\n",
       "    <tr>\n",
       "      <th>Student loan</th>\n",
       "      <td>10</td>\n",
       "      <td>77</td>\n",
       "      <td>701</td>\n",
       "      <td>269</td>\n",
       "      <td>1143</td>\n",
       "      <td>14522</td>\n",
       "    </tr>\n",
       "  </tbody>\n",
       "</table>\n",
       "</div>"
      ],
      "text/plain": [
       "Submitted via            Email   Fax  Phone  Postal mail  Referral     Web\n",
       "Product                                                                   \n",
       "Bank account or service     66   932   9955         3028     23966   29208\n",
       "Consumer Loan               22   254   2229          977      2756   16743\n",
       "Credit card                 43   710   5555         4329     12720   47256\n",
       "Credit reporting            22  1648   1405        14954      7523   76539\n",
       "Debt collection              7   990   8830         4301      7400   87618\n",
       "Money transfers              0    46   1156           99       170    2680\n",
       "Mortgage                   176  4112  12360        11294     58384  109314\n",
       "Other financial service      1    16     93           63       126     341\n",
       "Payday loan                  0    23    272           53       126    3733\n",
       "Prepaid card                 0    12    382           71       336    1949\n",
       "Student loan                10    77    701          269      1143   14522"
      ]
     },
     "execution_count": 29,
     "metadata": {},
     "output_type": "execute_result"
    }
   ],
   "source": [
    "p3"
   ]
  },
  {
   "cell_type": "code",
   "execution_count": 26,
   "metadata": {
    "collapsed": false
   },
   "outputs": [
    {
     "data": {
      "text/plain": [
       "<matplotlib.axes._subplots.AxesSubplot at 0x1182cba50>"
      ]
     },
     "execution_count": 26,
     "metadata": {},
     "output_type": "execute_result"
    },
    {
     "data": {
      "image/png": "[encoded data removed]",
      "text/plain": [
       "<matplotlib.figure.Figure at 0x104107850>"
      ]
     },
     "metadata": {},
     "output_type": "display_data"
    }
   ],
   "source": [
    "p4 = pd.crosstab(df['Company response to consumer'], df['Consumer disputed?'])\n",
    "p4.plot(kind='bar', figsize=(10,8))"
   ]
  },
  {
   "cell_type": "code",
   "execution_count": 27,
   "metadata": {
    "collapsed": false
   },
   "outputs": [
    {
     "data": {
      "text/html": [
       "<div>\n",
       "<table border=\"1\" class=\"dataframe\">\n",
       "  <thead>\n",
       "    <tr style=\"text-align: right;\">\n",
       "      <th>Consumer disputed?</th>\n",
       "      <th>No</th>\n",
       "      <th>Yes</th>\n",
       "    </tr>\n",
       "    <tr>\n",
       "      <th>Company response to consumer</th>\n",
       "      <th></th>\n",
       "      <th></th>\n",
       "    </tr>\n",
       "  </thead>\n",
       "  <tbody>\n",
       "    <tr>\n",
       "      <th>Closed</th>\n",
       "      <td>10398</td>\n",
       "      <td>3065</td>\n",
       "    </tr>\n",
       "    <tr>\n",
       "      <th>Closed with explanation</th>\n",
       "      <td>315480</td>\n",
       "      <td>97131</td>\n",
       "    </tr>\n",
       "    <tr>\n",
       "      <th>Closed with monetary relief</th>\n",
       "      <td>34490</td>\n",
       "      <td>4434</td>\n",
       "    </tr>\n",
       "    <tr>\n",
       "      <th>Closed with non-monetary relief</th>\n",
       "      <td>62111</td>\n",
       "      <td>9494</td>\n",
       "    </tr>\n",
       "    <tr>\n",
       "      <th>Closed with relief</th>\n",
       "      <td>4515</td>\n",
       "      <td>714</td>\n",
       "    </tr>\n",
       "    <tr>\n",
       "      <th>Closed without relief</th>\n",
       "      <td>12962</td>\n",
       "      <td>4851</td>\n",
       "    </tr>\n",
       "    <tr>\n",
       "      <th>In progress</th>\n",
       "      <td>2</td>\n",
       "      <td>0</td>\n",
       "    </tr>\n",
       "    <tr>\n",
       "      <th>Untimely response</th>\n",
       "      <td>0</td>\n",
       "      <td>2</td>\n",
       "    </tr>\n",
       "  </tbody>\n",
       "</table>\n",
       "</div>"
      ],
      "text/plain": [
       "Consumer disputed?                   No    Yes\n",
       "Company response to consumer                  \n",
       "Closed                            10398   3065\n",
       "Closed with explanation          315480  97131\n",
       "Closed with monetary relief       34490   4434\n",
       "Closed with non-monetary relief   62111   9494\n",
       "Closed with relief                 4515    714\n",
       "Closed without relief             12962   4851\n",
       "In progress                           2      0\n",
       "Untimely response                     0      2"
      ]
     },
     "execution_count": 27,
     "metadata": {},
     "output_type": "execute_result"
    }
   ],
   "source": [
    "p4"
   ]
  },
  {
   "cell_type": "code",
   "execution_count": null,
   "metadata": {
    "collapsed": false
   },
   "outputs": [],
   "source": []
  },
  {
   "cell_type": "code",
   "execution_count": 28,
   "metadata": {
    "collapsed": false
   },
   "outputs": [
    {
     "data": {
      "text/plain": [
       "<matplotlib.axes._subplots.AxesSubplot at 0x11aeca7d0>"
      ]
     },
     "execution_count": 28,
     "metadata": {},
     "output_type": "execute_result"
    },
    {
     "data": {
      "image/png": "[encoded data removed]",
      "text/plain": [
       "<matplotlib.figure.Figure at 0x1170b0490>"
      ]
     },
     "metadata": {},
     "output_type": "display_data"
    }
   ],
   "source": [
    "p5 = pd.crosstab(df['Product'], df['Consumer disputed?'])\n",
    "p5.plot(kind='bar',figsize=(10,8))"
   ]
  },
  {
   "cell_type": "code",
   "execution_count": null,
   "metadata": {
    "collapsed": false
   },
   "outputs": [],
   "source": [
    "p6 = pd.crosstab(df['Product'], df['Tags'])\n",
    "p6.plot(kind='bar',figsize=(10,8))"
   ]
  },
  {
   "cell_type": "code",
   "execution_count": null,
   "metadata": {
    "collapsed": false
   },
   "outputs": [],
   "source": [
    "p7 = pd.crosstab(df['Submitted via'], df['Tags'])\n",
    "p7.plot(kind='bar',figsize=(10,8))"
   ]
  },
  {
   "cell_type": "code",
   "execution_count": null,
   "metadata": {
    "collapsed": false
   },
   "outputs": [],
   "source": [
    "p8 = pd.crosstab(df['Consumer disputed?'], df['Tags'])\n",
    "p8.plot(kind='bar',figsize=(10,8))"
   ]
  },
  {
   "cell_type": "code",
   "execution_count": 36,
   "metadata": {
    "collapsed": false
   },
   "outputs": [
    {
     "data": {
      "text/plain": [
       "<matplotlib.axes._subplots.AxesSubplot at 0x11ca1de90>"
      ]
     },
     "execution_count": 36,
     "metadata": {},
     "output_type": "execute_result"
    },
    {
     "data": {
      "image/png": "[encoded data removed]",
      "text/plain": [
       "<matplotlib.figure.Figure at 0x11c451910>"
      ]
     },
     "metadata": {},
     "output_type": "display_data"
    }
   ],
   "source": [
    "p9 = pd.crosstab(df['Date sent to company'], df['Submitted via'][5])\n",
    "# p9\n",
    "p9.plot(kind='bar',figsize=(10,8))\n",
    "#  Crappy plot, but shows that web is on the increase"
   ]
  },
  {
   "cell_type": "markdown",
   "metadata": {},
   "source": [
    "## Manage missing values"
   ]
  },
  {
   "cell_type": "code",
   "execution_count": 41,
   "metadata": {
    "collapsed": true
   },
   "outputs": [],
   "source": [
    "df['Product'].fillna('Not Provided', inplace=True)\n",
    "df['Sub-product'].fillna('Not Provided', inplace=True)\n",
    "df['Sub-issue'].fillna('Not Provided', inplace=True)\n",
    "df['Issue'].fillna('Not Provided', inplace=True)\n",
    "df['Consumer complaint narrative'].fillna('Not Provided', inplace=True)\n",
    "df['Company public response'].fillna('Not Provided', inplace=True)\n",
    "df['Company'].fillna('Not Provided', inplace=True)\n",
    "df['State'].fillna('Not Provided', inplace=True)\n",
    "df['ZIP code'].fillna('Not Provided', inplace=True)\n",
    "df['Tags'].fillna('Not Provided', inplace=True)\n",
    "df['Consumer consent provided?'].fillna('Not Provided', inplace=True)\n",
    "df['Submitted via'].fillna('Not Provided',inplace=True) \n",
    "df['Consumer disputed?'].fillna('Not Provided', inplace=True)"
   ]
  },
  {
   "cell_type": "code",
   "execution_count": 42,
   "metadata": {
    "collapsed": false
   },
   "outputs": [
    {
     "name": "stdout",
     "output_type": "stream",
     "text": [
      "<class 'pandas.core.frame.DataFrame'>\n",
      "RangeIndex: 596096 entries, 0 to 596095\n",
      "Data columns (total 18 columns):\n",
      "Date received                   596096 non-null object\n",
      "Product                         596096 non-null object\n",
      "Sub-product                     596096 non-null object\n",
      "Issue                           596096 non-null object\n",
      "Sub-issue                       596096 non-null object\n",
      "Consumer complaint narrative    596096 non-null object\n",
      "Company public response         596096 non-null object\n",
      "Company                         596096 non-null object\n",
      "State                           596096 non-null object\n",
      "ZIP code                        596096 non-null object\n",
      "Tags                            596096 non-null object\n",
      "Consumer consent provided?      596096 non-null object\n",
      "Submitted via                   596096 non-null object\n",
      "Date sent to company            596096 non-null object\n",
      "Company response to consumer    596096 non-null object\n",
      "Timely response?                596096 non-null object\n",
      "Consumer disputed?              596096 non-null object\n",
      "Complaint ID                    596096 non-null int64\n",
      "dtypes: int64(1), object(17)\n",
      "memory usage: 81.9+ MB\n"
     ]
    }
   ],
   "source": [
    "df.info()"
   ]
  },
  {
   "cell_type": "markdown",
   "metadata": {},
   "source": [
    "### Need to modify 'Consumer consent provided?' to have binary-ish response.\n",
    "#### Assume 'Consent withdrawn' and 'Other' are equivalent to 'Consent not provided'"
   ]
  },
  {
   "cell_type": "code",
   "execution_count": 43,
   "metadata": {
    "collapsed": false
   },
   "outputs": [
    {
     "data": {
      "text/plain": [
       "Not Provided            442182\n",
       "Consent provided         84467\n",
       "Consent not provided     64197\n",
       "Other                     5246\n",
       "Consent withdrawn            4\n",
       "Name: Consumer consent provided?, dtype: int64"
      ]
     },
     "execution_count": 43,
     "metadata": {},
     "output_type": "execute_result"
    }
   ],
   "source": [
    "df['Consumer consent provided?'].value_counts()\n",
    "#For a reminder of what is in there"
   ]
  },
  {
   "cell_type": "code",
   "execution_count": 44,
   "metadata": {
    "collapsed": true
   },
   "outputs": [],
   "source": [
    "df['Consumer consent provided?'] = df['Consumer consent provided?'].apply(lambda x: \n",
    "        'Consent not provided' if x=='Other' or x=='Consent withdrawn'\n",
    "         or x=='Not Provided' else x)"
   ]
  },
  {
   "cell_type": "code",
   "execution_count": 45,
   "metadata": {
    "collapsed": false
   },
   "outputs": [
    {
     "data": {
      "text/plain": [
       "No              439958\n",
       "Yes             119691\n",
       "Not Provided     36447\n",
       "Name: Consumer disputed?, dtype: int64"
      ]
     },
     "execution_count": 45,
     "metadata": {},
     "output_type": "execute_result"
    }
   ],
   "source": [
    "df['Consumer disputed?'].value_counts()"
   ]
  },
  {
   "cell_type": "markdown",
   "metadata": {},
   "source": [
    "### Need to modify \"Consumer disputed?\" to have binary-ish response\n",
    "#### Assume \"Not Provided\" = \"No\""
   ]
  },
  {
   "cell_type": "code",
   "execution_count": 46,
   "metadata": {
    "collapsed": true
   },
   "outputs": [],
   "source": [
    "df['Consumer disputed?'] = df['Consumer disputed?'].apply(lambda x: \n",
    "        'No' if x=='Not Provided' else x)"
   ]
  },
  {
   "cell_type": "code",
   "execution_count": 47,
   "metadata": {
    "collapsed": false
   },
   "outputs": [
    {
     "data": {
      "text/plain": [
       "No     476405\n",
       "Yes    119691\n",
       "Name: Consumer disputed?, dtype: int64"
      ]
     },
     "execution_count": 47,
     "metadata": {},
     "output_type": "execute_result"
    }
   ],
   "source": [
    "df['Consumer disputed?'].value_counts()\n"
   ]
  },
  {
   "cell_type": "code",
   "execution_count": 48,
   "metadata": {
    "collapsed": true
   },
   "outputs": [],
   "source": [
    "# crosstab of consent provided vs disputed\n",
    "consent_provided_v_disputed = pd.crosstab(df['Consumer consent provided?'], df['Consumer disputed?'])"
   ]
  },
  {
   "cell_type": "code",
   "execution_count": 49,
   "metadata": {
    "collapsed": false
   },
   "outputs": [
    {
     "data": {
      "text/html": [
       "<div>\n",
       "<table border=\"1\" class=\"dataframe\">\n",
       "  <thead>\n",
       "    <tr style=\"text-align: right;\">\n",
       "      <th>Consumer disputed?</th>\n",
       "      <th>No</th>\n",
       "      <th>Yes</th>\n",
       "    </tr>\n",
       "    <tr>\n",
       "      <th>Consumer consent provided?</th>\n",
       "      <th></th>\n",
       "      <th></th>\n",
       "    </tr>\n",
       "  </thead>\n",
       "  <tbody>\n",
       "    <tr>\n",
       "      <th>Consent not provided</th>\n",
       "      <td>411638</td>\n",
       "      <td>99991</td>\n",
       "    </tr>\n",
       "    <tr>\n",
       "      <th>Consent provided</th>\n",
       "      <td>64767</td>\n",
       "      <td>19700</td>\n",
       "    </tr>\n",
       "  </tbody>\n",
       "</table>\n",
       "</div>"
      ],
      "text/plain": [
       "Consumer disputed?              No    Yes\n",
       "Consumer consent provided?               \n",
       "Consent not provided        411638  99991\n",
       "Consent provided             64767  19700"
      ]
     },
     "execution_count": 49,
     "metadata": {},
     "output_type": "execute_result"
    }
   ],
   "source": [
    "consent_provided_v_disputed\n",
    "#  Print crosstab table"
   ]
  },
  {
   "cell_type": "code",
   "execution_count": 50,
   "metadata": {
    "collapsed": true
   },
   "outputs": [],
   "source": [
    "#  Convert to 1/0 for labels binary response\n",
    "replace_Y_N_to_1_zero = {'Yes': True, 'No':False}\n",
    "df['Consumer disputed?'] = df['Consumer disputed?'].apply(lambda x: replace_Y_N_to_1_zero[x])"
   ]
  },
  {
   "cell_type": "code",
   "execution_count": 51,
   "metadata": {
    "collapsed": false
   },
   "outputs": [
    {
     "data": {
      "text/plain": [
       "False    476405\n",
       "True     119691\n",
       "Name: Consumer disputed?, dtype: int64"
      ]
     },
     "execution_count": 51,
     "metadata": {},
     "output_type": "execute_result"
    }
   ],
   "source": [
    "df['Consumer disputed?'].value_counts()"
   ]
  },
  {
   "cell_type": "markdown",
   "metadata": {},
   "source": [
    "### Fill in missing state zipcodes using pyzipcode (link above)"
   ]
  },
  {
   "cell_type": "code",
   "execution_count": 52,
   "metadata": {
    "collapsed": true
   },
   "outputs": [],
   "source": [
    "from pyzipcode import ZipCodeDatabase\n",
    "zip=ZipCodeDatabase()\n",
    "\n",
    "for i in df[pd.isnull(df['State'])&pd.notnull(df['ZIP code'])].index:\n",
    "    try:\n",
    "        df['State'][i]=str(zip[df['ZIP code'][i]].state)\n",
    "    except:\n",
    "        continue"
   ]
  },
  {
   "cell_type": "markdown",
   "metadata": {},
   "source": [
    "#### Check to see if all ZIP codes are filled"
   ]
  },
  {
   "cell_type": "code",
   "execution_count": 53,
   "metadata": {
    "collapsed": false
   },
   "outputs": [
    {
     "data": {
      "text/plain": [
       "(0, 18)"
      ]
     },
     "execution_count": 53,
     "metadata": {},
     "output_type": "execute_result"
    }
   ],
   "source": [
    "df[pd.isnull(df['State'])&pd.isnull(df['ZIP code'])].shape #4713"
   ]
  },
  {
   "cell_type": "code",
   "execution_count": 54,
   "metadata": {
    "collapsed": true
   },
   "outputs": [],
   "source": [
    "df['State'].fillna('Not provided',inplace=True)\n",
    "df['ZIP code'].fillna('Not Provided',inplace=True)"
   ]
  },
  {
   "cell_type": "code",
   "execution_count": 55,
   "metadata": {
    "collapsed": false
   },
   "outputs": [
    {
     "data": {
      "text/plain": [
       "(0, 18)"
      ]
     },
     "execution_count": 55,
     "metadata": {},
     "output_type": "execute_result"
    }
   ],
   "source": [
    "df[pd.isnull(df['State'])&pd.isnull(df['ZIP code'])].shape #0"
   ]
  },
  {
   "cell_type": "markdown",
   "metadata": {},
   "source": [
    "## Feature Engineering/Additional EDA"
   ]
  },
  {
   "cell_type": "markdown",
   "metadata": {},
   "source": [
    "#### Add count of company complaints (total) for each company"
   ]
  },
  {
   "cell_type": "code",
   "execution_count": 56,
   "metadata": {
    "collapsed": true
   },
   "outputs": [],
   "source": [
    "count_company_complaints = df['Company'].value_counts()\n",
    "df['Count of Company Complaints'] = df['Company'].apply(lambda x: count_company_complaints[x])"
   ]
  },
  {
   "cell_type": "markdown",
   "metadata": {},
   "source": [
    "### Create numerical date features"
   ]
  },
  {
   "cell_type": "code",
   "execution_count": 57,
   "metadata": {
    "collapsed": false
   },
   "outputs": [],
   "source": [
    "# df['Recieved Year'] = df['Date received'].apply(lambda x: x.year)\n",
    "# df['Recieved Month'] = df['Date received'].apply(lambda x: x.month)\n",
    "# df['Recieved Day'] = df['Date received'].apply(lambda x: x.day)\n",
    "\n",
    "# df['Submitted Year'] = df['Date sent to company'].apply(lambda x: x.year)\n",
    "# df['Submitted Month'] = df['Date sent to company'].apply(lambda x: x.month)\n",
    "# df['Submitted Day'] = df['Date sent to company'].apply(lambda x: x.day)"
   ]
  },
  {
   "cell_type": "markdown",
   "metadata": {},
   "source": [
    "### Create Label from \"Company response to consumer\".  Needs to be numerical."
   ]
  },
  {
   "cell_type": "code",
   "execution_count": 58,
   "metadata": {
    "collapsed": false
   },
   "outputs": [
    {
     "data": {
      "text/plain": [
       "Closed with explanation            435783\n",
       "Closed with non-monetary relief     75726\n",
       "Closed with monetary relief         40631\n",
       "Closed without relief               17909\n",
       "Closed                              14225\n",
       "Closed with relief                   5305\n",
       "In progress                          3636\n",
       "Untimely response                    2881\n",
       "Name: Company response to consumer, dtype: int64"
      ]
     },
     "execution_count": 58,
     "metadata": {},
     "output_type": "execute_result"
    }
   ],
   "source": [
    "df['Company response to consumer'].value_counts(dropna=False)"
   ]
  },
  {
   "cell_type": "code",
   "execution_count": 59,
   "metadata": {
    "collapsed": true
   },
   "outputs": [],
   "source": [
    "# Filter out \"Not Provided\"\n",
    "df = df[df['Consumer complaint narrative'] != 'Not Provided']"
   ]
  },
  {
   "cell_type": "code",
   "execution_count": 60,
   "metadata": {
    "collapsed": false
   },
   "outputs": [],
   "source": [
    "# Filter out \"In progress\"\n",
    "df = df[df['Company response to consumer'] != 'In progress']"
   ]
  },
  {
   "cell_type": "code",
   "execution_count": 61,
   "metadata": {
    "collapsed": false
   },
   "outputs": [
    {
     "data": {
      "text/plain": [
       "Closed with explanation            64498\n",
       "Closed with non-monetary relief    10882\n",
       "Closed with monetary relief         6150\n",
       "Closed                              2146\n",
       "Untimely response                    790\n",
       "Name: Company response to consumer, dtype: int64"
      ]
     },
     "execution_count": 61,
     "metadata": {},
     "output_type": "execute_result"
    }
   ],
   "source": [
    "df['Company response to consumer'].value_counts(dropna=False)\n",
    "# df.shape"
   ]
  },
  {
   "cell_type": "markdown",
   "metadata": {},
   "source": [
    "#### Create dict to repalce 7 leftover categories with numbers for classificaiton"
   ]
  },
  {
   "cell_type": "code",
   "execution_count": 62,
   "metadata": {
    "collapsed": true
   },
   "outputs": [],
   "source": [
    "cust_resp_dict ={'Closed':0,\n",
    "                 'Untimely response':0,\n",
    "                 'Closed without relief':1,\n",
    "                 'Closed with explanation':1,\n",
    "                 'Closed with relief':2,\n",
    "                 'Closed with non-monetary relief':2,\n",
    "                 'Closed with monetary relief':2}\n",
    "#  Trying as 1 and 0 insteand of 0, 1, 2 for more simple classification."
   ]
  },
  {
   "cell_type": "code",
   "execution_count": 63,
   "metadata": {
    "collapsed": false
   },
   "outputs": [],
   "source": [
    "df['Company response to consumer'] = df['Company response to consumer'].apply(lambda x: cust_resp_dict[x])"
   ]
  },
  {
   "cell_type": "code",
   "execution_count": 64,
   "metadata": {
    "collapsed": false
   },
   "outputs": [
    {
     "data": {
      "text/plain": [
       "1    64498\n",
       "2    17032\n",
       "0     2936\n",
       "Name: Company response to consumer, dtype: int64"
      ]
     },
     "execution_count": 64,
     "metadata": {},
     "output_type": "execute_result"
    }
   ],
   "source": [
    "df['Company response to consumer'].value_counts(dropna=False)\n"
   ]
  },
  {
   "cell_type": "code",
   "execution_count": 65,
   "metadata": {
    "collapsed": false
   },
   "outputs": [],
   "source": [
    "# df['Date received']"
   ]
  },
  {
   "cell_type": "markdown",
   "metadata": {},
   "source": [
    "## Create \"model_data\" DF for modeling"
   ]
  },
  {
   "cell_type": "code",
   "execution_count": 66,
   "metadata": {
    "collapsed": true
   },
   "outputs": [],
   "source": [
    "model_data = pd.DataFrame()"
   ]
  },
  {
   "cell_type": "markdown",
   "metadata": {},
   "source": [
    "## Assign categorical values numerical values"
   ]
  },
  {
   "cell_type": "code",
   "execution_count": 67,
   "metadata": {
    "collapsed": false
   },
   "outputs": [],
   "source": [
    "feature_for_model=['Product', 'Sub-product','Issue','Sub-issue','Tags', 'State', 'Submitted via']\n",
    "\n",
    "for name in feature_for_model:\n",
    "    val ={}\n",
    "    i=0\n",
    "    for value in df[name].unique(): \n",
    "        val[value] = i\n",
    "        i+=1\n",
    "       \n",
    "    df[name] = df[name].apply(lambda x: val[x])\n",
    "    model_data[name] = df[name].astype('category')"
   ]
  },
  {
   "cell_type": "code",
   "execution_count": 68,
   "metadata": {
    "collapsed": false
   },
   "outputs": [
    {
     "data": {
      "text/html": [
       "<div>\n",
       "<table border=\"1\" class=\"dataframe\">\n",
       "  <thead>\n",
       "    <tr style=\"text-align: right;\">\n",
       "      <th></th>\n",
       "      <th>Product</th>\n",
       "      <th>Sub-product</th>\n",
       "      <th>Issue</th>\n",
       "      <th>Sub-issue</th>\n",
       "      <th>Tags</th>\n",
       "      <th>State</th>\n",
       "      <th>Submitted via</th>\n",
       "    </tr>\n",
       "  </thead>\n",
       "  <tbody>\n",
       "    <tr>\n",
       "      <th>57978</th>\n",
       "      <td>0</td>\n",
       "      <td>0</td>\n",
       "      <td>0</td>\n",
       "      <td>0</td>\n",
       "      <td>0</td>\n",
       "      <td>0</td>\n",
       "      <td>0</td>\n",
       "    </tr>\n",
       "    <tr>\n",
       "      <th>58036</th>\n",
       "      <td>1</td>\n",
       "      <td>1</td>\n",
       "      <td>1</td>\n",
       "      <td>1</td>\n",
       "      <td>0</td>\n",
       "      <td>1</td>\n",
       "      <td>0</td>\n",
       "    </tr>\n",
       "    <tr>\n",
       "      <th>58087</th>\n",
       "      <td>0</td>\n",
       "      <td>0</td>\n",
       "      <td>2</td>\n",
       "      <td>0</td>\n",
       "      <td>0</td>\n",
       "      <td>2</td>\n",
       "      <td>0</td>\n",
       "    </tr>\n",
       "    <tr>\n",
       "      <th>58097</th>\n",
       "      <td>2</td>\n",
       "      <td>0</td>\n",
       "      <td>3</td>\n",
       "      <td>2</td>\n",
       "      <td>0</td>\n",
       "      <td>3</td>\n",
       "      <td>0</td>\n",
       "    </tr>\n",
       "    <tr>\n",
       "      <th>58101</th>\n",
       "      <td>1</td>\n",
       "      <td>2</td>\n",
       "      <td>1</td>\n",
       "      <td>3</td>\n",
       "      <td>0</td>\n",
       "      <td>4</td>\n",
       "      <td>0</td>\n",
       "    </tr>\n",
       "  </tbody>\n",
       "</table>\n",
       "</div>"
      ],
      "text/plain": [
       "      Product Sub-product Issue Sub-issue Tags State Submitted via\n",
       "57978       0           0     0         0    0     0             0\n",
       "58036       1           1     1         1    0     1             0\n",
       "58087       0           0     2         0    0     2             0\n",
       "58097       2           0     3         2    0     3             0\n",
       "58101       1           2     1         3    0     4             0"
      ]
     },
     "execution_count": 68,
     "metadata": {},
     "output_type": "execute_result"
    }
   ],
   "source": [
    "model_data.head()"
   ]
  },
  {
   "cell_type": "code",
   "execution_count": 69,
   "metadata": {
    "collapsed": true
   },
   "outputs": [],
   "source": [
    "compl_v_resp = pd.crosstab(df['Count of Company Complaints'], df['Company response to consumer'])"
   ]
  },
  {
   "cell_type": "code",
   "execution_count": 70,
   "metadata": {
    "collapsed": false
   },
   "outputs": [
    {
     "data": {
      "text/html": [
       "<div>\n",
       "<table border=\"1\" class=\"dataframe\">\n",
       "  <thead>\n",
       "    <tr style=\"text-align: right;\">\n",
       "      <th>Company response to consumer</th>\n",
       "      <th>0</th>\n",
       "      <th>1</th>\n",
       "      <th>2</th>\n",
       "    </tr>\n",
       "    <tr>\n",
       "      <th>Count of Company Complaints</th>\n",
       "      <th></th>\n",
       "      <th></th>\n",
       "      <th></th>\n",
       "    </tr>\n",
       "  </thead>\n",
       "  <tbody>\n",
       "    <tr>\n",
       "      <th>1</th>\n",
       "      <td>44</td>\n",
       "      <td>137</td>\n",
       "      <td>27</td>\n",
       "    </tr>\n",
       "    <tr>\n",
       "      <th>2</th>\n",
       "      <td>44</td>\n",
       "      <td>149</td>\n",
       "      <td>23</td>\n",
       "    </tr>\n",
       "    <tr>\n",
       "      <th>3</th>\n",
       "      <td>52</td>\n",
       "      <td>135</td>\n",
       "      <td>23</td>\n",
       "    </tr>\n",
       "    <tr>\n",
       "      <th>4</th>\n",
       "      <td>49</td>\n",
       "      <td>113</td>\n",
       "      <td>28</td>\n",
       "    </tr>\n",
       "    <tr>\n",
       "      <th>5</th>\n",
       "      <td>36</td>\n",
       "      <td>127</td>\n",
       "      <td>27</td>\n",
       "    </tr>\n",
       "  </tbody>\n",
       "</table>\n",
       "</div>"
      ],
      "text/plain": [
       "Company response to consumer   0    1   2\n",
       "Count of Company Complaints              \n",
       "1                             44  137  27\n",
       "2                             44  149  23\n",
       "3                             52  135  23\n",
       "4                             49  113  28\n",
       "5                             36  127  27"
      ]
     },
     "execution_count": 70,
     "metadata": {},
     "output_type": "execute_result"
    }
   ],
   "source": [
    "compl_v_resp.head()"
   ]
  },
  {
   "cell_type": "code",
   "execution_count": 71,
   "metadata": {
    "collapsed": false
   },
   "outputs": [],
   "source": [
    "compl_v_resp['Non-Relief Rate'] = compl_v_resp[0] / (compl_v_resp[0] + compl_v_resp[1])# + compl_v_resp[2])"
   ]
  },
  {
   "cell_type": "code",
   "execution_count": 72,
   "metadata": {
    "collapsed": false
   },
   "outputs": [],
   "source": [
    "compl_v_resp['Relief Rate'] = compl_v_resp[1] / (compl_v_resp[0] + compl_v_resp[1] )#+ compl_v_resp[2]) was [2] in num"
   ]
  },
  {
   "cell_type": "code",
   "execution_count": 73,
   "metadata": {
    "collapsed": false
   },
   "outputs": [
    {
     "data": {
      "text/html": [
       "<div>\n",
       "<table border=\"1\" class=\"dataframe\">\n",
       "  <thead>\n",
       "    <tr style=\"text-align: right;\">\n",
       "      <th>Company response to consumer</th>\n",
       "      <th>0</th>\n",
       "      <th>1</th>\n",
       "      <th>2</th>\n",
       "      <th>Non-Relief Rate</th>\n",
       "      <th>Relief Rate</th>\n",
       "    </tr>\n",
       "  </thead>\n",
       "  <tbody>\n",
       "    <tr>\n",
       "      <th>count</th>\n",
       "      <td>345.000000</td>\n",
       "      <td>345.000000</td>\n",
       "      <td>345.000000</td>\n",
       "      <td>345.000000</td>\n",
       "      <td>345.000000</td>\n",
       "    </tr>\n",
       "    <tr>\n",
       "      <th>mean</th>\n",
       "      <td>8.510145</td>\n",
       "      <td>186.950725</td>\n",
       "      <td>49.368116</td>\n",
       "      <td>0.077733</td>\n",
       "      <td>0.922267</td>\n",
       "    </tr>\n",
       "    <tr>\n",
       "      <th>std</th>\n",
       "      <td>18.049690</td>\n",
       "      <td>495.795644</td>\n",
       "      <td>198.212303</td>\n",
       "      <td>0.148026</td>\n",
       "      <td>0.148026</td>\n",
       "    </tr>\n",
       "    <tr>\n",
       "      <th>min</th>\n",
       "      <td>0.000000</td>\n",
       "      <td>0.000000</td>\n",
       "      <td>0.000000</td>\n",
       "      <td>0.000000</td>\n",
       "      <td>0.000000</td>\n",
       "    </tr>\n",
       "    <tr>\n",
       "      <th>25%</th>\n",
       "      <td>0.000000</td>\n",
       "      <td>39.000000</td>\n",
       "      <td>0.000000</td>\n",
       "      <td>0.000000</td>\n",
       "      <td>0.901408</td>\n",
       "    </tr>\n",
       "    <tr>\n",
       "      <th>50%</th>\n",
       "      <td>1.000000</td>\n",
       "      <td>74.000000</td>\n",
       "      <td>5.000000</td>\n",
       "      <td>0.006803</td>\n",
       "      <td>0.993197</td>\n",
       "    </tr>\n",
       "    <tr>\n",
       "      <th>75%</th>\n",
       "      <td>10.000000</td>\n",
       "      <td>124.000000</td>\n",
       "      <td>19.000000</td>\n",
       "      <td>0.098592</td>\n",
       "      <td>1.000000</td>\n",
       "    </tr>\n",
       "    <tr>\n",
       "      <th>max</th>\n",
       "      <td>152.000000</td>\n",
       "      <td>5091.000000</td>\n",
       "      <td>2310.000000</td>\n",
       "      <td>1.000000</td>\n",
       "      <td>1.000000</td>\n",
       "    </tr>\n",
       "  </tbody>\n",
       "</table>\n",
       "</div>"
      ],
      "text/plain": [
       "Company response to consumer           0            1            2  \\\n",
       "count                         345.000000   345.000000   345.000000   \n",
       "mean                            8.510145   186.950725    49.368116   \n",
       "std                            18.049690   495.795644   198.212303   \n",
       "min                             0.000000     0.000000     0.000000   \n",
       "25%                             0.000000    39.000000     0.000000   \n",
       "50%                             1.000000    74.000000     5.000000   \n",
       "75%                            10.000000   124.000000    19.000000   \n",
       "max                           152.000000  5091.000000  2310.000000   \n",
       "\n",
       "Company response to consumer  Non-Relief Rate  Relief Rate  \n",
       "count                              345.000000   345.000000  \n",
       "mean                                 0.077733     0.922267  \n",
       "std                                  0.148026     0.148026  \n",
       "min                                  0.000000     0.000000  \n",
       "25%                                  0.000000     0.901408  \n",
       "50%                                  0.006803     0.993197  \n",
       "75%                                  0.098592     1.000000  \n",
       "max                                  1.000000     1.000000  "
      ]
     },
     "execution_count": 73,
     "metadata": {},
     "output_type": "execute_result"
    }
   ],
   "source": [
    "compl_v_resp.describe()"
   ]
  },
  {
   "cell_type": "code",
   "execution_count": 74,
   "metadata": {
    "collapsed": false
   },
   "outputs": [
    {
     "data": {
      "text/plain": [
       "Int64Index([    1,     2,     3,     4,     5,     6,     7,     8,     9,\n",
       "               10,\n",
       "            ...\n",
       "            13974, 16481, 21808, 27674, 28475, 34129, 35640, 35730, 44080,\n",
       "            58108],\n",
       "           dtype='int64', name=u'Count of Company Complaints', length=345)"
      ]
     },
     "execution_count": 74,
     "metadata": {},
     "output_type": "execute_result"
    }
   ],
   "source": [
    "compl_v_resp.index"
   ]
  },
  {
   "cell_type": "code",
   "execution_count": 75,
   "metadata": {
    "collapsed": false
   },
   "outputs": [
    {
     "data": {
      "image/png": "[encoded data removed]",
      "text/plain": [
       "<matplotlib.figure.Figure at 0x14b8e4150>"
      ]
     },
     "metadata": {},
     "output_type": "display_data"
    }
   ],
   "source": [
    "fig = plt.figure(figsize=(10,8))\n",
    "plt.plot(compl_v_resp['Relief Rate'])\n",
    "plt.plot(compl_v_resp['Non-Relief Rate'])\n",
    "\n",
    "plt.xlim([0.0, 60000])\n",
    "plt.ylim([0.0, 1.05])\n",
    "plt.xlabel('Count of Complaints')\n",
    "plt.ylabel('Relief/Non-Relief Rate')\n",
    "#plt.title()\n",
    "plt.legend(loc=\"upper right\")\n",
    "plt.show()\n",
    "\n",
    "# Looks bad using 1/0 for releif sorting...  "
   ]
  },
  {
   "cell_type": "code",
   "execution_count": 76,
   "metadata": {
    "collapsed": true
   },
   "outputs": [],
   "source": [
    "day_sent = df['Date sent to company'].apply(lambda x: x.day)\n",
    "month_sent = df['Date sent to company'].apply(lambda x: x.month)\n",
    "year_sent = df['Date sent to company'].apply(lambda x: x.year)"
   ]
  },
  {
   "cell_type": "code",
   "execution_count": 77,
   "metadata": {
    "collapsed": true
   },
   "outputs": [],
   "source": [
    "month_v_resp = pd.crosstab(month_sent, df['Company response to consumer'])"
   ]
  },
  {
   "cell_type": "code",
   "execution_count": 78,
   "metadata": {
    "collapsed": false
   },
   "outputs": [],
   "source": [
    "month_v_resp['Non-Relief Rate'] = compl_v_resp[0] / (compl_v_resp[0] + compl_v_resp[1])# + compl_v_resp[2])\n",
    "month_v_resp['Relief Rate'] = compl_v_resp[1] / (compl_v_resp[0] + compl_v_resp[1] )#+ compl_v_resp[2]) was [2] in num"
   ]
  },
  {
   "cell_type": "code",
   "execution_count": 79,
   "metadata": {
    "collapsed": false
   },
   "outputs": [
    {
     "data": {
      "text/html": [
       "<div>\n",
       "<table border=\"1\" class=\"dataframe\">\n",
       "  <thead>\n",
       "    <tr style=\"text-align: right;\">\n",
       "      <th>Company response to consumer</th>\n",
       "      <th>0</th>\n",
       "      <th>1</th>\n",
       "      <th>2</th>\n",
       "      <th>Non-Relief Rate</th>\n",
       "      <th>Relief Rate</th>\n",
       "    </tr>\n",
       "    <tr>\n",
       "      <th>Date sent to company</th>\n",
       "      <th></th>\n",
       "      <th></th>\n",
       "      <th></th>\n",
       "      <th></th>\n",
       "      <th></th>\n",
       "    </tr>\n",
       "  </thead>\n",
       "  <tbody>\n",
       "    <tr>\n",
       "      <th>1</th>\n",
       "      <td>207</td>\n",
       "      <td>4342</td>\n",
       "      <td>981</td>\n",
       "      <td>0.243094</td>\n",
       "      <td>0.756906</td>\n",
       "    </tr>\n",
       "    <tr>\n",
       "      <th>2</th>\n",
       "      <td>228</td>\n",
       "      <td>4356</td>\n",
       "      <td>1047</td>\n",
       "      <td>0.227979</td>\n",
       "      <td>0.772021</td>\n",
       "    </tr>\n",
       "    <tr>\n",
       "      <th>3</th>\n",
       "      <td>283</td>\n",
       "      <td>6303</td>\n",
       "      <td>1642</td>\n",
       "      <td>0.278075</td>\n",
       "      <td>0.721925</td>\n",
       "    </tr>\n",
       "    <tr>\n",
       "      <th>4</th>\n",
       "      <td>396</td>\n",
       "      <td>8686</td>\n",
       "      <td>2240</td>\n",
       "      <td>0.302469</td>\n",
       "      <td>0.697531</td>\n",
       "    </tr>\n",
       "    <tr>\n",
       "      <th>5</th>\n",
       "      <td>326</td>\n",
       "      <td>7613</td>\n",
       "      <td>2038</td>\n",
       "      <td>0.220859</td>\n",
       "      <td>0.779141</td>\n",
       "    </tr>\n",
       "  </tbody>\n",
       "</table>\n",
       "</div>"
      ],
      "text/plain": [
       "Company response to consumer    0     1     2  Non-Relief Rate  Relief Rate\n",
       "Date sent to company                                                       \n",
       "1                             207  4342   981         0.243094     0.756906\n",
       "2                             228  4356  1047         0.227979     0.772021\n",
       "3                             283  6303  1642         0.278075     0.721925\n",
       "4                             396  8686  2240         0.302469     0.697531\n",
       "5                             326  7613  2038         0.220859     0.779141"
      ]
     },
     "execution_count": 79,
     "metadata": {},
     "output_type": "execute_result"
    }
   ],
   "source": [
    "month_v_resp.head()"
   ]
  },
  {
   "cell_type": "code",
   "execution_count": 80,
   "metadata": {
    "collapsed": false
   },
   "outputs": [
    {
     "data": {
      "image/png": "[encoded data removed]",
      "text/plain": [
       "<matplotlib.figure.Figure at 0x14b484310>"
      ]
     },
     "metadata": {},
     "output_type": "display_data"
    }
   ],
   "source": [
    "fig = plt.figure(figsize=(10,8))\n",
    "plt.plot(month_v_resp.index,month_v_resp['Relief Rate'])\n",
    "plt.plot(month_v_resp.index,month_v_resp['Non-Relief Rate'])\n",
    "\n",
    "plt.xlim([0.0, 12])\n",
    "plt.ylim([0.0, 0.30])\n",
    "plt.xlabel('Month')\n",
    "plt.ylabel('Relief/Non-Relief Rate')\n",
    "#plt.title('')\n",
    "plt.legend(loc=\"upper right\")\n",
    "plt.show()"
   ]
  },
  {
   "cell_type": "code",
   "execution_count": 81,
   "metadata": {
    "collapsed": true
   },
   "outputs": [],
   "source": [
    "state_v_resp = pd.crosstab(df['State'], df['Company response to consumer'])\n",
    "state_v_resp['Relief Rate'] = compl_v_resp[0] / (compl_v_resp[0] + compl_v_resp[1])# + compl_v_resp[2])\n",
    "state_v_resp['Non-Relief Rate'] = compl_v_resp[1] / (compl_v_resp[0] + compl_v_resp[1] )#+ compl_v_resp[2]) was [2] in num"
   ]
  },
  {
   "cell_type": "code",
   "execution_count": 82,
   "metadata": {
    "collapsed": false
   },
   "outputs": [],
   "source": [
    "# state_v_resp"
   ]
  },
  {
   "cell_type": "code",
   "execution_count": 83,
   "metadata": {
    "collapsed": false
   },
   "outputs": [
    {
     "data": {
      "image/png": "[encoded data removed]",
      "text/plain": [
       "<matplotlib.figure.Figure at 0x1503eebd0>"
      ]
     },
     "metadata": {},
     "output_type": "display_data"
    }
   ],
   "source": [
    "fig = plt.figure(figsize=(10,8))\n",
    "plt.plot(state_v_resp.index,state_v_resp['Relief Rate'])\n",
    "plt.plot(state_v_resp.index,state_v_resp['Non-Relief Rate'])\n",
    "\n",
    "plt.xlim([0.0, 60])\n",
    "plt.ylim([0.0, 0.6])\n",
    "plt.xlabel('State')\n",
    "plt.ylabel('Relief/Non-Relief Rate')\n",
    "# plt.title('')\n",
    "plt.legend(loc=\"upper left\")\n",
    "plt.show()"
   ]
  },
  {
   "cell_type": "code",
   "execution_count": 84,
   "metadata": {
    "collapsed": false
   },
   "outputs": [
    {
     "data": {
      "text/plain": [
       "0    84466\n",
       "Name: Submitted via, dtype: int64"
      ]
     },
     "execution_count": 84,
     "metadata": {},
     "output_type": "execute_result"
    }
   ],
   "source": [
    "df['Submitted via'].value_counts()"
   ]
  },
  {
   "cell_type": "code",
   "execution_count": 85,
   "metadata": {
    "collapsed": false
   },
   "outputs": [],
   "source": [
    "submit_v_resp = pd.crosstab(df['Submitted via'], df['Company response to consumer'])\n",
    "submit_v_resp['Relief Rate'] = submit_v_resp[0] /(submit_v_resp[0] + submit_v_resp[1] + submit_v_resp[2])\n",
    "submit_v_resp['Non-Relief Rate'] = submit_v_resp[2] /(submit_v_resp[0] + submit_v_resp[1] + submit_v_resp[2])\n",
    "# DOESNT WORK HERE SILLY, you've got to submit via web to add a customer narrative, or get a text response "
   ]
  },
  {
   "cell_type": "code",
   "execution_count": 86,
   "metadata": {
    "collapsed": false
   },
   "outputs": [
    {
     "data": {
      "text/html": [
       "<div>\n",
       "<table border=\"1\" class=\"dataframe\">\n",
       "  <thead>\n",
       "    <tr style=\"text-align: right;\">\n",
       "      <th>Company response to consumer</th>\n",
       "      <th>0</th>\n",
       "      <th>1</th>\n",
       "      <th>2</th>\n",
       "      <th>Relief Rate</th>\n",
       "      <th>Non-Relief Rate</th>\n",
       "    </tr>\n",
       "    <tr>\n",
       "      <th>Submitted via</th>\n",
       "      <th></th>\n",
       "      <th></th>\n",
       "      <th></th>\n",
       "      <th></th>\n",
       "      <th></th>\n",
       "    </tr>\n",
       "  </thead>\n",
       "  <tbody>\n",
       "    <tr>\n",
       "      <th>0</th>\n",
       "      <td>2936</td>\n",
       "      <td>64498</td>\n",
       "      <td>17032</td>\n",
       "      <td>0.03476</td>\n",
       "      <td>0.201643</td>\n",
       "    </tr>\n",
       "  </tbody>\n",
       "</table>\n",
       "</div>"
      ],
      "text/plain": [
       "Company response to consumer     0      1      2  Relief Rate  Non-Relief Rate\n",
       "Submitted via                                                                 \n",
       "0                             2936  64498  17032      0.03476         0.201643"
      ]
     },
     "execution_count": 86,
     "metadata": {},
     "output_type": "execute_result"
    }
   ],
   "source": [
    "submit_v_resp"
   ]
  },
  {
   "cell_type": "code",
   "execution_count": 87,
   "metadata": {
    "collapsed": false
   },
   "outputs": [],
   "source": [
    "# fig = plt.figure(figsize=(10,8))\n",
    "# plt.plot(submit_v_resp.index,submit_v_resp['Relief Rate'])\n",
    "# plt.plot(submit_v_resp.index,submit_v_resp['Non-Relief Rate'])\n",
    "\n",
    "# plt.xlim([0.0, 60])\n",
    "# plt.ylim([0.0, 6])\n",
    "# plt.xlabel('Submitted via')\n",
    "# plt.ylabel('Relief/Non-Relief Rate')\n",
    "# # plt.title('')\n",
    "# plt.legend(loc=\"upper left\")\n",
    "# plt.show()"
   ]
  },
  {
   "cell_type": "markdown",
   "metadata": {},
   "source": [
    "# STATISTICAL CHECKS"
   ]
  },
  {
   "cell_type": "markdown",
   "metadata": {
    "collapsed": true
   },
   "source": [
    "### Distribution of labels"
   ]
  },
  {
   "cell_type": "code",
   "execution_count": 88,
   "metadata": {
    "collapsed": false
   },
   "outputs": [
    {
     "data": {
      "text/plain": [
       "1    64498\n",
       "2    17032\n",
       "0     2936\n",
       "Name: Company response to consumer, dtype: int64"
      ]
     },
     "execution_count": 88,
     "metadata": {},
     "output_type": "execute_result"
    }
   ],
   "source": [
    "labels = df['Company response to consumer'].value_counts()\n",
    "labels\n",
    "# 1    6449  # 76.34% 1 - Closed w/Explanation\n",
    "# 2    17032 # 20.11% 2 - Closed w/Relief, Closed w/non-monetary relief, Close w/monetary relief\n",
    "# 0     2936 # 3.48%  0 - Untimley Response, Closed w/o Relief, Closed\n",
    "\n",
    "# 'Closed':0,\n",
    "#                  'Untimely response':0,\n",
    "#                  'Closed without relief':0,\n",
    "#                  'Closed with explanation':1,\n",
    "#                  'Closed with relief':2,\n",
    "#                  'Closed with non-monetary relief':2,\n",
    "#                  'Closed with monetary relief':2}"
   ]
  },
  {
   "cell_type": "code",
   "execution_count": null,
   "metadata": {
    "collapsed": false
   },
   "outputs": [],
   "source": []
  },
  {
   "cell_type": "code",
   "execution_count": null,
   "metadata": {
    "collapsed": true
   },
   "outputs": [],
   "source": []
  },
  {
   "cell_type": "code",
   "execution_count": null,
   "metadata": {
    "collapsed": true
   },
   "outputs": [],
   "source": []
  },
  {
   "cell_type": "code",
   "execution_count": null,
   "metadata": {
    "collapsed": true
   },
   "outputs": [],
   "source": []
  },
  {
   "cell_type": "code",
   "execution_count": null,
   "metadata": {
    "collapsed": true
   },
   "outputs": [],
   "source": []
  },
  {
   "cell_type": "code",
   "execution_count": null,
   "metadata": {
    "collapsed": true
   },
   "outputs": [],
   "source": []
  },
  {
   "cell_type": "code",
   "execution_count": null,
   "metadata": {
    "collapsed": true
   },
   "outputs": [],
   "source": []
  },
  {
   "cell_type": "code",
   "execution_count": null,
   "metadata": {
    "collapsed": true
   },
   "outputs": [],
   "source": []
  },
  {
   "cell_type": "code",
   "execution_count": null,
   "metadata": {
    "collapsed": true
   },
   "outputs": [],
   "source": []
  },
  {
   "cell_type": "markdown",
   "metadata": {},
   "source": [
    "# MODELING"
   ]
  },
  {
   "cell_type": "code",
   "execution_count": 89,
   "metadata": {
    "collapsed": true
   },
   "outputs": [],
   "source": [
    "from sklearn.feature_extraction.text import TfidfVectorizer, CountVectorizer, TfidfTransformer\n",
    "\n",
    "from sklearn.pipeline import Pipeline\n",
    "from sklearn.grid_search import GridSearchCV\n",
    "from sklearn.preprocessing import StandardScaler, label_binarize, MaxAbsScaler\n",
    "from sklearn.cross_validation import train_test_split\n",
    "\n",
    "import sklearn.metrics as skm\n",
    "from sklearn.metrics import roc_curve, auc\n",
    "\n",
    "from scipy import interp\n",
    "\n",
    "from nltk import word_tokenize\n",
    "from nltk.stem.snowball import SnowballStemmer\n",
    "\n",
    "from sklearn.linear_model import LogisticRegression, SGDClassifier\n",
    "from sklearn.naive_bayes import MultinomialNB\n",
    "from sklearn.multiclass import OneVsRestClassifier\n",
    "from sklearn.ensemble import RandomForestClassifier\n",
    "from sklearn.svm import SVC"
   ]
  },
  {
   "cell_type": "markdown",
   "metadata": {},
   "source": [
    "## Non-Text Features"
   ]
  },
  {
   "cell_type": "code",
   "execution_count": 90,
   "metadata": {
    "collapsed": false
   },
   "outputs": [
    {
     "data": {
      "text/plain": [
       "(84466,)"
      ]
     },
     "execution_count": 90,
     "metadata": {},
     "output_type": "execute_result"
    }
   ],
   "source": [
    "X = model_data.values\n",
    "y_start = df['Company response to consumer']\n",
    "y = label_binarize(y_start, classes = [0, 1, 2])\n",
    "n_classes = 2\n",
    "y_start.shape"
   ]
  },
  {
   "cell_type": "code",
   "execution_count": 91,
   "metadata": {
    "collapsed": true
   },
   "outputs": [],
   "source": [
    "X_train, X_test, y_train, y_test = train_test_split(X, y, test_size=0.3, random_state=11)"
   ]
  },
  {
   "cell_type": "code",
   "execution_count": 92,
   "metadata": {
    "collapsed": false
   },
   "outputs": [
    {
     "name": "stderr",
     "output_type": "stream",
     "text": [
      "//anaconda/lib/python2.7/site-packages/sklearn/utils/validation.py:420: DataConversionWarning: Data with input dtype object was converted to float64 by StandardScaler.\n",
      "  warnings.warn(msg, DataConversionWarning)\n",
      "//anaconda/lib/python2.7/site-packages/sklearn/utils/validation.py:420: DataConversionWarning: Data with input dtype object was converted to float64 by StandardScaler.\n",
      "  warnings.warn(msg, DataConversionWarning)\n",
      "//anaconda/lib/python2.7/site-packages/sklearn/utils/validation.py:420: DataConversionWarning: Data with input dtype object was converted to float64 by StandardScaler.\n",
      "  warnings.warn(msg, DataConversionWarning)\n"
     ]
    },
    {
     "data": {
      "text/plain": [
       "(59126, 3)"
      ]
     },
     "execution_count": 92,
     "metadata": {},
     "output_type": "execute_result"
    }
   ],
   "source": [
    "# Standardize features by removing the mean and scaling to unit variance\n",
    "scaler = StandardScaler()\n",
    "scaler.fit(X_train)\n",
    "X_train = scaler.transform(X_train)\n",
    "X_test = scaler.transform(X_test)\n",
    "# X_train.shape\n",
    "y_train.shape"
   ]
  },
  {
   "cell_type": "markdown",
   "metadata": {},
   "source": [
    "#### Using One v Rest classifier to predict each class against the other with NB"
   ]
  },
  {
   "cell_type": "code",
   "execution_count": 93,
   "metadata": {
    "collapsed": false
   },
   "outputs": [],
   "source": [
    "clf = OneVsRestClassifier(RandomForestClassifier(n_estimators=500, n_jobs=-1, class_weight='auto'))\n",
    "y_score = clf.fit(X_train, y_train).predict_proba(X_test)"
   ]
  },
  {
   "cell_type": "code",
   "execution_count": 94,
   "metadata": {
    "collapsed": false
   },
   "outputs": [
    {
     "name": "stdout",
     "output_type": "stream",
     "text": [
      "0.53820047356\n"
     ]
    }
   ],
   "source": [
    "score = clf.score(X_test, y_test)\n",
    "# accuracy = clf.accuracy()\n",
    "# Precision_Recall = clf.rec\n",
    "\n",
    "print score"
   ]
  },
  {
   "cell_type": "code",
   "execution_count": 95,
   "metadata": {
    "collapsed": false
   },
   "outputs": [],
   "source": [
    "# Compute ROC curve and ROC area for each class\n",
    "fpr = dict()\n",
    "tpr = dict()\n",
    "roc_auc = dict()\n",
    "for i in range(n_classes):\n",
    "    fpr[i], tpr[i], _ = roc_curve(y_test[:, i],y_score[:, i],drop_intermediate=False)\n",
    "    roc_auc[i] = auc(fpr[i], tpr[i])"
   ]
  },
  {
   "cell_type": "code",
   "execution_count": 96,
   "metadata": {
    "collapsed": false
   },
   "outputs": [
    {
     "data": {
      "image/png": "[encoded data removed]",
      "text/plain": [
       "<matplotlib.figure.Figure at 0x15b580a10>"
      ]
     },
     "metadata": {},
     "output_type": "display_data"
    }
   ],
   "source": [
    "fig = plt.figure(figsize=(10, 8))\n",
    "\n",
    "label = ['Closed w/o Relief', 'Closed w/relief']  #'Closed w/explaination',\n",
    "for i,v in enumerate(label):\n",
    "    plt.plot(fpr[i], tpr[i], label= v + ' (auc_area = {1:0.2f})'\n",
    "                                   ''.format(i, roc_auc[i]))\n",
    "    \n",
    "plt.plot([0, 1], [0, 1], 'k--')\n",
    "\n",
    "plt.xlim([0.0, 1.0])\n",
    "plt.ylim([0.0, 1.05])\n",
    "plt.xlabel('False Positive Rate (1 - Specificity)')\n",
    "plt.ylabel('True Positive Rate (Sensitivity, Recall)')\n",
    "plt.title('ROC with non-text Features')\n",
    "plt.legend(loc=\"lower right\")\n",
    "\n",
    "\n",
    "plt.show()"
   ]
  },
  {
   "cell_type": "markdown",
   "metadata": {},
   "source": [
    "#### Random Forest"
   ]
  },
  {
   "cell_type": "code",
   "execution_count": 97,
   "metadata": {
    "collapsed": false
   },
   "outputs": [
    {
     "data": {
      "text/plain": [
       "RandomForestClassifier(bootstrap=True, class_weight='auto', criterion='gini',\n",
       "            max_depth=None, max_features='auto', max_leaf_nodes=None,\n",
       "            min_samples_leaf=1, min_samples_split=2,\n",
       "            min_weight_fraction_leaf=0.0, n_estimators=750, n_jobs=-1,\n",
       "            oob_score=False, random_state=None, verbose=0,\n",
       "            warm_start=False)"
      ]
     },
     "execution_count": 97,
     "metadata": {},
     "output_type": "execute_result"
    }
   ],
   "source": [
    "rfc = RandomForestClassifier(n_estimators=750, n_jobs=-1, class_weight='auto')\n",
    "rfc.fit(X_train, y_train)"
   ]
  },
  {
   "cell_type": "code",
   "execution_count": 98,
   "metadata": {
    "collapsed": true
   },
   "outputs": [],
   "source": [
    "def feat_importance(clf, X, max_features=10):\n",
    "    '''Plot Feature Importance'''\n",
    "    feature_importance = clf.feature_importances_\n",
    "    \n",
    "    # Make importances rel to max importance\n",
    "    feature_importance = 100.0 * (feature_importance / feature_importance.max())\n",
    "    sorted_idx = np.argsort(feature_importance)\n",
    "    pos = np.arange(sorted_idx.shape[0]) + .5\n",
    "    \n",
    "    # Show only top XX features\n",
    "    pos = pos[-max_features:]\n",
    "    feature_importance = (feature_importance[sorted_idx])[-max_features:]\n",
    "    feature_names = (X.columns[sorted_idx])[-max_features:]\n",
    "    \n",
    "    plt.barh(pos, feature_importance, align='center')\n",
    "    plt.yticks(pos, feature_names)\n",
    "    plt.xlabel('Relative Importance')\n",
    "    plt.title('Non-Text Feature Importance')\n",
    "    \n",
    "    plt.show()"
   ]
  },
  {
   "cell_type": "code",
   "execution_count": 99,
   "metadata": {
    "collapsed": false
   },
   "outputs": [
    {
     "data": {
      "image/png": "[encoded data removed]",
      "text/plain": [
       "<matplotlib.figure.Figure at 0x14b132590>"
      ]
     },
     "metadata": {},
     "output_type": "display_data"
    }
   ],
   "source": [
    "feat_importance(rfc, model_data, max_features=10)"
   ]
  },
  {
   "cell_type": "markdown",
   "metadata": {},
   "source": [
    "## Logistic Regression\n"
   ]
  },
  {
   "cell_type": "code",
   "execution_count": null,
   "metadata": {
    "collapsed": false
   },
   "outputs": [],
   "source": [
    "lr = LogisticRegression(class_weight='auto')\n",
    "lr.fit(X_train, y_train)"
   ]
  },
  {
   "cell_type": "code",
   "execution_count": null,
   "metadata": {
    "collapsed": false
   },
   "outputs": [],
   "source": [
    "v_probs = lr.predict_proba(X_test)[:, 1]"
   ]
  },
  {
   "cell_type": "code",
   "execution_count": null,
   "metadata": {
    "collapsed": true
   },
   "outputs": [],
   "source": [
    "def roc_curve(probabilities, labels):\n",
    "    '''\n",
    "    INPUT: numpy array, numpy array\n",
    "    OUTPUT: list, list, list\n",
    "\n",
    "    Take a numpy array of the predicted probabilities and a numpy array of the\n",
    "    true labels.\n",
    "    Return the True Positive Rates, False Positive Rates and Thresholds for the\n",
    "    ROC curve.\n",
    "    '''\n",
    "\n",
    "    thresholds = np.sort(probabilities)\n",
    "\n",
    "    tprs = []\n",
    "    fprs = []\n",
    "\n",
    "    num_positive_cases = sum(labels)\n",
    "    num_negative_cases = len(labels) - num_positive_cases\n",
    "\n",
    "    for threshold in thresholds:\n",
    "        # With this threshold, give the prediction of each instance\n",
    "        predicted_positive = probabilities >= threshold\n",
    "        # Calculate the number of correctly predicted positive cases\n",
    "        true_positives = np.sum(predicted_positive * labels)\n",
    "        # Calculate the number of incorrectly predicted positive cases\n",
    "        false_positives = np.sum(predicted_positive) - true_positives\n",
    "        # Calculate the True Positive Rate\n",
    "        tpr = true_positives / float(num_positive_cases)\n",
    "        # Calculate the False Positive Rate\n",
    "        fpr = false_positives / float(num_negative_cases)\n",
    "\n",
    "        fprs.append(fpr)\n",
    "        tprs.append(tpr)\n",
    "    \n",
    "    return tprs, fprs, thresholds.tolist()\n",
    "\n",
    "def plot_roc(v_probs, y_test, title, xlabel, ylabel):\n",
    "    # ROC\n",
    "    fig = plt.figure(figsize = (8,6))\n",
    "    tpr, fpr, thresholds = roc_curve(v_probs, y_test)\n",
    "    \n",
    "    import sklearn.metrics as skm\n",
    "    auc = skm.roc_auc_score(y_test, v_probs)\n",
    "\n",
    "    plt.hold(True)\n",
    "    plt.plot(fpr, tpr)\n",
    "\n",
    "    # 45 degree line\n",
    "    xx = np.linspace(0, 1.0, 20)\n",
    "    plt.plot(xx, xx, 'k--')\n",
    "\n",
    "    plt.xlabel(xlabel)\n",
    "    plt.ylabel(ylabel)\n",
    "    plt.title(title)\n",
    "\n",
    "    plt.show()\n",
    "    fig.savefig(title+'.png')"
   ]
  },
  {
   "cell_type": "code",
   "execution_count": 110,
   "metadata": {
    "collapsed": false
   },
   "outputs": [
    {
     "data": {
      "text/html": [
       "<div>\n",
       "<table border=\"1\" class=\"dataframe\">\n",
       "  <thead>\n",
       "    <tr style=\"text-align: right;\">\n",
       "      <th></th>\n",
       "      <th>Date received</th>\n",
       "      <th>Product</th>\n",
       "      <th>Sub-product</th>\n",
       "      <th>Issue</th>\n",
       "      <th>Sub-issue</th>\n",
       "      <th>Consumer complaint narrative</th>\n",
       "      <th>Company public response</th>\n",
       "      <th>Company</th>\n",
       "      <th>State</th>\n",
       "      <th>ZIP code</th>\n",
       "      <th>Tags</th>\n",
       "      <th>Consumer consent provided?</th>\n",
       "      <th>Submitted via</th>\n",
       "      <th>Date sent to company</th>\n",
       "      <th>Company response to consumer</th>\n",
       "      <th>Timely response?</th>\n",
       "      <th>Consumer disputed?</th>\n",
       "      <th>Complaint ID</th>\n",
       "    </tr>\n",
       "  </thead>\n",
       "  <tbody>\n",
       "    <tr>\n",
       "      <th>0</th>\n",
       "      <td>07/29/2013</td>\n",
       "      <td>Consumer Loan</td>\n",
       "      <td>Vehicle loan</td>\n",
       "      <td>Managing the loan or lease</td>\n",
       "      <td>NaN</td>\n",
       "      <td>NaN</td>\n",
       "      <td>NaN</td>\n",
       "      <td>Wells Fargo &amp; Company</td>\n",
       "      <td>VA</td>\n",
       "      <td>24540</td>\n",
       "      <td>NaN</td>\n",
       "      <td>NaN</td>\n",
       "      <td>Phone</td>\n",
       "      <td>07/30/2013</td>\n",
       "      <td>Closed with explanation</td>\n",
       "      <td>Yes</td>\n",
       "      <td>No</td>\n",
       "      <td>468882</td>\n",
       "    </tr>\n",
       "    <tr>\n",
       "      <th>1</th>\n",
       "      <td>07/29/2013</td>\n",
       "      <td>Bank account or service</td>\n",
       "      <td>Checking account</td>\n",
       "      <td>Using a debit or ATM card</td>\n",
       "      <td>NaN</td>\n",
       "      <td>NaN</td>\n",
       "      <td>NaN</td>\n",
       "      <td>Wells Fargo &amp; Company</td>\n",
       "      <td>CA</td>\n",
       "      <td>95992</td>\n",
       "      <td>Older American</td>\n",
       "      <td>NaN</td>\n",
       "      <td>Web</td>\n",
       "      <td>07/31/2013</td>\n",
       "      <td>Closed with explanation</td>\n",
       "      <td>Yes</td>\n",
       "      <td>No</td>\n",
       "      <td>468889</td>\n",
       "    </tr>\n",
       "    <tr>\n",
       "      <th>2</th>\n",
       "      <td>07/29/2013</td>\n",
       "      <td>Bank account or service</td>\n",
       "      <td>Checking account</td>\n",
       "      <td>Account opening, closing, or management</td>\n",
       "      <td>NaN</td>\n",
       "      <td>NaN</td>\n",
       "      <td>NaN</td>\n",
       "      <td>Santander Bank US</td>\n",
       "      <td>NY</td>\n",
       "      <td>10065</td>\n",
       "      <td>NaN</td>\n",
       "      <td>NaN</td>\n",
       "      <td>Fax</td>\n",
       "      <td>07/31/2013</td>\n",
       "      <td>Closed</td>\n",
       "      <td>Yes</td>\n",
       "      <td>No</td>\n",
       "      <td>468879</td>\n",
       "    </tr>\n",
       "    <tr>\n",
       "      <th>3</th>\n",
       "      <td>07/29/2013</td>\n",
       "      <td>Bank account or service</td>\n",
       "      <td>Checking account</td>\n",
       "      <td>Deposits and withdrawals</td>\n",
       "      <td>NaN</td>\n",
       "      <td>NaN</td>\n",
       "      <td>NaN</td>\n",
       "      <td>Wells Fargo &amp; Company</td>\n",
       "      <td>GA</td>\n",
       "      <td>30084</td>\n",
       "      <td>NaN</td>\n",
       "      <td>NaN</td>\n",
       "      <td>Web</td>\n",
       "      <td>07/30/2013</td>\n",
       "      <td>Closed with explanation</td>\n",
       "      <td>Yes</td>\n",
       "      <td>No</td>\n",
       "      <td>468949</td>\n",
       "    </tr>\n",
       "    <tr>\n",
       "      <th>4</th>\n",
       "      <td>07/29/2013</td>\n",
       "      <td>Mortgage</td>\n",
       "      <td>Conventional fixed mortgage</td>\n",
       "      <td>Loan servicing, payments, escrow account</td>\n",
       "      <td>NaN</td>\n",
       "      <td>NaN</td>\n",
       "      <td>NaN</td>\n",
       "      <td>Franklin Credit Management</td>\n",
       "      <td>CT</td>\n",
       "      <td>06106</td>\n",
       "      <td>NaN</td>\n",
       "      <td>NaN</td>\n",
       "      <td>Web</td>\n",
       "      <td>07/30/2013</td>\n",
       "      <td>Closed with explanation</td>\n",
       "      <td>Yes</td>\n",
       "      <td>No</td>\n",
       "      <td>475823</td>\n",
       "    </tr>\n",
       "    <tr>\n",
       "      <th>5</th>\n",
       "      <td>07/29/2013</td>\n",
       "      <td>Bank account or service</td>\n",
       "      <td>Checking account</td>\n",
       "      <td>Deposits and withdrawals</td>\n",
       "      <td>NaN</td>\n",
       "      <td>NaN</td>\n",
       "      <td>NaN</td>\n",
       "      <td>Bank of America</td>\n",
       "      <td>TX</td>\n",
       "      <td>75025</td>\n",
       "      <td>NaN</td>\n",
       "      <td>NaN</td>\n",
       "      <td>Web</td>\n",
       "      <td>07/30/2013</td>\n",
       "      <td>Closed with explanation</td>\n",
       "      <td>Yes</td>\n",
       "      <td>No</td>\n",
       "      <td>468981</td>\n",
       "    </tr>\n",
       "    <tr>\n",
       "      <th>6</th>\n",
       "      <td>07/29/2013</td>\n",
       "      <td>Debt collection</td>\n",
       "      <td>Other (i.e. phone, health club, etc.)</td>\n",
       "      <td>Cont'd attempts collect debt not owed</td>\n",
       "      <td>Debt is not mine</td>\n",
       "      <td>NaN</td>\n",
       "      <td>NaN</td>\n",
       "      <td>NRA Group, LLC</td>\n",
       "      <td>VA</td>\n",
       "      <td>20147</td>\n",
       "      <td>NaN</td>\n",
       "      <td>NaN</td>\n",
       "      <td>Web</td>\n",
       "      <td>08/07/2013</td>\n",
       "      <td>Closed with non-monetary relief</td>\n",
       "      <td>Yes</td>\n",
       "      <td>No</td>\n",
       "      <td>467801</td>\n",
       "    </tr>\n",
       "    <tr>\n",
       "      <th>7</th>\n",
       "      <td>07/29/2013</td>\n",
       "      <td>Debt collection</td>\n",
       "      <td>I do not know</td>\n",
       "      <td>Cont'd attempts collect debt not owed</td>\n",
       "      <td>Debt was paid</td>\n",
       "      <td>NaN</td>\n",
       "      <td>NaN</td>\n",
       "      <td>SunTrust Banks, Inc.</td>\n",
       "      <td>FL</td>\n",
       "      <td>32818</td>\n",
       "      <td>NaN</td>\n",
       "      <td>NaN</td>\n",
       "      <td>Referral</td>\n",
       "      <td>08/01/2013</td>\n",
       "      <td>Closed with explanation</td>\n",
       "      <td>Yes</td>\n",
       "      <td>Yes</td>\n",
       "      <td>475728</td>\n",
       "    </tr>\n",
       "    <tr>\n",
       "      <th>8</th>\n",
       "      <td>07/29/2013</td>\n",
       "      <td>Credit card</td>\n",
       "      <td>NaN</td>\n",
       "      <td>Billing statement</td>\n",
       "      <td>NaN</td>\n",
       "      <td>NaN</td>\n",
       "      <td>NaN</td>\n",
       "      <td>Citibank</td>\n",
       "      <td>OH</td>\n",
       "      <td>45247</td>\n",
       "      <td>NaN</td>\n",
       "      <td>NaN</td>\n",
       "      <td>Referral</td>\n",
       "      <td>07/30/2013</td>\n",
       "      <td>Closed with explanation</td>\n",
       "      <td>Yes</td>\n",
       "      <td>Yes</td>\n",
       "      <td>469026</td>\n",
       "    </tr>\n",
       "    <tr>\n",
       "      <th>9</th>\n",
       "      <td>07/29/2013</td>\n",
       "      <td>Mortgage</td>\n",
       "      <td>Other mortgage</td>\n",
       "      <td>Loan servicing, payments, escrow account</td>\n",
       "      <td>NaN</td>\n",
       "      <td>NaN</td>\n",
       "      <td>NaN</td>\n",
       "      <td>Wells Fargo &amp; Company</td>\n",
       "      <td>NV</td>\n",
       "      <td>89511</td>\n",
       "      <td>NaN</td>\n",
       "      <td>NaN</td>\n",
       "      <td>Referral</td>\n",
       "      <td>07/30/2013</td>\n",
       "      <td>Closed with explanation</td>\n",
       "      <td>Yes</td>\n",
       "      <td>Yes</td>\n",
       "      <td>469035</td>\n",
       "    </tr>\n",
       "    <tr>\n",
       "      <th>10</th>\n",
       "      <td>07/29/2013</td>\n",
       "      <td>Mortgage</td>\n",
       "      <td>Other mortgage</td>\n",
       "      <td>Loan modification,collection,foreclosure</td>\n",
       "      <td>NaN</td>\n",
       "      <td>NaN</td>\n",
       "      <td>NaN</td>\n",
       "      <td>Bank of America</td>\n",
       "      <td>NC</td>\n",
       "      <td>27949</td>\n",
       "      <td>NaN</td>\n",
       "      <td>NaN</td>\n",
       "      <td>Referral</td>\n",
       "      <td>07/30/2013</td>\n",
       "      <td>Closed with non-monetary relief</td>\n",
       "      <td>Yes</td>\n",
       "      <td>No</td>\n",
       "      <td>469037</td>\n",
       "    </tr>\n",
       "    <tr>\n",
       "      <th>11</th>\n",
       "      <td>07/29/2013</td>\n",
       "      <td>Mortgage</td>\n",
       "      <td>Other mortgage</td>\n",
       "      <td>Loan servicing, payments, escrow account</td>\n",
       "      <td>NaN</td>\n",
       "      <td>NaN</td>\n",
       "      <td>NaN</td>\n",
       "      <td>JPMorgan Chase &amp; Co.</td>\n",
       "      <td>CA</td>\n",
       "      <td>90703</td>\n",
       "      <td>NaN</td>\n",
       "      <td>NaN</td>\n",
       "      <td>Referral</td>\n",
       "      <td>07/30/2013</td>\n",
       "      <td>Closed with explanation</td>\n",
       "      <td>Yes</td>\n",
       "      <td>No</td>\n",
       "      <td>469284</td>\n",
       "    </tr>\n",
       "    <tr>\n",
       "      <th>12</th>\n",
       "      <td>07/29/2013</td>\n",
       "      <td>Mortgage</td>\n",
       "      <td>Other mortgage</td>\n",
       "      <td>Loan modification,collection,foreclosure</td>\n",
       "      <td>NaN</td>\n",
       "      <td>NaN</td>\n",
       "      <td>NaN</td>\n",
       "      <td>Citibank</td>\n",
       "      <td>CA</td>\n",
       "      <td>95821</td>\n",
       "      <td>NaN</td>\n",
       "      <td>NaN</td>\n",
       "      <td>Referral</td>\n",
       "      <td>07/31/2013</td>\n",
       "      <td>Closed with explanation</td>\n",
       "      <td>Yes</td>\n",
       "      <td>Yes</td>\n",
       "      <td>480488</td>\n",
       "    </tr>\n",
       "    <tr>\n",
       "      <th>13</th>\n",
       "      <td>07/29/2013</td>\n",
       "      <td>Debt collection</td>\n",
       "      <td>Credit card</td>\n",
       "      <td>Communication tactics</td>\n",
       "      <td>Frequent or repeated calls</td>\n",
       "      <td>NaN</td>\n",
       "      <td>NaN</td>\n",
       "      <td>Asset Management Professionals, LLC</td>\n",
       "      <td>PA</td>\n",
       "      <td>19145</td>\n",
       "      <td>Older American</td>\n",
       "      <td>NaN</td>\n",
       "      <td>Phone</td>\n",
       "      <td>08/01/2013</td>\n",
       "      <td>Closed with explanation</td>\n",
       "      <td>No</td>\n",
       "      <td>NaN</td>\n",
       "      <td>468904</td>\n",
       "    </tr>\n",
       "    <tr>\n",
       "      <th>14</th>\n",
       "      <td>07/29/2013</td>\n",
       "      <td>Debt collection</td>\n",
       "      <td>Credit card</td>\n",
       "      <td>Communication tactics</td>\n",
       "      <td>Frequent or repeated calls</td>\n",
       "      <td>NaN</td>\n",
       "      <td>NaN</td>\n",
       "      <td>Wells Fargo &amp; Company</td>\n",
       "      <td>PA</td>\n",
       "      <td>19145</td>\n",
       "      <td>Older American</td>\n",
       "      <td>NaN</td>\n",
       "      <td>Phone</td>\n",
       "      <td>08/01/2013</td>\n",
       "      <td>Closed with non-monetary relief</td>\n",
       "      <td>Yes</td>\n",
       "      <td>No</td>\n",
       "      <td>468905</td>\n",
       "    </tr>\n",
       "    <tr>\n",
       "      <th>15</th>\n",
       "      <td>07/29/2013</td>\n",
       "      <td>Mortgage</td>\n",
       "      <td>Conventional fixed mortgage</td>\n",
       "      <td>Loan modification,collection,foreclosure</td>\n",
       "      <td>NaN</td>\n",
       "      <td>NaN</td>\n",
       "      <td>NaN</td>\n",
       "      <td>JPMorgan Chase &amp; Co.</td>\n",
       "      <td>NY</td>\n",
       "      <td>14092</td>\n",
       "      <td>NaN</td>\n",
       "      <td>NaN</td>\n",
       "      <td>Phone</td>\n",
       "      <td>07/31/2013</td>\n",
       "      <td>Closed with explanation</td>\n",
       "      <td>Yes</td>\n",
       "      <td>No</td>\n",
       "      <td>469057</td>\n",
       "    </tr>\n",
       "    <tr>\n",
       "      <th>16</th>\n",
       "      <td>07/29/2013</td>\n",
       "      <td>Mortgage</td>\n",
       "      <td>Conventional fixed mortgage</td>\n",
       "      <td>Loan modification,collection,foreclosure</td>\n",
       "      <td>NaN</td>\n",
       "      <td>NaN</td>\n",
       "      <td>NaN</td>\n",
       "      <td>Ocwen</td>\n",
       "      <td>FL</td>\n",
       "      <td>33426</td>\n",
       "      <td>NaN</td>\n",
       "      <td>NaN</td>\n",
       "      <td>Web</td>\n",
       "      <td>07/31/2013</td>\n",
       "      <td>Closed with explanation</td>\n",
       "      <td>Yes</td>\n",
       "      <td>Yes</td>\n",
       "      <td>469060</td>\n",
       "    </tr>\n",
       "    <tr>\n",
       "      <th>17</th>\n",
       "      <td>07/29/2013</td>\n",
       "      <td>Mortgage</td>\n",
       "      <td>Conventional fixed mortgage</td>\n",
       "      <td>Loan modification,collection,foreclosure</td>\n",
       "      <td>NaN</td>\n",
       "      <td>NaN</td>\n",
       "      <td>NaN</td>\n",
       "      <td>JPMorgan Chase &amp; Co.</td>\n",
       "      <td>NY</td>\n",
       "      <td>10019</td>\n",
       "      <td>NaN</td>\n",
       "      <td>NaN</td>\n",
       "      <td>Web</td>\n",
       "      <td>07/30/2013</td>\n",
       "      <td>Closed with explanation</td>\n",
       "      <td>Yes</td>\n",
       "      <td>Yes</td>\n",
       "      <td>469070</td>\n",
       "    </tr>\n",
       "    <tr>\n",
       "      <th>18</th>\n",
       "      <td>07/29/2013</td>\n",
       "      <td>Mortgage</td>\n",
       "      <td>Conventional fixed mortgage</td>\n",
       "      <td>Loan servicing, payments, escrow account</td>\n",
       "      <td>NaN</td>\n",
       "      <td>NaN</td>\n",
       "      <td>NaN</td>\n",
       "      <td>Citibank</td>\n",
       "      <td>NJ</td>\n",
       "      <td>07604</td>\n",
       "      <td>NaN</td>\n",
       "      <td>NaN</td>\n",
       "      <td>Web</td>\n",
       "      <td>07/30/2013</td>\n",
       "      <td>Closed with explanation</td>\n",
       "      <td>Yes</td>\n",
       "      <td>No</td>\n",
       "      <td>472236</td>\n",
       "    </tr>\n",
       "    <tr>\n",
       "      <th>19</th>\n",
       "      <td>07/29/2013</td>\n",
       "      <td>Credit card</td>\n",
       "      <td>NaN</td>\n",
       "      <td>APR or interest rate</td>\n",
       "      <td>NaN</td>\n",
       "      <td>NaN</td>\n",
       "      <td>NaN</td>\n",
       "      <td>Synchrony Financial</td>\n",
       "      <td>WA</td>\n",
       "      <td>98548</td>\n",
       "      <td>NaN</td>\n",
       "      <td>NaN</td>\n",
       "      <td>Web</td>\n",
       "      <td>07/29/2013</td>\n",
       "      <td>Closed with monetary relief</td>\n",
       "      <td>Yes</td>\n",
       "      <td>No</td>\n",
       "      <td>469131</td>\n",
       "    </tr>\n",
       "    <tr>\n",
       "      <th>20</th>\n",
       "      <td>07/29/2013</td>\n",
       "      <td>Credit reporting</td>\n",
       "      <td>NaN</td>\n",
       "      <td>Credit monitoring or identity protection</td>\n",
       "      <td>Problem cancelling or closing account</td>\n",
       "      <td>NaN</td>\n",
       "      <td>NaN</td>\n",
       "      <td>Experian</td>\n",
       "      <td>CA</td>\n",
       "      <td>90034</td>\n",
       "      <td>NaN</td>\n",
       "      <td>NaN</td>\n",
       "      <td>Web</td>\n",
       "      <td>07/29/2013</td>\n",
       "      <td>Closed with monetary relief</td>\n",
       "      <td>Yes</td>\n",
       "      <td>No</td>\n",
       "      <td>474204</td>\n",
       "    </tr>\n",
       "    <tr>\n",
       "      <th>21</th>\n",
       "      <td>07/29/2013</td>\n",
       "      <td>Mortgage</td>\n",
       "      <td>Conventional adjustable mortgage (ARM)</td>\n",
       "      <td>Loan modification,collection,foreclosure</td>\n",
       "      <td>NaN</td>\n",
       "      <td>NaN</td>\n",
       "      <td>NaN</td>\n",
       "      <td>Bank of America</td>\n",
       "      <td>HI</td>\n",
       "      <td>96793</td>\n",
       "      <td>NaN</td>\n",
       "      <td>NaN</td>\n",
       "      <td>Web</td>\n",
       "      <td>07/31/2013</td>\n",
       "      <td>Closed with explanation</td>\n",
       "      <td>Yes</td>\n",
       "      <td>No</td>\n",
       "      <td>469138</td>\n",
       "    </tr>\n",
       "    <tr>\n",
       "      <th>22</th>\n",
       "      <td>07/29/2013</td>\n",
       "      <td>Mortgage</td>\n",
       "      <td>Other mortgage</td>\n",
       "      <td>Application, originator, mortgage broker</td>\n",
       "      <td>NaN</td>\n",
       "      <td>NaN</td>\n",
       "      <td>NaN</td>\n",
       "      <td>JPMorgan Chase &amp; Co.</td>\n",
       "      <td>FL</td>\n",
       "      <td>32825</td>\n",
       "      <td>NaN</td>\n",
       "      <td>NaN</td>\n",
       "      <td>Postal mail</td>\n",
       "      <td>07/30/2013</td>\n",
       "      <td>Closed with explanation</td>\n",
       "      <td>Yes</td>\n",
       "      <td>No</td>\n",
       "      <td>469143</td>\n",
       "    </tr>\n",
       "    <tr>\n",
       "      <th>23</th>\n",
       "      <td>07/29/2013</td>\n",
       "      <td>Mortgage</td>\n",
       "      <td>Conventional fixed mortgage</td>\n",
       "      <td>Application, originator, mortgage broker</td>\n",
       "      <td>NaN</td>\n",
       "      <td>NaN</td>\n",
       "      <td>NaN</td>\n",
       "      <td>Wells Fargo &amp; Company</td>\n",
       "      <td>NY</td>\n",
       "      <td>10605</td>\n",
       "      <td>NaN</td>\n",
       "      <td>NaN</td>\n",
       "      <td>Web</td>\n",
       "      <td>07/31/2013</td>\n",
       "      <td>Closed with non-monetary relief</td>\n",
       "      <td>Yes</td>\n",
       "      <td>No</td>\n",
       "      <td>480173</td>\n",
       "    </tr>\n",
       "    <tr>\n",
       "      <th>24</th>\n",
       "      <td>07/29/2013</td>\n",
       "      <td>Mortgage</td>\n",
       "      <td>Other mortgage</td>\n",
       "      <td>Loan modification,collection,foreclosure</td>\n",
       "      <td>NaN</td>\n",
       "      <td>NaN</td>\n",
       "      <td>NaN</td>\n",
       "      <td>Ocwen</td>\n",
       "      <td>NY</td>\n",
       "      <td>14467</td>\n",
       "      <td>NaN</td>\n",
       "      <td>NaN</td>\n",
       "      <td>Referral</td>\n",
       "      <td>07/30/2013</td>\n",
       "      <td>Closed with explanation</td>\n",
       "      <td>Yes</td>\n",
       "      <td>Yes</td>\n",
       "      <td>469360</td>\n",
       "    </tr>\n",
       "    <tr>\n",
       "      <th>25</th>\n",
       "      <td>07/29/2013</td>\n",
       "      <td>Mortgage</td>\n",
       "      <td>Other mortgage</td>\n",
       "      <td>Loan servicing, payments, escrow account</td>\n",
       "      <td>NaN</td>\n",
       "      <td>NaN</td>\n",
       "      <td>NaN</td>\n",
       "      <td>U.S. Bancorp</td>\n",
       "      <td>CA</td>\n",
       "      <td>92591</td>\n",
       "      <td>NaN</td>\n",
       "      <td>NaN</td>\n",
       "      <td>Referral</td>\n",
       "      <td>07/31/2013</td>\n",
       "      <td>Closed with monetary relief</td>\n",
       "      <td>Yes</td>\n",
       "      <td>No</td>\n",
       "      <td>469632</td>\n",
       "    </tr>\n",
       "    <tr>\n",
       "      <th>26</th>\n",
       "      <td>07/29/2013</td>\n",
       "      <td>Mortgage</td>\n",
       "      <td>Conventional adjustable mortgage (ARM)</td>\n",
       "      <td>Application, originator, mortgage broker</td>\n",
       "      <td>NaN</td>\n",
       "      <td>NaN</td>\n",
       "      <td>NaN</td>\n",
       "      <td>Bank of America</td>\n",
       "      <td>IL</td>\n",
       "      <td>60443</td>\n",
       "      <td>NaN</td>\n",
       "      <td>NaN</td>\n",
       "      <td>Web</td>\n",
       "      <td>08/01/2013</td>\n",
       "      <td>Closed with explanation</td>\n",
       "      <td>Yes</td>\n",
       "      <td>No</td>\n",
       "      <td>469173</td>\n",
       "    </tr>\n",
       "    <tr>\n",
       "      <th>27</th>\n",
       "      <td>07/29/2013</td>\n",
       "      <td>Bank account or service</td>\n",
       "      <td>Other bank product/service</td>\n",
       "      <td>Deposits and withdrawals</td>\n",
       "      <td>NaN</td>\n",
       "      <td>NaN</td>\n",
       "      <td>NaN</td>\n",
       "      <td>Wells Fargo &amp; Company</td>\n",
       "      <td>CA</td>\n",
       "      <td>96088</td>\n",
       "      <td>NaN</td>\n",
       "      <td>NaN</td>\n",
       "      <td>Web</td>\n",
       "      <td>08/01/2013</td>\n",
       "      <td>Closed with explanation</td>\n",
       "      <td>Yes</td>\n",
       "      <td>No</td>\n",
       "      <td>469185</td>\n",
       "    </tr>\n",
       "    <tr>\n",
       "      <th>28</th>\n",
       "      <td>07/29/2013</td>\n",
       "      <td>Credit reporting</td>\n",
       "      <td>NaN</td>\n",
       "      <td>Incorrect information on credit report</td>\n",
       "      <td>Public record</td>\n",
       "      <td>NaN</td>\n",
       "      <td>NaN</td>\n",
       "      <td>Equifax</td>\n",
       "      <td>CA</td>\n",
       "      <td>91605</td>\n",
       "      <td>NaN</td>\n",
       "      <td>NaN</td>\n",
       "      <td>Web</td>\n",
       "      <td>07/29/2013</td>\n",
       "      <td>Closed with non-monetary relief</td>\n",
       "      <td>Yes</td>\n",
       "      <td>No</td>\n",
       "      <td>469201</td>\n",
       "    </tr>\n",
       "    <tr>\n",
       "      <th>29</th>\n",
       "      <td>07/29/2013</td>\n",
       "      <td>Student loan</td>\n",
       "      <td>Non-federal student loan</td>\n",
       "      <td>Repaying your loan</td>\n",
       "      <td>Repaying your loan</td>\n",
       "      <td>NaN</td>\n",
       "      <td>NaN</td>\n",
       "      <td>Navient Solutions, Inc.</td>\n",
       "      <td>OH</td>\n",
       "      <td>45150</td>\n",
       "      <td>NaN</td>\n",
       "      <td>NaN</td>\n",
       "      <td>Web</td>\n",
       "      <td>07/30/2013</td>\n",
       "      <td>Closed with explanation</td>\n",
       "      <td>Yes</td>\n",
       "      <td>No</td>\n",
       "      <td>469210</td>\n",
       "    </tr>\n",
       "    <tr>\n",
       "      <th>...</th>\n",
       "      <td>...</td>\n",
       "      <td>...</td>\n",
       "      <td>...</td>\n",
       "      <td>...</td>\n",
       "      <td>...</td>\n",
       "      <td>...</td>\n",
       "      <td>...</td>\n",
       "      <td>...</td>\n",
       "      <td>...</td>\n",
       "      <td>...</td>\n",
       "      <td>...</td>\n",
       "      <td>...</td>\n",
       "      <td>...</td>\n",
       "      <td>...</td>\n",
       "      <td>...</td>\n",
       "      <td>...</td>\n",
       "      <td>...</td>\n",
       "      <td>...</td>\n",
       "    </tr>\n",
       "    <tr>\n",
       "      <th>596066</th>\n",
       "      <td>06/02/2016</td>\n",
       "      <td>Mortgage</td>\n",
       "      <td>Conventional fixed mortgage</td>\n",
       "      <td>Loan modification,collection,foreclosure</td>\n",
       "      <td>NaN</td>\n",
       "      <td>NaN</td>\n",
       "      <td>Company has responded to the consumer and the ...</td>\n",
       "      <td>Wells Fargo &amp; Company</td>\n",
       "      <td>MD</td>\n",
       "      <td>208XX</td>\n",
       "      <td>Older American</td>\n",
       "      <td>Other</td>\n",
       "      <td>Web</td>\n",
       "      <td>06/03/2016</td>\n",
       "      <td>Closed with explanation</td>\n",
       "      <td>Yes</td>\n",
       "      <td>NaN</td>\n",
       "      <td>1951183</td>\n",
       "    </tr>\n",
       "    <tr>\n",
       "      <th>596067</th>\n",
       "      <td>05/26/2016</td>\n",
       "      <td>Mortgage</td>\n",
       "      <td>Other mortgage</td>\n",
       "      <td>Loan modification,collection,foreclosure</td>\n",
       "      <td>NaN</td>\n",
       "      <td>NaN</td>\n",
       "      <td>Company has responded to the consumer and the ...</td>\n",
       "      <td>Citibank</td>\n",
       "      <td>NJ</td>\n",
       "      <td>08060</td>\n",
       "      <td>NaN</td>\n",
       "      <td>NaN</td>\n",
       "      <td>Referral</td>\n",
       "      <td>06/02/2016</td>\n",
       "      <td>Closed with explanation</td>\n",
       "      <td>Yes</td>\n",
       "      <td>NaN</td>\n",
       "      <td>1942700</td>\n",
       "    </tr>\n",
       "    <tr>\n",
       "      <th>596068</th>\n",
       "      <td>07/07/2016</td>\n",
       "      <td>Credit reporting</td>\n",
       "      <td>NaN</td>\n",
       "      <td>Incorrect information on credit report</td>\n",
       "      <td>Account terms</td>\n",
       "      <td>NaN</td>\n",
       "      <td>Company has responded to the consumer and the ...</td>\n",
       "      <td>Experian</td>\n",
       "      <td>IL</td>\n",
       "      <td>60652</td>\n",
       "      <td>NaN</td>\n",
       "      <td>Consent not provided</td>\n",
       "      <td>Web</td>\n",
       "      <td>07/07/2016</td>\n",
       "      <td>Closed with explanation</td>\n",
       "      <td>Yes</td>\n",
       "      <td>NaN</td>\n",
       "      <td>2000201</td>\n",
       "    </tr>\n",
       "    <tr>\n",
       "      <th>596069</th>\n",
       "      <td>06/27/2016</td>\n",
       "      <td>Debt collection</td>\n",
       "      <td>Other (i.e. phone, health club, etc.)</td>\n",
       "      <td>Taking/threatening an illegal action</td>\n",
       "      <td>Sued w/o proper notification of suit</td>\n",
       "      <td>NaN</td>\n",
       "      <td>NaN</td>\n",
       "      <td>Sklar Law LLC</td>\n",
       "      <td>NJ</td>\n",
       "      <td>088XX</td>\n",
       "      <td>NaN</td>\n",
       "      <td>NaN</td>\n",
       "      <td>Web</td>\n",
       "      <td>06/27/2016</td>\n",
       "      <td>Closed with explanation</td>\n",
       "      <td>No</td>\n",
       "      <td>NaN</td>\n",
       "      <td>1987257</td>\n",
       "    </tr>\n",
       "    <tr>\n",
       "      <th>596070</th>\n",
       "      <td>05/02/2016</td>\n",
       "      <td>Mortgage</td>\n",
       "      <td>Conventional fixed mortgage</td>\n",
       "      <td>Loan servicing, payments, escrow account</td>\n",
       "      <td>NaN</td>\n",
       "      <td>On XXXX XXXX, 2015 we reinstated mortgage # XX...</td>\n",
       "      <td>Company has responded to the consumer and the ...</td>\n",
       "      <td>Bank of the West</td>\n",
       "      <td>NE</td>\n",
       "      <td>681XX</td>\n",
       "      <td>Older American</td>\n",
       "      <td>Consent provided</td>\n",
       "      <td>Web</td>\n",
       "      <td>05/02/2016</td>\n",
       "      <td>Closed with explanation</td>\n",
       "      <td>No</td>\n",
       "      <td>Yes</td>\n",
       "      <td>1905468</td>\n",
       "    </tr>\n",
       "    <tr>\n",
       "      <th>596071</th>\n",
       "      <td>05/15/2016</td>\n",
       "      <td>Credit reporting</td>\n",
       "      <td>NaN</td>\n",
       "      <td>Incorrect information on credit report</td>\n",
       "      <td>Account status</td>\n",
       "      <td>Equifax fails to remove the XXXX XXXX XXXX XXX...</td>\n",
       "      <td>NaN</td>\n",
       "      <td>Equifax</td>\n",
       "      <td>IL</td>\n",
       "      <td>616XX</td>\n",
       "      <td>Older American</td>\n",
       "      <td>Consent provided</td>\n",
       "      <td>Web</td>\n",
       "      <td>05/15/2016</td>\n",
       "      <td>Closed with explanation</td>\n",
       "      <td>Yes</td>\n",
       "      <td>NaN</td>\n",
       "      <td>1925871</td>\n",
       "    </tr>\n",
       "    <tr>\n",
       "      <th>596072</th>\n",
       "      <td>07/01/2016</td>\n",
       "      <td>Bank account or service</td>\n",
       "      <td>Checking account</td>\n",
       "      <td>Account opening, closing, or management</td>\n",
       "      <td>NaN</td>\n",
       "      <td>NaN</td>\n",
       "      <td>Company has responded to the consumer and the ...</td>\n",
       "      <td>Citibank</td>\n",
       "      <td>PA</td>\n",
       "      <td>15102</td>\n",
       "      <td>NaN</td>\n",
       "      <td>Consent not provided</td>\n",
       "      <td>Web</td>\n",
       "      <td>07/01/2016</td>\n",
       "      <td>Closed with non-monetary relief</td>\n",
       "      <td>Yes</td>\n",
       "      <td>NaN</td>\n",
       "      <td>1993546</td>\n",
       "    </tr>\n",
       "    <tr>\n",
       "      <th>596073</th>\n",
       "      <td>07/11/2016</td>\n",
       "      <td>Credit reporting</td>\n",
       "      <td>NaN</td>\n",
       "      <td>Credit reporting company's investigation</td>\n",
       "      <td>No notice of investigation status/result</td>\n",
       "      <td>NaN</td>\n",
       "      <td>NaN</td>\n",
       "      <td>Equifax</td>\n",
       "      <td>CA</td>\n",
       "      <td>925XX</td>\n",
       "      <td>NaN</td>\n",
       "      <td>NaN</td>\n",
       "      <td>Web</td>\n",
       "      <td>07/11/2016</td>\n",
       "      <td>Closed with explanation</td>\n",
       "      <td>Yes</td>\n",
       "      <td>NaN</td>\n",
       "      <td>2006712</td>\n",
       "    </tr>\n",
       "    <tr>\n",
       "      <th>596074</th>\n",
       "      <td>07/08/2016</td>\n",
       "      <td>Credit reporting</td>\n",
       "      <td>NaN</td>\n",
       "      <td>Credit reporting company's investigation</td>\n",
       "      <td>No notice of investigation status/result</td>\n",
       "      <td>NaN</td>\n",
       "      <td>NaN</td>\n",
       "      <td>Equifax</td>\n",
       "      <td>GA</td>\n",
       "      <td>301XX</td>\n",
       "      <td>NaN</td>\n",
       "      <td>NaN</td>\n",
       "      <td>Web</td>\n",
       "      <td>07/11/2016</td>\n",
       "      <td>Closed with explanation</td>\n",
       "      <td>Yes</td>\n",
       "      <td>NaN</td>\n",
       "      <td>2001543</td>\n",
       "    </tr>\n",
       "    <tr>\n",
       "      <th>596075</th>\n",
       "      <td>05/16/2016</td>\n",
       "      <td>Mortgage</td>\n",
       "      <td>Other mortgage</td>\n",
       "      <td>Loan modification,collection,foreclosure</td>\n",
       "      <td>NaN</td>\n",
       "      <td>NaN</td>\n",
       "      <td>NaN</td>\n",
       "      <td>Carrington Mortgage Holdings, LLC.</td>\n",
       "      <td>TX</td>\n",
       "      <td>77016</td>\n",
       "      <td>NaN</td>\n",
       "      <td>NaN</td>\n",
       "      <td>Referral</td>\n",
       "      <td>05/19/2016</td>\n",
       "      <td>Closed with explanation</td>\n",
       "      <td>Yes</td>\n",
       "      <td>Yes</td>\n",
       "      <td>1926893</td>\n",
       "    </tr>\n",
       "    <tr>\n",
       "      <th>596076</th>\n",
       "      <td>06/27/2016</td>\n",
       "      <td>Bank account or service</td>\n",
       "      <td>Checking account</td>\n",
       "      <td>Deposits and withdrawals</td>\n",
       "      <td>NaN</td>\n",
       "      <td>Today, I got an email from XXXXXXXXXXXX : if I...</td>\n",
       "      <td>Company has responded to the consumer and the ...</td>\n",
       "      <td>Bank of America</td>\n",
       "      <td>AZ</td>\n",
       "      <td>864XX</td>\n",
       "      <td>NaN</td>\n",
       "      <td>Consent provided</td>\n",
       "      <td>Web</td>\n",
       "      <td>06/27/2016</td>\n",
       "      <td>Closed with explanation</td>\n",
       "      <td>Yes</td>\n",
       "      <td>NaN</td>\n",
       "      <td>1986436</td>\n",
       "    </tr>\n",
       "    <tr>\n",
       "      <th>596077</th>\n",
       "      <td>07/14/2016</td>\n",
       "      <td>Bank account or service</td>\n",
       "      <td>Other bank product/service</td>\n",
       "      <td>Account opening, closing, or management</td>\n",
       "      <td>NaN</td>\n",
       "      <td>NaN</td>\n",
       "      <td>NaN</td>\n",
       "      <td>Ally Financial Inc.</td>\n",
       "      <td>IL</td>\n",
       "      <td>605XX</td>\n",
       "      <td>Older American</td>\n",
       "      <td>NaN</td>\n",
       "      <td>Web</td>\n",
       "      <td>07/14/2016</td>\n",
       "      <td>In progress</td>\n",
       "      <td>Yes</td>\n",
       "      <td>NaN</td>\n",
       "      <td>2013188</td>\n",
       "    </tr>\n",
       "    <tr>\n",
       "      <th>596078</th>\n",
       "      <td>06/27/2016</td>\n",
       "      <td>Bank account or service</td>\n",
       "      <td>Checking account</td>\n",
       "      <td>Account opening, closing, or management</td>\n",
       "      <td>NaN</td>\n",
       "      <td>Dear Sir/Madam, Around six months ago I opened...</td>\n",
       "      <td>Company has responded to the consumer and the ...</td>\n",
       "      <td>Citibank</td>\n",
       "      <td>TX</td>\n",
       "      <td>770XX</td>\n",
       "      <td>NaN</td>\n",
       "      <td>Consent provided</td>\n",
       "      <td>Web</td>\n",
       "      <td>06/27/2016</td>\n",
       "      <td>Closed with non-monetary relief</td>\n",
       "      <td>Yes</td>\n",
       "      <td>NaN</td>\n",
       "      <td>1986945</td>\n",
       "    </tr>\n",
       "    <tr>\n",
       "      <th>596079</th>\n",
       "      <td>06/23/2016</td>\n",
       "      <td>Mortgage</td>\n",
       "      <td>Other mortgage</td>\n",
       "      <td>Other</td>\n",
       "      <td>NaN</td>\n",
       "      <td>NaN</td>\n",
       "      <td>Company has responded to the consumer and the ...</td>\n",
       "      <td>Wells Fargo &amp; Company</td>\n",
       "      <td>NY</td>\n",
       "      <td>10710</td>\n",
       "      <td>NaN</td>\n",
       "      <td>NaN</td>\n",
       "      <td>Postal mail</td>\n",
       "      <td>06/24/2016</td>\n",
       "      <td>Closed with explanation</td>\n",
       "      <td>Yes</td>\n",
       "      <td>NaN</td>\n",
       "      <td>1982615</td>\n",
       "    </tr>\n",
       "    <tr>\n",
       "      <th>596080</th>\n",
       "      <td>06/28/2016</td>\n",
       "      <td>Debt collection</td>\n",
       "      <td>Payday loan</td>\n",
       "      <td>Cont'd attempts collect debt not owed</td>\n",
       "      <td>Debt was discharged in bankruptcy</td>\n",
       "      <td>NaN</td>\n",
       "      <td>NaN</td>\n",
       "      <td>Premier Portfolio Group</td>\n",
       "      <td>KS</td>\n",
       "      <td>662XX</td>\n",
       "      <td>NaN</td>\n",
       "      <td>NaN</td>\n",
       "      <td>Web</td>\n",
       "      <td>06/28/2016</td>\n",
       "      <td>Untimely response</td>\n",
       "      <td>No</td>\n",
       "      <td>NaN</td>\n",
       "      <td>1989462</td>\n",
       "    </tr>\n",
       "    <tr>\n",
       "      <th>596081</th>\n",
       "      <td>06/14/2016</td>\n",
       "      <td>Bank account or service</td>\n",
       "      <td>(CD) Certificate of deposit</td>\n",
       "      <td>Making/receiving payments, sending money</td>\n",
       "      <td>NaN</td>\n",
       "      <td>NaN</td>\n",
       "      <td>Company has responded to the consumer and the ...</td>\n",
       "      <td>Ally Financial Inc.</td>\n",
       "      <td>ME</td>\n",
       "      <td>04210</td>\n",
       "      <td>NaN</td>\n",
       "      <td>NaN</td>\n",
       "      <td>Referral</td>\n",
       "      <td>06/15/2016</td>\n",
       "      <td>Closed with monetary relief</td>\n",
       "      <td>Yes</td>\n",
       "      <td>Yes</td>\n",
       "      <td>1967445</td>\n",
       "    </tr>\n",
       "    <tr>\n",
       "      <th>596082</th>\n",
       "      <td>06/28/2016</td>\n",
       "      <td>Debt collection</td>\n",
       "      <td>I do not know</td>\n",
       "      <td>Disclosure verification of debt</td>\n",
       "      <td>Not given enough info to verify debt</td>\n",
       "      <td>NaN</td>\n",
       "      <td>NaN</td>\n",
       "      <td>R.A.Rogers, Inc.</td>\n",
       "      <td>VA</td>\n",
       "      <td>22191</td>\n",
       "      <td>NaN</td>\n",
       "      <td>NaN</td>\n",
       "      <td>Web</td>\n",
       "      <td>07/08/2016</td>\n",
       "      <td>Closed with explanation</td>\n",
       "      <td>Yes</td>\n",
       "      <td>NaN</td>\n",
       "      <td>1988910</td>\n",
       "    </tr>\n",
       "    <tr>\n",
       "      <th>596083</th>\n",
       "      <td>06/15/2016</td>\n",
       "      <td>Credit card</td>\n",
       "      <td>NaN</td>\n",
       "      <td>Advertising and marketing</td>\n",
       "      <td>NaN</td>\n",
       "      <td>NaN</td>\n",
       "      <td>NaN</td>\n",
       "      <td>The Huntington National Bank</td>\n",
       "      <td>OH</td>\n",
       "      <td>45505</td>\n",
       "      <td>NaN</td>\n",
       "      <td>NaN</td>\n",
       "      <td>Phone</td>\n",
       "      <td>06/21/2016</td>\n",
       "      <td>Closed with monetary relief</td>\n",
       "      <td>Yes</td>\n",
       "      <td>Yes</td>\n",
       "      <td>1969732</td>\n",
       "    </tr>\n",
       "    <tr>\n",
       "      <th>596084</th>\n",
       "      <td>07/06/2016</td>\n",
       "      <td>Student loan</td>\n",
       "      <td>Non-federal student loan</td>\n",
       "      <td>Can't repay my loan</td>\n",
       "      <td>Can't decrease my monthly payments</td>\n",
       "      <td>NaN</td>\n",
       "      <td>NaN</td>\n",
       "      <td>Navient Solutions, Inc.</td>\n",
       "      <td>MD</td>\n",
       "      <td>20772</td>\n",
       "      <td>Older American</td>\n",
       "      <td>NaN</td>\n",
       "      <td>Web</td>\n",
       "      <td>07/06/2016</td>\n",
       "      <td>Closed with explanation</td>\n",
       "      <td>Yes</td>\n",
       "      <td>NaN</td>\n",
       "      <td>1999707</td>\n",
       "    </tr>\n",
       "    <tr>\n",
       "      <th>596085</th>\n",
       "      <td>06/16/2016</td>\n",
       "      <td>Debt collection</td>\n",
       "      <td>Other (i.e. phone, health club, etc.)</td>\n",
       "      <td>Cont'd attempts collect debt not owed</td>\n",
       "      <td>Debt is not mine</td>\n",
       "      <td>NaN</td>\n",
       "      <td>NaN</td>\n",
       "      <td>DCQ LLC</td>\n",
       "      <td>WA</td>\n",
       "      <td>980XX</td>\n",
       "      <td>Servicemember</td>\n",
       "      <td>NaN</td>\n",
       "      <td>Web</td>\n",
       "      <td>06/28/2016</td>\n",
       "      <td>Untimely response</td>\n",
       "      <td>No</td>\n",
       "      <td>NaN</td>\n",
       "      <td>1972068</td>\n",
       "    </tr>\n",
       "    <tr>\n",
       "      <th>596086</th>\n",
       "      <td>06/09/2016</td>\n",
       "      <td>Credit reporting</td>\n",
       "      <td>NaN</td>\n",
       "      <td>Improper use of my credit report</td>\n",
       "      <td>Report improperly shared by CRC</td>\n",
       "      <td>NaN</td>\n",
       "      <td>NaN</td>\n",
       "      <td>Equifax</td>\n",
       "      <td>TX</td>\n",
       "      <td>75219</td>\n",
       "      <td>NaN</td>\n",
       "      <td>NaN</td>\n",
       "      <td>Web</td>\n",
       "      <td>06/09/2016</td>\n",
       "      <td>Closed with explanation</td>\n",
       "      <td>Yes</td>\n",
       "      <td>Yes</td>\n",
       "      <td>1962071</td>\n",
       "    </tr>\n",
       "    <tr>\n",
       "      <th>596087</th>\n",
       "      <td>06/30/2016</td>\n",
       "      <td>Credit reporting</td>\n",
       "      <td>NaN</td>\n",
       "      <td>Incorrect information on credit report</td>\n",
       "      <td>Information is not mine</td>\n",
       "      <td>NaN</td>\n",
       "      <td>Company has responded to the consumer and the ...</td>\n",
       "      <td>TransUnion Intermediate Holdings, Inc.</td>\n",
       "      <td>GA</td>\n",
       "      <td>30350</td>\n",
       "      <td>NaN</td>\n",
       "      <td>NaN</td>\n",
       "      <td>Referral</td>\n",
       "      <td>07/05/2016</td>\n",
       "      <td>Closed with explanation</td>\n",
       "      <td>Yes</td>\n",
       "      <td>NaN</td>\n",
       "      <td>1994177</td>\n",
       "    </tr>\n",
       "    <tr>\n",
       "      <th>596088</th>\n",
       "      <td>06/29/2016</td>\n",
       "      <td>Debt collection</td>\n",
       "      <td>Medical</td>\n",
       "      <td>Cont'd attempts collect debt not owed</td>\n",
       "      <td>Debt is not mine</td>\n",
       "      <td>NaN</td>\n",
       "      <td>Company has responded to the consumer and the ...</td>\n",
       "      <td>Escallate, LLC</td>\n",
       "      <td>IL</td>\n",
       "      <td>606XX</td>\n",
       "      <td>NaN</td>\n",
       "      <td>NaN</td>\n",
       "      <td>Web</td>\n",
       "      <td>06/29/2016</td>\n",
       "      <td>Closed with explanation</td>\n",
       "      <td>Yes</td>\n",
       "      <td>Yes</td>\n",
       "      <td>1990876</td>\n",
       "    </tr>\n",
       "    <tr>\n",
       "      <th>596089</th>\n",
       "      <td>06/22/2016</td>\n",
       "      <td>Credit card</td>\n",
       "      <td>NaN</td>\n",
       "      <td>Billing disputes</td>\n",
       "      <td>NaN</td>\n",
       "      <td>NaN</td>\n",
       "      <td>NaN</td>\n",
       "      <td>JPMorgan Chase &amp; Co.</td>\n",
       "      <td>FL</td>\n",
       "      <td>33062</td>\n",
       "      <td>Older American</td>\n",
       "      <td>NaN</td>\n",
       "      <td>Phone</td>\n",
       "      <td>06/22/2016</td>\n",
       "      <td>Closed with explanation</td>\n",
       "      <td>Yes</td>\n",
       "      <td>NaN</td>\n",
       "      <td>1979760</td>\n",
       "    </tr>\n",
       "    <tr>\n",
       "      <th>596090</th>\n",
       "      <td>06/30/2016</td>\n",
       "      <td>Mortgage</td>\n",
       "      <td>Conventional fixed mortgage</td>\n",
       "      <td>Loan servicing, payments, escrow account</td>\n",
       "      <td>NaN</td>\n",
       "      <td>NaN</td>\n",
       "      <td>NaN</td>\n",
       "      <td>Ocwen</td>\n",
       "      <td>NJ</td>\n",
       "      <td>08048</td>\n",
       "      <td>NaN</td>\n",
       "      <td>NaN</td>\n",
       "      <td>Web</td>\n",
       "      <td>06/30/2016</td>\n",
       "      <td>Closed with explanation</td>\n",
       "      <td>Yes</td>\n",
       "      <td>NaN</td>\n",
       "      <td>1991102</td>\n",
       "    </tr>\n",
       "    <tr>\n",
       "      <th>596091</th>\n",
       "      <td>07/05/2016</td>\n",
       "      <td>Credit reporting</td>\n",
       "      <td>NaN</td>\n",
       "      <td>Incorrect information on credit report</td>\n",
       "      <td>Information is not mine</td>\n",
       "      <td>NaN</td>\n",
       "      <td>Company has responded to the consumer and the ...</td>\n",
       "      <td>TransUnion Intermediate Holdings, Inc.</td>\n",
       "      <td>CA</td>\n",
       "      <td>941XX</td>\n",
       "      <td>NaN</td>\n",
       "      <td>NaN</td>\n",
       "      <td>Web</td>\n",
       "      <td>07/05/2016</td>\n",
       "      <td>Closed with explanation</td>\n",
       "      <td>Yes</td>\n",
       "      <td>NaN</td>\n",
       "      <td>1998442</td>\n",
       "    </tr>\n",
       "    <tr>\n",
       "      <th>596092</th>\n",
       "      <td>05/25/2016</td>\n",
       "      <td>Mortgage</td>\n",
       "      <td>Other mortgage</td>\n",
       "      <td>Loan modification,collection,foreclosure</td>\n",
       "      <td>NaN</td>\n",
       "      <td>NaN</td>\n",
       "      <td>NaN</td>\n",
       "      <td>Caliber Home Loans, Inc</td>\n",
       "      <td>CA</td>\n",
       "      <td>91042</td>\n",
       "      <td>Older American</td>\n",
       "      <td>NaN</td>\n",
       "      <td>Postal mail</td>\n",
       "      <td>06/29/2016</td>\n",
       "      <td>Closed with explanation</td>\n",
       "      <td>Yes</td>\n",
       "      <td>NaN</td>\n",
       "      <td>1942241</td>\n",
       "    </tr>\n",
       "    <tr>\n",
       "      <th>596093</th>\n",
       "      <td>07/01/2016</td>\n",
       "      <td>Debt collection</td>\n",
       "      <td>Other (i.e. phone, health club, etc.)</td>\n",
       "      <td>Cont'd attempts collect debt not owed</td>\n",
       "      <td>Debt was paid</td>\n",
       "      <td>NaN</td>\n",
       "      <td>NaN</td>\n",
       "      <td>Diversified Consultants, Inc.</td>\n",
       "      <td>CA</td>\n",
       "      <td>95020</td>\n",
       "      <td>NaN</td>\n",
       "      <td>NaN</td>\n",
       "      <td>Referral</td>\n",
       "      <td>07/05/2016</td>\n",
       "      <td>Closed with explanation</td>\n",
       "      <td>Yes</td>\n",
       "      <td>NaN</td>\n",
       "      <td>1995993</td>\n",
       "    </tr>\n",
       "    <tr>\n",
       "      <th>596094</th>\n",
       "      <td>07/12/2016</td>\n",
       "      <td>Credit reporting</td>\n",
       "      <td>NaN</td>\n",
       "      <td>Credit monitoring or identity protection</td>\n",
       "      <td>Billing dispute</td>\n",
       "      <td>NaN</td>\n",
       "      <td>NaN</td>\n",
       "      <td>Equifax</td>\n",
       "      <td>CA</td>\n",
       "      <td>933XX</td>\n",
       "      <td>NaN</td>\n",
       "      <td>NaN</td>\n",
       "      <td>Web</td>\n",
       "      <td>07/12/2016</td>\n",
       "      <td>Closed with non-monetary relief</td>\n",
       "      <td>Yes</td>\n",
       "      <td>NaN</td>\n",
       "      <td>2008052</td>\n",
       "    </tr>\n",
       "    <tr>\n",
       "      <th>596095</th>\n",
       "      <td>06/30/2016</td>\n",
       "      <td>Mortgage</td>\n",
       "      <td>FHA mortgage</td>\n",
       "      <td>Loan servicing, payments, escrow account</td>\n",
       "      <td>NaN</td>\n",
       "      <td>NaN</td>\n",
       "      <td>NaN</td>\n",
       "      <td>Quicken Loans</td>\n",
       "      <td>WI</td>\n",
       "      <td>549XX</td>\n",
       "      <td>Older American</td>\n",
       "      <td>NaN</td>\n",
       "      <td>Web</td>\n",
       "      <td>06/30/2016</td>\n",
       "      <td>In progress</td>\n",
       "      <td>Yes</td>\n",
       "      <td>NaN</td>\n",
       "      <td>1993686</td>\n",
       "    </tr>\n",
       "  </tbody>\n",
       "</table>\n",
       "<p>596096 rows × 18 columns</p>\n",
       "</div>"
      ],
      "text/plain": [
       "       Date received                  Product  \\\n",
       "0         07/29/2013            Consumer Loan   \n",
       "1         07/29/2013  Bank account or service   \n",
       "2         07/29/2013  Bank account or service   \n",
       "3         07/29/2013  Bank account or service   \n",
       "4         07/29/2013                 Mortgage   \n",
       "5         07/29/2013  Bank account or service   \n",
       "6         07/29/2013          Debt collection   \n",
       "7         07/29/2013          Debt collection   \n",
       "8         07/29/2013              Credit card   \n",
       "9         07/29/2013                 Mortgage   \n",
       "10        07/29/2013                 Mortgage   \n",
       "11        07/29/2013                 Mortgage   \n",
       "12        07/29/2013                 Mortgage   \n",
       "13        07/29/2013          Debt collection   \n",
       "14        07/29/2013          Debt collection   \n",
       "15        07/29/2013                 Mortgage   \n",
       "16        07/29/2013                 Mortgage   \n",
       "17        07/29/2013                 Mortgage   \n",
       "18        07/29/2013                 Mortgage   \n",
       "19        07/29/2013              Credit card   \n",
       "20        07/29/2013         Credit reporting   \n",
       "21        07/29/2013                 Mortgage   \n",
       "22        07/29/2013                 Mortgage   \n",
       "23        07/29/2013                 Mortgage   \n",
       "24        07/29/2013                 Mortgage   \n",
       "25        07/29/2013                 Mortgage   \n",
       "26        07/29/2013                 Mortgage   \n",
       "27        07/29/2013  Bank account or service   \n",
       "28        07/29/2013         Credit reporting   \n",
       "29        07/29/2013             Student loan   \n",
       "...              ...                      ...   \n",
       "596066    06/02/2016                 Mortgage   \n",
       "596067    05/26/2016                 Mortgage   \n",
       "596068    07/07/2016         Credit reporting   \n",
       "596069    06/27/2016          Debt collection   \n",
       "596070    05/02/2016                 Mortgage   \n",
       "596071    05/15/2016         Credit reporting   \n",
       "596072    07/01/2016  Bank account or service   \n",
       "596073    07/11/2016         Credit reporting   \n",
       "596074    07/08/2016         Credit reporting   \n",
       "596075    05/16/2016                 Mortgage   \n",
       "596076    06/27/2016  Bank account or service   \n",
       "596077    07/14/2016  Bank account or service   \n",
       "596078    06/27/2016  Bank account or service   \n",
       "596079    06/23/2016                 Mortgage   \n",
       "596080    06/28/2016          Debt collection   \n",
       "596081    06/14/2016  Bank account or service   \n",
       "596082    06/28/2016          Debt collection   \n",
       "596083    06/15/2016              Credit card   \n",
       "596084    07/06/2016             Student loan   \n",
       "596085    06/16/2016          Debt collection   \n",
       "596086    06/09/2016         Credit reporting   \n",
       "596087    06/30/2016         Credit reporting   \n",
       "596088    06/29/2016          Debt collection   \n",
       "596089    06/22/2016              Credit card   \n",
       "596090    06/30/2016                 Mortgage   \n",
       "596091    07/05/2016         Credit reporting   \n",
       "596092    05/25/2016                 Mortgage   \n",
       "596093    07/01/2016          Debt collection   \n",
       "596094    07/12/2016         Credit reporting   \n",
       "596095    06/30/2016                 Mortgage   \n",
       "\n",
       "                                   Sub-product  \\\n",
       "0                                 Vehicle loan   \n",
       "1                             Checking account   \n",
       "2                             Checking account   \n",
       "3                             Checking account   \n",
       "4                  Conventional fixed mortgage   \n",
       "5                             Checking account   \n",
       "6        Other (i.e. phone, health club, etc.)   \n",
       "7                                I do not know   \n",
       "8                                          NaN   \n",
       "9                               Other mortgage   \n",
       "10                              Other mortgage   \n",
       "11                              Other mortgage   \n",
       "12                              Other mortgage   \n",
       "13                                 Credit card   \n",
       "14                                 Credit card   \n",
       "15                 Conventional fixed mortgage   \n",
       "16                 Conventional fixed mortgage   \n",
       "17                 Conventional fixed mortgage   \n",
       "18                 Conventional fixed mortgage   \n",
       "19                                         NaN   \n",
       "20                                         NaN   \n",
       "21      Conventional adjustable mortgage (ARM)   \n",
       "22                              Other mortgage   \n",
       "23                 Conventional fixed mortgage   \n",
       "24                              Other mortgage   \n",
       "25                              Other mortgage   \n",
       "26      Conventional adjustable mortgage (ARM)   \n",
       "27                  Other bank product/service   \n",
       "28                                         NaN   \n",
       "29                    Non-federal student loan   \n",
       "...                                        ...   \n",
       "596066             Conventional fixed mortgage   \n",
       "596067                          Other mortgage   \n",
       "596068                                     NaN   \n",
       "596069   Other (i.e. phone, health club, etc.)   \n",
       "596070             Conventional fixed mortgage   \n",
       "596071                                     NaN   \n",
       "596072                        Checking account   \n",
       "596073                                     NaN   \n",
       "596074                                     NaN   \n",
       "596075                          Other mortgage   \n",
       "596076                        Checking account   \n",
       "596077              Other bank product/service   \n",
       "596078                        Checking account   \n",
       "596079                          Other mortgage   \n",
       "596080                             Payday loan   \n",
       "596081             (CD) Certificate of deposit   \n",
       "596082                           I do not know   \n",
       "596083                                     NaN   \n",
       "596084                Non-federal student loan   \n",
       "596085   Other (i.e. phone, health club, etc.)   \n",
       "596086                                     NaN   \n",
       "596087                                     NaN   \n",
       "596088                                 Medical   \n",
       "596089                                     NaN   \n",
       "596090             Conventional fixed mortgage   \n",
       "596091                                     NaN   \n",
       "596092                          Other mortgage   \n",
       "596093   Other (i.e. phone, health club, etc.)   \n",
       "596094                                     NaN   \n",
       "596095                            FHA mortgage   \n",
       "\n",
       "                                           Issue  \\\n",
       "0                     Managing the loan or lease   \n",
       "1                      Using a debit or ATM card   \n",
       "2        Account opening, closing, or management   \n",
       "3                       Deposits and withdrawals   \n",
       "4       Loan servicing, payments, escrow account   \n",
       "5                       Deposits and withdrawals   \n",
       "6          Cont'd attempts collect debt not owed   \n",
       "7          Cont'd attempts collect debt not owed   \n",
       "8                              Billing statement   \n",
       "9       Loan servicing, payments, escrow account   \n",
       "10      Loan modification,collection,foreclosure   \n",
       "11      Loan servicing, payments, escrow account   \n",
       "12      Loan modification,collection,foreclosure   \n",
       "13                         Communication tactics   \n",
       "14                         Communication tactics   \n",
       "15      Loan modification,collection,foreclosure   \n",
       "16      Loan modification,collection,foreclosure   \n",
       "17      Loan modification,collection,foreclosure   \n",
       "18      Loan servicing, payments, escrow account   \n",
       "19                          APR or interest rate   \n",
       "20      Credit monitoring or identity protection   \n",
       "21      Loan modification,collection,foreclosure   \n",
       "22      Application, originator, mortgage broker   \n",
       "23      Application, originator, mortgage broker   \n",
       "24      Loan modification,collection,foreclosure   \n",
       "25      Loan servicing, payments, escrow account   \n",
       "26      Application, originator, mortgage broker   \n",
       "27                      Deposits and withdrawals   \n",
       "28        Incorrect information on credit report   \n",
       "29                            Repaying your loan   \n",
       "...                                          ...   \n",
       "596066  Loan modification,collection,foreclosure   \n",
       "596067  Loan modification,collection,foreclosure   \n",
       "596068    Incorrect information on credit report   \n",
       "596069      Taking/threatening an illegal action   \n",
       "596070  Loan servicing, payments, escrow account   \n",
       "596071    Incorrect information on credit report   \n",
       "596072   Account opening, closing, or management   \n",
       "596073  Credit reporting company's investigation   \n",
       "596074  Credit reporting company's investigation   \n",
       "596075  Loan modification,collection,foreclosure   \n",
       "596076                  Deposits and withdrawals   \n",
       "596077   Account opening, closing, or management   \n",
       "596078   Account opening, closing, or management   \n",
       "596079                                     Other   \n",
       "596080     Cont'd attempts collect debt not owed   \n",
       "596081  Making/receiving payments, sending money   \n",
       "596082           Disclosure verification of debt   \n",
       "596083                 Advertising and marketing   \n",
       "596084                       Can't repay my loan   \n",
       "596085     Cont'd attempts collect debt not owed   \n",
       "596086          Improper use of my credit report   \n",
       "596087    Incorrect information on credit report   \n",
       "596088     Cont'd attempts collect debt not owed   \n",
       "596089                          Billing disputes   \n",
       "596090  Loan servicing, payments, escrow account   \n",
       "596091    Incorrect information on credit report   \n",
       "596092  Loan modification,collection,foreclosure   \n",
       "596093     Cont'd attempts collect debt not owed   \n",
       "596094  Credit monitoring or identity protection   \n",
       "596095  Loan servicing, payments, escrow account   \n",
       "\n",
       "                                       Sub-issue  \\\n",
       "0                                            NaN   \n",
       "1                                            NaN   \n",
       "2                                            NaN   \n",
       "3                                            NaN   \n",
       "4                                            NaN   \n",
       "5                                            NaN   \n",
       "6                               Debt is not mine   \n",
       "7                                  Debt was paid   \n",
       "8                                            NaN   \n",
       "9                                            NaN   \n",
       "10                                           NaN   \n",
       "11                                           NaN   \n",
       "12                                           NaN   \n",
       "13                    Frequent or repeated calls   \n",
       "14                    Frequent or repeated calls   \n",
       "15                                           NaN   \n",
       "16                                           NaN   \n",
       "17                                           NaN   \n",
       "18                                           NaN   \n",
       "19                                           NaN   \n",
       "20         Problem cancelling or closing account   \n",
       "21                                           NaN   \n",
       "22                                           NaN   \n",
       "23                                           NaN   \n",
       "24                                           NaN   \n",
       "25                                           NaN   \n",
       "26                                           NaN   \n",
       "27                                           NaN   \n",
       "28                                 Public record   \n",
       "29                            Repaying your loan   \n",
       "...                                          ...   \n",
       "596066                                       NaN   \n",
       "596067                                       NaN   \n",
       "596068                             Account terms   \n",
       "596069      Sued w/o proper notification of suit   \n",
       "596070                                       NaN   \n",
       "596071                            Account status   \n",
       "596072                                       NaN   \n",
       "596073  No notice of investigation status/result   \n",
       "596074  No notice of investigation status/result   \n",
       "596075                                       NaN   \n",
       "596076                                       NaN   \n",
       "596077                                       NaN   \n",
       "596078                                       NaN   \n",
       "596079                                       NaN   \n",
       "596080         Debt was discharged in bankruptcy   \n",
       "596081                                       NaN   \n",
       "596082      Not given enough info to verify debt   \n",
       "596083                                       NaN   \n",
       "596084        Can't decrease my monthly payments   \n",
       "596085                          Debt is not mine   \n",
       "596086           Report improperly shared by CRC   \n",
       "596087                   Information is not mine   \n",
       "596088                          Debt is not mine   \n",
       "596089                                       NaN   \n",
       "596090                                       NaN   \n",
       "596091                   Information is not mine   \n",
       "596092                                       NaN   \n",
       "596093                             Debt was paid   \n",
       "596094                           Billing dispute   \n",
       "596095                                       NaN   \n",
       "\n",
       "                             Consumer complaint narrative  \\\n",
       "0                                                     NaN   \n",
       "1                                                     NaN   \n",
       "2                                                     NaN   \n",
       "3                                                     NaN   \n",
       "4                                                     NaN   \n",
       "5                                                     NaN   \n",
       "6                                                     NaN   \n",
       "7                                                     NaN   \n",
       "8                                                     NaN   \n",
       "9                                                     NaN   \n",
       "10                                                    NaN   \n",
       "11                                                    NaN   \n",
       "12                                                    NaN   \n",
       "13                                                    NaN   \n",
       "14                                                    NaN   \n",
       "15                                                    NaN   \n",
       "16                                                    NaN   \n",
       "17                                                    NaN   \n",
       "18                                                    NaN   \n",
       "19                                                    NaN   \n",
       "20                                                    NaN   \n",
       "21                                                    NaN   \n",
       "22                                                    NaN   \n",
       "23                                                    NaN   \n",
       "24                                                    NaN   \n",
       "25                                                    NaN   \n",
       "26                                                    NaN   \n",
       "27                                                    NaN   \n",
       "28                                                    NaN   \n",
       "29                                                    NaN   \n",
       "...                                                   ...   \n",
       "596066                                                NaN   \n",
       "596067                                                NaN   \n",
       "596068                                                NaN   \n",
       "596069                                                NaN   \n",
       "596070  On XXXX XXXX, 2015 we reinstated mortgage # XX...   \n",
       "596071  Equifax fails to remove the XXXX XXXX XXXX XXX...   \n",
       "596072                                                NaN   \n",
       "596073                                                NaN   \n",
       "596074                                                NaN   \n",
       "596075                                                NaN   \n",
       "596076  Today, I got an email from XXXXXXXXXXXX : if I...   \n",
       "596077                                                NaN   \n",
       "596078  Dear Sir/Madam, Around six months ago I opened...   \n",
       "596079                                                NaN   \n",
       "596080                                                NaN   \n",
       "596081                                                NaN   \n",
       "596082                                                NaN   \n",
       "596083                                                NaN   \n",
       "596084                                                NaN   \n",
       "596085                                                NaN   \n",
       "596086                                                NaN   \n",
       "596087                                                NaN   \n",
       "596088                                                NaN   \n",
       "596089                                                NaN   \n",
       "596090                                                NaN   \n",
       "596091                                                NaN   \n",
       "596092                                                NaN   \n",
       "596093                                                NaN   \n",
       "596094                                                NaN   \n",
       "596095                                                NaN   \n",
       "\n",
       "                                  Company public response  \\\n",
       "0                                                     NaN   \n",
       "1                                                     NaN   \n",
       "2                                                     NaN   \n",
       "3                                                     NaN   \n",
       "4                                                     NaN   \n",
       "5                                                     NaN   \n",
       "6                                                     NaN   \n",
       "7                                                     NaN   \n",
       "8                                                     NaN   \n",
       "9                                                     NaN   \n",
       "10                                                    NaN   \n",
       "11                                                    NaN   \n",
       "12                                                    NaN   \n",
       "13                                                    NaN   \n",
       "14                                                    NaN   \n",
       "15                                                    NaN   \n",
       "16                                                    NaN   \n",
       "17                                                    NaN   \n",
       "18                                                    NaN   \n",
       "19                                                    NaN   \n",
       "20                                                    NaN   \n",
       "21                                                    NaN   \n",
       "22                                                    NaN   \n",
       "23                                                    NaN   \n",
       "24                                                    NaN   \n",
       "25                                                    NaN   \n",
       "26                                                    NaN   \n",
       "27                                                    NaN   \n",
       "28                                                    NaN   \n",
       "29                                                    NaN   \n",
       "...                                                   ...   \n",
       "596066  Company has responded to the consumer and the ...   \n",
       "596067  Company has responded to the consumer and the ...   \n",
       "596068  Company has responded to the consumer and the ...   \n",
       "596069                                                NaN   \n",
       "596070  Company has responded to the consumer and the ...   \n",
       "596071                                                NaN   \n",
       "596072  Company has responded to the consumer and the ...   \n",
       "596073                                                NaN   \n",
       "596074                                                NaN   \n",
       "596075                                                NaN   \n",
       "596076  Company has responded to the consumer and the ...   \n",
       "596077                                                NaN   \n",
       "596078  Company has responded to the consumer and the ...   \n",
       "596079  Company has responded to the consumer and the ...   \n",
       "596080                                                NaN   \n",
       "596081  Company has responded to the consumer and the ...   \n",
       "596082                                                NaN   \n",
       "596083                                                NaN   \n",
       "596084                                                NaN   \n",
       "596085                                                NaN   \n",
       "596086                                                NaN   \n",
       "596087  Company has responded to the consumer and the ...   \n",
       "596088  Company has responded to the consumer and the ...   \n",
       "596089                                                NaN   \n",
       "596090                                                NaN   \n",
       "596091  Company has responded to the consumer and the ...   \n",
       "596092                                                NaN   \n",
       "596093                                                NaN   \n",
       "596094                                                NaN   \n",
       "596095                                                NaN   \n",
       "\n",
       "                                       Company State ZIP code            Tags  \\\n",
       "0                        Wells Fargo & Company    VA    24540             NaN   \n",
       "1                        Wells Fargo & Company    CA    95992  Older American   \n",
       "2                            Santander Bank US    NY    10065             NaN   \n",
       "3                        Wells Fargo & Company    GA    30084             NaN   \n",
       "4                   Franklin Credit Management    CT    06106             NaN   \n",
       "5                              Bank of America    TX    75025             NaN   \n",
       "6                               NRA Group, LLC    VA    20147             NaN   \n",
       "7                         SunTrust Banks, Inc.    FL    32818             NaN   \n",
       "8                                     Citibank    OH    45247             NaN   \n",
       "9                        Wells Fargo & Company    NV    89511             NaN   \n",
       "10                             Bank of America    NC    27949             NaN   \n",
       "11                        JPMorgan Chase & Co.    CA    90703             NaN   \n",
       "12                                    Citibank    CA    95821             NaN   \n",
       "13         Asset Management Professionals, LLC    PA    19145  Older American   \n",
       "14                       Wells Fargo & Company    PA    19145  Older American   \n",
       "15                        JPMorgan Chase & Co.    NY    14092             NaN   \n",
       "16                                       Ocwen    FL    33426             NaN   \n",
       "17                        JPMorgan Chase & Co.    NY    10019             NaN   \n",
       "18                                    Citibank    NJ    07604             NaN   \n",
       "19                         Synchrony Financial    WA    98548             NaN   \n",
       "20                                    Experian    CA    90034             NaN   \n",
       "21                             Bank of America    HI    96793             NaN   \n",
       "22                        JPMorgan Chase & Co.    FL    32825             NaN   \n",
       "23                       Wells Fargo & Company    NY    10605             NaN   \n",
       "24                                       Ocwen    NY    14467             NaN   \n",
       "25                                U.S. Bancorp    CA    92591             NaN   \n",
       "26                             Bank of America    IL    60443             NaN   \n",
       "27                       Wells Fargo & Company    CA    96088             NaN   \n",
       "28                                     Equifax    CA    91605             NaN   \n",
       "29                     Navient Solutions, Inc.    OH    45150             NaN   \n",
       "...                                        ...   ...      ...             ...   \n",
       "596066                   Wells Fargo & Company    MD    208XX  Older American   \n",
       "596067                                Citibank    NJ    08060             NaN   \n",
       "596068                                Experian    IL    60652             NaN   \n",
       "596069                           Sklar Law LLC    NJ    088XX             NaN   \n",
       "596070                        Bank of the West    NE    681XX  Older American   \n",
       "596071                                 Equifax    IL    616XX  Older American   \n",
       "596072                                Citibank    PA    15102             NaN   \n",
       "596073                                 Equifax    CA    925XX             NaN   \n",
       "596074                                 Equifax    GA    301XX             NaN   \n",
       "596075      Carrington Mortgage Holdings, LLC.    TX    77016             NaN   \n",
       "596076                         Bank of America    AZ    864XX             NaN   \n",
       "596077                     Ally Financial Inc.    IL    605XX  Older American   \n",
       "596078                                Citibank    TX    770XX             NaN   \n",
       "596079                   Wells Fargo & Company    NY    10710             NaN   \n",
       "596080                 Premier Portfolio Group    KS    662XX             NaN   \n",
       "596081                     Ally Financial Inc.    ME    04210             NaN   \n",
       "596082                        R.A.Rogers, Inc.    VA    22191             NaN   \n",
       "596083            The Huntington National Bank    OH    45505             NaN   \n",
       "596084                 Navient Solutions, Inc.    MD    20772  Older American   \n",
       "596085                                 DCQ LLC    WA    980XX   Servicemember   \n",
       "596086                                 Equifax    TX    75219             NaN   \n",
       "596087  TransUnion Intermediate Holdings, Inc.    GA    30350             NaN   \n",
       "596088                          Escallate, LLC    IL    606XX             NaN   \n",
       "596089                    JPMorgan Chase & Co.    FL    33062  Older American   \n",
       "596090                                   Ocwen    NJ    08048             NaN   \n",
       "596091  TransUnion Intermediate Holdings, Inc.    CA    941XX             NaN   \n",
       "596092                 Caliber Home Loans, Inc    CA    91042  Older American   \n",
       "596093           Diversified Consultants, Inc.    CA    95020             NaN   \n",
       "596094                                 Equifax    CA    933XX             NaN   \n",
       "596095                           Quicken Loans    WI    549XX  Older American   \n",
       "\n",
       "       Consumer consent provided? Submitted via Date sent to company  \\\n",
       "0                             NaN         Phone           07/30/2013   \n",
       "1                             NaN           Web           07/31/2013   \n",
       "2                             NaN           Fax           07/31/2013   \n",
       "3                             NaN           Web           07/30/2013   \n",
       "4                             NaN           Web           07/30/2013   \n",
       "5                             NaN           Web           07/30/2013   \n",
       "6                             NaN           Web           08/07/2013   \n",
       "7                             NaN      Referral           08/01/2013   \n",
       "8                             NaN      Referral           07/30/2013   \n",
       "9                             NaN      Referral           07/30/2013   \n",
       "10                            NaN      Referral           07/30/2013   \n",
       "11                            NaN      Referral           07/30/2013   \n",
       "12                            NaN      Referral           07/31/2013   \n",
       "13                            NaN         Phone           08/01/2013   \n",
       "14                            NaN         Phone           08/01/2013   \n",
       "15                            NaN         Phone           07/31/2013   \n",
       "16                            NaN           Web           07/31/2013   \n",
       "17                            NaN           Web           07/30/2013   \n",
       "18                            NaN           Web           07/30/2013   \n",
       "19                            NaN           Web           07/29/2013   \n",
       "20                            NaN           Web           07/29/2013   \n",
       "21                            NaN           Web           07/31/2013   \n",
       "22                            NaN   Postal mail           07/30/2013   \n",
       "23                            NaN           Web           07/31/2013   \n",
       "24                            NaN      Referral           07/30/2013   \n",
       "25                            NaN      Referral           07/31/2013   \n",
       "26                            NaN           Web           08/01/2013   \n",
       "27                            NaN           Web           08/01/2013   \n",
       "28                            NaN           Web           07/29/2013   \n",
       "29                            NaN           Web           07/30/2013   \n",
       "...                           ...           ...                  ...   \n",
       "596066                      Other           Web           06/03/2016   \n",
       "596067                        NaN      Referral           06/02/2016   \n",
       "596068       Consent not provided           Web           07/07/2016   \n",
       "596069                        NaN           Web           06/27/2016   \n",
       "596070           Consent provided           Web           05/02/2016   \n",
       "596071           Consent provided           Web           05/15/2016   \n",
       "596072       Consent not provided           Web           07/01/2016   \n",
       "596073                        NaN           Web           07/11/2016   \n",
       "596074                        NaN           Web           07/11/2016   \n",
       "596075                        NaN      Referral           05/19/2016   \n",
       "596076           Consent provided           Web           06/27/2016   \n",
       "596077                        NaN           Web           07/14/2016   \n",
       "596078           Consent provided           Web           06/27/2016   \n",
       "596079                        NaN   Postal mail           06/24/2016   \n",
       "596080                        NaN           Web           06/28/2016   \n",
       "596081                        NaN      Referral           06/15/2016   \n",
       "596082                        NaN           Web           07/08/2016   \n",
       "596083                        NaN         Phone           06/21/2016   \n",
       "596084                        NaN           Web           07/06/2016   \n",
       "596085                        NaN           Web           06/28/2016   \n",
       "596086                        NaN           Web           06/09/2016   \n",
       "596087                        NaN      Referral           07/05/2016   \n",
       "596088                        NaN           Web           06/29/2016   \n",
       "596089                        NaN         Phone           06/22/2016   \n",
       "596090                        NaN           Web           06/30/2016   \n",
       "596091                        NaN           Web           07/05/2016   \n",
       "596092                        NaN   Postal mail           06/29/2016   \n",
       "596093                        NaN      Referral           07/05/2016   \n",
       "596094                        NaN           Web           07/12/2016   \n",
       "596095                        NaN           Web           06/30/2016   \n",
       "\n",
       "           Company response to consumer Timely response? Consumer disputed?  \\\n",
       "0               Closed with explanation              Yes                 No   \n",
       "1               Closed with explanation              Yes                 No   \n",
       "2                                Closed              Yes                 No   \n",
       "3               Closed with explanation              Yes                 No   \n",
       "4               Closed with explanation              Yes                 No   \n",
       "5               Closed with explanation              Yes                 No   \n",
       "6       Closed with non-monetary relief              Yes                 No   \n",
       "7               Closed with explanation              Yes                Yes   \n",
       "8               Closed with explanation              Yes                Yes   \n",
       "9               Closed with explanation              Yes                Yes   \n",
       "10      Closed with non-monetary relief              Yes                 No   \n",
       "11              Closed with explanation              Yes                 No   \n",
       "12              Closed with explanation              Yes                Yes   \n",
       "13              Closed with explanation               No                NaN   \n",
       "14      Closed with non-monetary relief              Yes                 No   \n",
       "15              Closed with explanation              Yes                 No   \n",
       "16              Closed with explanation              Yes                Yes   \n",
       "17              Closed with explanation              Yes                Yes   \n",
       "18              Closed with explanation              Yes                 No   \n",
       "19          Closed with monetary relief              Yes                 No   \n",
       "20          Closed with monetary relief              Yes                 No   \n",
       "21              Closed with explanation              Yes                 No   \n",
       "22              Closed with explanation              Yes                 No   \n",
       "23      Closed with non-monetary relief              Yes                 No   \n",
       "24              Closed with explanation              Yes                Yes   \n",
       "25          Closed with monetary relief              Yes                 No   \n",
       "26              Closed with explanation              Yes                 No   \n",
       "27              Closed with explanation              Yes                 No   \n",
       "28      Closed with non-monetary relief              Yes                 No   \n",
       "29              Closed with explanation              Yes                 No   \n",
       "...                                 ...              ...                ...   \n",
       "596066          Closed with explanation              Yes                NaN   \n",
       "596067          Closed with explanation              Yes                NaN   \n",
       "596068          Closed with explanation              Yes                NaN   \n",
       "596069          Closed with explanation               No                NaN   \n",
       "596070          Closed with explanation               No                Yes   \n",
       "596071          Closed with explanation              Yes                NaN   \n",
       "596072  Closed with non-monetary relief              Yes                NaN   \n",
       "596073          Closed with explanation              Yes                NaN   \n",
       "596074          Closed with explanation              Yes                NaN   \n",
       "596075          Closed with explanation              Yes                Yes   \n",
       "596076          Closed with explanation              Yes                NaN   \n",
       "596077                      In progress              Yes                NaN   \n",
       "596078  Closed with non-monetary relief              Yes                NaN   \n",
       "596079          Closed with explanation              Yes                NaN   \n",
       "596080                Untimely response               No                NaN   \n",
       "596081      Closed with monetary relief              Yes                Yes   \n",
       "596082          Closed with explanation              Yes                NaN   \n",
       "596083      Closed with monetary relief              Yes                Yes   \n",
       "596084          Closed with explanation              Yes                NaN   \n",
       "596085                Untimely response               No                NaN   \n",
       "596086          Closed with explanation              Yes                Yes   \n",
       "596087          Closed with explanation              Yes                NaN   \n",
       "596088          Closed with explanation              Yes                Yes   \n",
       "596089          Closed with explanation              Yes                NaN   \n",
       "596090          Closed with explanation              Yes                NaN   \n",
       "596091          Closed with explanation              Yes                NaN   \n",
       "596092          Closed with explanation              Yes                NaN   \n",
       "596093          Closed with explanation              Yes                NaN   \n",
       "596094  Closed with non-monetary relief              Yes                NaN   \n",
       "596095                      In progress              Yes                NaN   \n",
       "\n",
       "        Complaint ID  \n",
       "0             468882  \n",
       "1             468889  \n",
       "2             468879  \n",
       "3             468949  \n",
       "4             475823  \n",
       "5             468981  \n",
       "6             467801  \n",
       "7             475728  \n",
       "8             469026  \n",
       "9             469035  \n",
       "10            469037  \n",
       "11            469284  \n",
       "12            480488  \n",
       "13            468904  \n",
       "14            468905  \n",
       "15            469057  \n",
       "16            469060  \n",
       "17            469070  \n",
       "18            472236  \n",
       "19            469131  \n",
       "20            474204  \n",
       "21            469138  \n",
       "22            469143  \n",
       "23            480173  \n",
       "24            469360  \n",
       "25            469632  \n",
       "26            469173  \n",
       "27            469185  \n",
       "28            469201  \n",
       "29            469210  \n",
       "...              ...  \n",
       "596066       1951183  \n",
       "596067       1942700  \n",
       "596068       2000201  \n",
       "596069       1987257  \n",
       "596070       1905468  \n",
       "596071       1925871  \n",
       "596072       1993546  \n",
       "596073       2006712  \n",
       "596074       2001543  \n",
       "596075       1926893  \n",
       "596076       1986436  \n",
       "596077       2013188  \n",
       "596078       1986945  \n",
       "596079       1982615  \n",
       "596080       1989462  \n",
       "596081       1967445  \n",
       "596082       1988910  \n",
       "596083       1969732  \n",
       "596084       1999707  \n",
       "596085       1972068  \n",
       "596086       1962071  \n",
       "596087       1994177  \n",
       "596088       1990876  \n",
       "596089       1979760  \n",
       "596090       1991102  \n",
       "596091       1998442  \n",
       "596092       1942241  \n",
       "596093       1995993  \n",
       "596094       2008052  \n",
       "596095       1993686  \n",
       "\n",
       "[596096 rows x 18 columns]"
      ]
     },
     "execution_count": 110,
     "metadata": {},
     "output_type": "execute_result"
    }
   ],
   "source": []
  },
  {
   "cell_type": "code",
   "execution_count": 111,
   "metadata": {
    "collapsed": false
   },
   "outputs": [],
   "source": [
    "model_data\n",
    "X = model_data.values\n",
    "y_start = df['Company response to consumer'].values"
   ]
  },
  {
   "cell_type": "code",
   "execution_count": 112,
   "metadata": {
    "collapsed": false
   },
   "outputs": [
    {
     "ename": "ValueError",
     "evalue": "Found arrays with inconsistent numbers of samples: [ 84466 596096]",
     "output_type": "error",
     "traceback": [
      "\u001b[0;31m---------------------------------------------------------------------------\u001b[0m",
      "\u001b[0;31mValueError\u001b[0m                                Traceback (most recent call last)",
      "\u001b[0;32m<ipython-input-112-38548d3aae57>\u001b[0m in \u001b[0;36m<module>\u001b[0;34m()\u001b[0m\n\u001b[0;32m----> 1\u001b[0;31m \u001b[0mX_train\u001b[0m\u001b[0;34m,\u001b[0m \u001b[0mX_test\u001b[0m\u001b[0;34m,\u001b[0m \u001b[0my_train\u001b[0m\u001b[0;34m,\u001b[0m \u001b[0my_test\u001b[0m \u001b[0;34m=\u001b[0m \u001b[0mtrain_test_split\u001b[0m\u001b[0;34m(\u001b[0m\u001b[0mX\u001b[0m\u001b[0;34m,\u001b[0m \u001b[0my_start\u001b[0m\u001b[0;34m,\u001b[0m \u001b[0mtest_size\u001b[0m\u001b[0;34m=\u001b[0m\u001b[0;36m0.3\u001b[0m\u001b[0;34m,\u001b[0m \u001b[0mrandom_state\u001b[0m\u001b[0;34m=\u001b[0m\u001b[0;36m11\u001b[0m\u001b[0;34m)\u001b[0m\u001b[0;34m\u001b[0m\u001b[0m\n\u001b[0m",
      "\u001b[0;32m//anaconda/lib/python2.7/site-packages/sklearn/cross_validation.pyc\u001b[0m in \u001b[0;36mtrain_test_split\u001b[0;34m(*arrays, **options)\u001b[0m\n\u001b[1;32m   1904\u001b[0m     \u001b[0;32mif\u001b[0m \u001b[0mtest_size\u001b[0m \u001b[0;32mis\u001b[0m \u001b[0mNone\u001b[0m \u001b[0;32mand\u001b[0m \u001b[0mtrain_size\u001b[0m \u001b[0;32mis\u001b[0m \u001b[0mNone\u001b[0m\u001b[0;34m:\u001b[0m\u001b[0;34m\u001b[0m\u001b[0m\n\u001b[1;32m   1905\u001b[0m         \u001b[0mtest_size\u001b[0m \u001b[0;34m=\u001b[0m \u001b[0;36m0.25\u001b[0m\u001b[0;34m\u001b[0m\u001b[0m\n\u001b[0;32m-> 1906\u001b[0;31m     \u001b[0marrays\u001b[0m \u001b[0;34m=\u001b[0m \u001b[0mindexable\u001b[0m\u001b[0;34m(\u001b[0m\u001b[0;34m*\u001b[0m\u001b[0marrays\u001b[0m\u001b[0;34m)\u001b[0m\u001b[0;34m\u001b[0m\u001b[0m\n\u001b[0m\u001b[1;32m   1907\u001b[0m     \u001b[0;32mif\u001b[0m \u001b[0mstratify\u001b[0m \u001b[0;32mis\u001b[0m \u001b[0;32mnot\u001b[0m \u001b[0mNone\u001b[0m\u001b[0;34m:\u001b[0m\u001b[0;34m\u001b[0m\u001b[0m\n\u001b[1;32m   1908\u001b[0m         cv = StratifiedShuffleSplit(stratify, test_size=test_size,\n",
      "\u001b[0;32m//anaconda/lib/python2.7/site-packages/sklearn/utils/validation.pyc\u001b[0m in \u001b[0;36mindexable\u001b[0;34m(*iterables)\u001b[0m\n\u001b[1;32m    199\u001b[0m         \u001b[0;32melse\u001b[0m\u001b[0;34m:\u001b[0m\u001b[0;34m\u001b[0m\u001b[0m\n\u001b[1;32m    200\u001b[0m             \u001b[0mresult\u001b[0m\u001b[0;34m.\u001b[0m\u001b[0mappend\u001b[0m\u001b[0;34m(\u001b[0m\u001b[0mnp\u001b[0m\u001b[0;34m.\u001b[0m\u001b[0marray\u001b[0m\u001b[0;34m(\u001b[0m\u001b[0mX\u001b[0m\u001b[0;34m)\u001b[0m\u001b[0;34m)\u001b[0m\u001b[0;34m\u001b[0m\u001b[0m\n\u001b[0;32m--> 201\u001b[0;31m     \u001b[0mcheck_consistent_length\u001b[0m\u001b[0;34m(\u001b[0m\u001b[0;34m*\u001b[0m\u001b[0mresult\u001b[0m\u001b[0;34m)\u001b[0m\u001b[0;34m\u001b[0m\u001b[0m\n\u001b[0m\u001b[1;32m    202\u001b[0m     \u001b[0;32mreturn\u001b[0m \u001b[0mresult\u001b[0m\u001b[0;34m\u001b[0m\u001b[0m\n\u001b[1;32m    203\u001b[0m \u001b[0;34m\u001b[0m\u001b[0m\n",
      "\u001b[0;32m//anaconda/lib/python2.7/site-packages/sklearn/utils/validation.pyc\u001b[0m in \u001b[0;36mcheck_consistent_length\u001b[0;34m(*arrays)\u001b[0m\n\u001b[1;32m    174\u001b[0m     \u001b[0;32mif\u001b[0m \u001b[0mlen\u001b[0m\u001b[0;34m(\u001b[0m\u001b[0muniques\u001b[0m\u001b[0;34m)\u001b[0m \u001b[0;34m>\u001b[0m \u001b[0;36m1\u001b[0m\u001b[0;34m:\u001b[0m\u001b[0;34m\u001b[0m\u001b[0m\n\u001b[1;32m    175\u001b[0m         raise ValueError(\"Found arrays with inconsistent numbers of samples: \"\n\u001b[0;32m--> 176\u001b[0;31m                          \"%s\" % str(uniques))\n\u001b[0m\u001b[1;32m    177\u001b[0m \u001b[0;34m\u001b[0m\u001b[0m\n\u001b[1;32m    178\u001b[0m \u001b[0;34m\u001b[0m\u001b[0m\n",
      "\u001b[0;31mValueError\u001b[0m: Found arrays with inconsistent numbers of samples: [ 84466 596096]"
     ]
    }
   ],
   "source": [
    "X_train, X_test, y_train, y_test = train_test_split(X, y_start, test_size=0.3, random_state=11)"
   ]
  },
  {
   "cell_type": "code",
   "execution_count": null,
   "metadata": {
    "collapsed": false
   },
   "outputs": [],
   "source": [
    "plot_roc(v_probs, y_test, \"ROC plot\", \"False Positive Rate (1 - Specificity)\", \n",
    "         \"True Positive Rate (Sensitivity, Recall)\")"
   ]
  },
  {
   "cell_type": "code",
   "execution_count": null,
   "metadata": {
    "collapsed": true
   },
   "outputs": [],
   "source": []
  },
  {
   "cell_type": "code",
   "execution_count": null,
   "metadata": {
    "collapsed": true
   },
   "outputs": [],
   "source": []
  },
  {
   "cell_type": "code",
   "execution_count": null,
   "metadata": {
    "collapsed": true
   },
   "outputs": [],
   "source": []
  },
  {
   "cell_type": "markdown",
   "metadata": {},
   "source": [
    "# USE TEXT FEATURES"
   ]
  },
  {
   "cell_type": "code",
   "execution_count": null,
   "metadata": {
    "collapsed": false
   },
   "outputs": [],
   "source": [
    "df_words = pd.read_csv('../data/Consumer_Complaints.csv')\n",
    "#df_txt = pd.read_csv('../data/Consumer_Complaints_with_Consumer_Complaint_Narratives.csv')"
   ]
  },
  {
   "cell_type": "code",
   "execution_count": null,
   "metadata": {
    "collapsed": false
   },
   "outputs": [],
   "source": [
    "df_words.head()"
   ]
  },
  {
   "cell_type": "code",
   "execution_count": null,
   "metadata": {
    "collapsed": true
   },
   "outputs": [],
   "source": [
    "words_DF = df_words.drop(df.columns[[1, 69]], axis=1, inplace=True)\n"
   ]
  },
  {
   "cell_type": "code",
   "execution_count": null,
   "metadata": {
    "collapsed": true
   },
   "outputs": [],
   "source": []
  },
  {
   "cell_type": "code",
   "execution_count": null,
   "metadata": {
    "collapsed": true
   },
   "outputs": [],
   "source": []
  },
  {
   "cell_type": "code",
   "execution_count": null,
   "metadata": {
    "collapsed": true
   },
   "outputs": [],
   "source": []
  },
  {
   "cell_type": "code",
   "execution_count": null,
   "metadata": {
    "collapsed": true
   },
   "outputs": [],
   "source": []
  },
  {
   "cell_type": "code",
   "execution_count": null,
   "metadata": {
    "collapsed": true
   },
   "outputs": [],
   "source": []
  },
  {
   "cell_type": "code",
   "execution_count": null,
   "metadata": {
    "collapsed": true
   },
   "outputs": [],
   "source": []
  },
  {
   "cell_type": "code",
   "execution_count": null,
   "metadata": {
    "collapsed": true
   },
   "outputs": [],
   "source": [
    "df_words['Product'].fillna('Not Provided', inplace=True)\n",
    "df_words['Sub-product'].fillna('Not Provided', inplace=True)\n",
    "df_words['Sub-issue'].fillna('Not Provided', inplace=True)\n",
    "df_words['Issue'].fillna('Not Provided', inplace=True)\n",
    "df_words['Consumer complaint narrative'].fillna('Not Provided', inplace=True)\n",
    "df_words['Company public response'].fillna('Not Provided', inplace=True)\n",
    "df_words['Company'].fillna('Not Provided', inplace=True)\n",
    "df_words['State'].fillna('Not Provided', inplace=True)\n",
    "df_words['ZIP code'].fillna('Not Provided', inplace=True)\n",
    "df_words['Tags'].fillna('Not Provided', inplace=True)\n",
    "df_words['Consumer consent provided?'].fillna('Not Provided', inplace=True)\n",
    "df_words['Submitted via'].fillna('Not Provided',inplace=True) \n",
    "df_words['Consumer disputed?'].fillna('Not Provided', inplace=True)"
   ]
  },
  {
   "cell_type": "code",
   "execution_count": null,
   "metadata": {
    "collapsed": true
   },
   "outputs": [],
   "source": []
  },
  {
   "cell_type": "code",
   "execution_count": null,
   "metadata": {
    "collapsed": false
   },
   "outputs": [],
   "source": [
    "#  Remove XXX's in data where personal info has been removed\n",
    "chars_to_remove = ['XX', 'XXX', 'XXXX']\n",
    "df_words['Consumer complaint narrative'] = df['Consumer complaint narrative'].apply(lambda x: x.translate(None, ''.join(chars_to_remove)))"
   ]
  },
  {
   "cell_type": "code",
   "execution_count": null,
   "metadata": {
    "collapsed": false
   },
   "outputs": [],
   "source": [
    "X_word = df_words['Consumer complaint narrative'].values\n",
    "y = df['Company response to consumer'].values\n",
    "\n",
    "y = label_binarize(y, classes=[0, 1, 2])\n",
    "n_classes = 3\n",
    "\n",
    "X_train_word, X_test_word, y_train, y_test = train_test_split(X_word, y, test_size=0.30, random_state=11)\n",
    "vectorizer = TfidfVectorizer(stop_words='english',lowercase=True, min_df=0.001, max_df = 0.2,\n",
    "                             )\n",
    "words_matrix_train =vectorizer.fit_transform(X_train_word)\n",
    "words_matrix_test = vectorizer.transform(X_test_word)\n",
    "words_matrix = vectorizer.transform(X_word)"
   ]
  },
  {
   "cell_type": "code",
   "execution_count": null,
   "metadata": {
    "collapsed": false
   },
   "outputs": [],
   "source": [
    "nbc = OneVsRestClassifier(RandomForestClassifier(n_estimators=500, n_jobs=-1, class_weight='auto'),n_jobs=-1)\n",
    "y_score = nbc.fit(words_matrix_train, y_train).predict_proba(words_matrix_test)"
   ]
  },
  {
   "cell_type": "code",
   "execution_count": null,
   "metadata": {
    "collapsed": false
   },
   "outputs": [],
   "source": [
    "# Compute ROC curve and ROC area for each class\n",
    "fpr = dict()\n",
    "tpr = dict()\n",
    "roc_auc = dict()\n",
    "for i in range(n_classes):\n",
    "    fpr[i], tpr[i], _ = roc_curve(y_test[:, i],y_score[:, i])\n",
    "    roc_auc[i] = auc(fpr[i], tpr[i])"
   ]
  },
  {
   "cell_type": "code",
   "execution_count": null,
   "metadata": {
    "collapsed": false
   },
   "outputs": [],
   "source": [
    "fig = plt.figure(figsize=(8,6))\n",
    "\n",
    "label = ['Closed w/o Relief', 'Closed w/explaination', 'Closed w/relief']\n",
    "for i,v in enumerate(label):\n",
    "    plt.plot(fpr[i], tpr[i], label= v + ' (auc_area = {1:0.2f})'\n",
    "                                   ''.format(i, roc_auc[i]))\n",
    "    \n",
    "plt.plot([0, 1], [0, 1], 'k--')\n",
    "\n",
    "plt.xlim([0.0, 1.0])\n",
    "plt.ylim([0.0, 1.05])\n",
    "plt.xlabel('False Positive Rate (1 - Specificity)')\n",
    "plt.ylabel('True Positive Rate (Sensitivity, Recall)')\n",
    "plt.title('ROC with non-text Features')\n",
    "plt.legend(loc=\"lower right\")\n",
    "\n",
    "\n",
    "plt.show()"
   ]
  },
  {
   "cell_type": "code",
   "execution_count": null,
   "metadata": {
    "collapsed": false
   },
   "outputs": [],
   "source": [
    "X_word2 = "
   ]
  },
  {
   "cell_type": "code",
   "execution_count": null,
   "metadata": {
    "collapsed": true
   },
   "outputs": [],
   "source": [
    "sgd = SGDClassifier(loss= 'log')"
   ]
  },
  {
   "cell_type": "code",
   "execution_count": null,
   "metadata": {
    "collapsed": false
   },
   "outputs": [],
   "source": [
    "words_matrix_train.shape"
   ]
  },
  {
   "cell_type": "code",
   "execution_count": null,
   "metadata": {
    "collapsed": false
   },
   "outputs": [],
   "source": [
    "sgd.fit(words_matrix_train, y_train)"
   ]
  },
  {
   "cell_type": "code",
   "execution_count": null,
   "metadata": {
    "collapsed": true
   },
   "outputs": [],
   "source": [
    "skm.roc_auc_score(y_test, sgd.predict_proba(words_matrix_test)[:, 1])"
   ]
  },
  {
   "cell_type": "code",
   "execution_count": null,
   "metadata": {
    "collapsed": true
   },
   "outputs": [],
   "source": [
    "plot_roc(sgd.predict_proba(words_matrix_test)[:, 1], y_test, \"ROC plot of  complaint dispute prediction, auc = 0.65\", \n",
    "         \"False Positive Rate (1 - Specificity)\", \"True Positive Rate (Sensitivity, Recall)\")"
   ]
  },
  {
   "cell_type": "code",
   "execution_count": null,
   "metadata": {
    "collapsed": true
   },
   "outputs": [],
   "source": []
  },
  {
   "cell_type": "code",
   "execution_count": null,
   "metadata": {
    "collapsed": true
   },
   "outputs": [],
   "source": []
  },
  {
   "cell_type": "code",
   "execution_count": null,
   "metadata": {
    "collapsed": true
   },
   "outputs": [],
   "source": []
  },
  {
   "cell_type": "code",
   "execution_count": null,
   "metadata": {
    "collapsed": true
   },
   "outputs": [],
   "source": []
  },
  {
   "cell_type": "code",
   "execution_count": null,
   "metadata": {
    "collapsed": true
   },
   "outputs": [],
   "source": []
  },
  {
   "cell_type": "code",
   "execution_count": null,
   "metadata": {
    "collapsed": true
   },
   "outputs": [],
   "source": []
  },
  {
   "cell_type": "code",
   "execution_count": null,
   "metadata": {
    "collapsed": true
   },
   "outputs": [],
   "source": []
  },
  {
   "cell_type": "code",
   "execution_count": null,
   "metadata": {
    "collapsed": true
   },
   "outputs": [],
   "source": []
  },
  {
   "cell_type": "code",
   "execution_count": null,
   "metadata": {
    "collapsed": true
   },
   "outputs": [],
   "source": []
  },
  {
   "cell_type": "code",
   "execution_count": null,
   "metadata": {
    "collapsed": true
   },
   "outputs": [],
   "source": []
  },
  {
   "cell_type": "code",
   "execution_count": null,
   "metadata": {
    "collapsed": true
   },
   "outputs": [],
   "source": []
  },
  {
   "cell_type": "code",
   "execution_count": null,
   "metadata": {
    "collapsed": true
   },
   "outputs": [],
   "source": []
  },
  {
   "cell_type": "code",
   "execution_count": null,
   "metadata": {
    "collapsed": true
   },
   "outputs": [],
   "source": []
  },
  {
   "cell_type": "code",
   "execution_count": null,
   "metadata": {
    "collapsed": true
   },
   "outputs": [],
   "source": []
  },
  {
   "cell_type": "code",
   "execution_count": null,
   "metadata": {
    "collapsed": true
   },
   "outputs": [],
   "source": []
  },
  {
   "cell_type": "code",
   "execution_count": null,
   "metadata": {
    "collapsed": true
   },
   "outputs": [],
   "source": []
  },
  {
   "cell_type": "code",
   "execution_count": null,
   "metadata": {
    "collapsed": true
   },
   "outputs": [],
   "source": []
  },
  {
   "cell_type": "code",
   "execution_count": null,
   "metadata": {
    "collapsed": true
   },
   "outputs": [],
   "source": []
  },
  {
   "cell_type": "code",
   "execution_count": null,
   "metadata": {
    "collapsed": true
   },
   "outputs": [],
   "source": []
  },
  {
   "cell_type": "code",
   "execution_count": null,
   "metadata": {
    "collapsed": true
   },
   "outputs": [],
   "source": []
  }
 ],
 "metadata": {
  "kernelspec": {
   "display_name": "Python 2",
   "language": "python",
   "name": "python2"
  },
  "language_info": {
   "codemirror_mode": {
    "name": "ipython",
    "version": 2
   },
   "file_extension": ".py",
   "mimetype": "text/x-python",
   "name": "python",
   "nbconvert_exporter": "python",
   "pygments_lexer": "ipython2",
   "version": "2.7.11"
  }
 },
 "nbformat": 4,
 "nbformat_minor": 0
}
