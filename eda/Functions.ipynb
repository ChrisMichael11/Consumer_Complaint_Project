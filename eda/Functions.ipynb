{
 "cells": [
  {
   "cell_type": "code",
   "execution_count": 29,
   "metadata": {
    "collapsed": true
   },
   "outputs": [],
   "source": [
    "import pandas as pd\n",
    "from pandas import DataFrame, Series\n",
    "import numpy as np\n",
    "import matplotlib.pyplot as plt\n",
    "import datetime\n",
    "import random\n",
    "\n",
    "from pyzipcode import ZipCodeDatabase\n",
    "zipcode=ZipCodeDatabase()\n",
    "\n",
    "%matplotlib inline"
   ]
  },
  {
   "cell_type": "code",
   "execution_count": 30,
   "metadata": {
    "collapsed": false
   },
   "outputs": [],
   "source": [
    "df = pd.read_csv('../data/Consumer_Complaints_with_Consumer_Complaint_Narratives.csv')"
   ]
  },
  {
   "cell_type": "markdown",
   "metadata": {},
   "source": [
    "# Create 'df_text' for text modeling"
   ]
  },
  {
   "cell_type": "code",
   "execution_count": 31,
   "metadata": {
    "collapsed": true
   },
   "outputs": [],
   "source": [
    "def create_df_text(df):\n",
    "    df_text = pd.DataFrame()  # Create empty df to fill\n",
    "    \n",
    "    df_text['Consumer complaint narrative'] = df['Consumer complaint narrative']\n",
    "    \n",
    "    cust_resp_dict ={'Closed':0,\n",
    "                 'Untimely response':0,\n",
    "                 'Closed with explanation':1,\n",
    "                 'Closed with non-monetary relief':2,\n",
    "                 'Closed with monetary relief':2}\n",
    "    \n",
    "    df_text['Company response to consumer'] = df['Company response to consumer'].apply(lambda x: cust_resp_dict[x])\n",
    "    \n",
    "    return df_text\n",
    "    "
   ]
  },
  {
   "cell_type": "code",
   "execution_count": 32,
   "metadata": {
    "collapsed": false
   },
   "outputs": [
    {
     "data": {
      "text/html": [
       "<div>\n",
       "<table border=\"1\" class=\"dataframe\">\n",
       "  <thead>\n",
       "    <tr style=\"text-align: right;\">\n",
       "      <th></th>\n",
       "      <th>Consumer complaint narrative</th>\n",
       "      <th>Company response to consumer</th>\n",
       "    </tr>\n",
       "  </thead>\n",
       "  <tbody>\n",
       "    <tr>\n",
       "      <th>0</th>\n",
       "      <td>Received Capital One charge card offer XXXX. A...</td>\n",
       "      <td>1</td>\n",
       "    </tr>\n",
       "    <tr>\n",
       "      <th>1</th>\n",
       "      <td>I do n't know how they got my cell number. I t...</td>\n",
       "      <td>1</td>\n",
       "    </tr>\n",
       "    <tr>\n",
       "      <th>2</th>\n",
       "      <td>I 'm a longtime member of Charter One Bank/RBS...</td>\n",
       "      <td>1</td>\n",
       "    </tr>\n",
       "    <tr>\n",
       "      <th>3</th>\n",
       "      <td>After looking at my credit report, I saw a col...</td>\n",
       "      <td>2</td>\n",
       "    </tr>\n",
       "    <tr>\n",
       "      <th>4</th>\n",
       "      <td>I received a call from a XXXX XXXX from XXXX @...</td>\n",
       "      <td>1</td>\n",
       "    </tr>\n",
       "  </tbody>\n",
       "</table>\n",
       "</div>"
      ],
      "text/plain": [
       "                        Consumer complaint narrative  \\\n",
       "0  Received Capital One charge card offer XXXX. A...   \n",
       "1  I do n't know how they got my cell number. I t...   \n",
       "2  I 'm a longtime member of Charter One Bank/RBS...   \n",
       "3  After looking at my credit report, I saw a col...   \n",
       "4  I received a call from a XXXX XXXX from XXXX @...   \n",
       "\n",
       "   Company response to consumer  \n",
       "0                             1  \n",
       "1                             1  \n",
       "2                             1  \n",
       "3                             2  \n",
       "4                             1  "
      ]
     },
     "execution_count": 32,
     "metadata": {},
     "output_type": "execute_result"
    }
   ],
   "source": [
    "create_df_text(df).head()"
   ]
  },
  {
   "cell_type": "markdown",
   "metadata": {},
   "source": [
    "# Create 'df_no_text' for non-text analysis"
   ]
  },
  {
   "cell_type": "code",
   "execution_count": 33,
   "metadata": {
    "collapsed": true
   },
   "outputs": [],
   "source": [
    "def create_df_no_text(df):\n",
    "    \"\"\"\n",
    "    Take input df and fill all missing/NaN or non-sensical data with something\n",
    "    that is useful in a model.  Also create labels column 'Company response to consumer', with 3 categories.\n",
    "    INPUT - dataframe\n",
    "    OUTPUT - 'df_no_text' dataframe for use in modeling non-text features\n",
    "    \"\"\"\n",
    "    df_no_text = pd.DataFrame()  # Create empty df to fill\n",
    "    \n",
    "    df['Product'].fillna('Not Provided', inplace=True)\n",
    "    df['Sub-product'].fillna('Not Provided', inplace=True)\n",
    "    df['Sub-issue'].fillna('Not Provided', inplace=True)\n",
    "    df['Issue'].fillna('Not Provided', inplace=True)\n",
    "    df['Consumer complaint narrative'].fillna('Not Provided', inplace=True)\n",
    "    df['Company public response'].fillna('Not Provided', inplace=True)\n",
    "    df['Company'].fillna('Not Provided', inplace=True)\n",
    "    df['State'].fillna('Not Provided', inplace=True)\n",
    "    df['ZIP code'].fillna('Not Provided', inplace=True)\n",
    "    df['Tags'].fillna('Not Provided', inplace=True)\n",
    "    df['Consumer consent provided?'].fillna('Not Provided', inplace=True)\n",
    "    df['Submitted via'].fillna('Not Provided',inplace=True)\n",
    "    df['Consumer disputed?'].fillna('Not Provided', inplace=True)\n",
    "    \n",
    "    column=['Product', 'Sub-product','Issue','Sub-issue', 'Company', 'Tags', 'State']\n",
    "    for name in column:\n",
    "        repl={}\n",
    "        i=0\n",
    "        for value in df[name].unique():\n",
    "            repl[value] = i\n",
    "            i+=1\n",
    "\n",
    "        df[name] = df[name].apply(lambda x: repl[x])\n",
    "        df_no_text[name] = df[name].astype('category')\n",
    "        \n",
    "    cust_resp_dict ={'Closed':0,\n",
    "                 'Untimely response':0,\n",
    "                 'Closed with explanation':1,\n",
    "                 'Closed with non-monetary relief':2,\n",
    "                 'Closed with monetary relief':2}\n",
    "    \n",
    "    df_no_text['Company response to consumer'] = df['Company response to consumer'].apply(lambda x: cust_resp_dict[x])\n",
    "\n",
    "    return df_no_text\n",
    "\n"
   ]
  },
  {
   "cell_type": "code",
   "execution_count": 36,
   "metadata": {
    "collapsed": false
   },
   "outputs": [
    {
     "data": {
      "text/html": [
       "<div>\n",
       "<table border=\"1\" class=\"dataframe\">\n",
       "  <thead>\n",
       "    <tr style=\"text-align: right;\">\n",
       "      <th></th>\n",
       "      <th>Product</th>\n",
       "      <th>Sub-product</th>\n",
       "      <th>Issue</th>\n",
       "      <th>Sub-issue</th>\n",
       "      <th>Company</th>\n",
       "      <th>Tags</th>\n",
       "      <th>State</th>\n",
       "      <th>Company response to consumer</th>\n",
       "    </tr>\n",
       "  </thead>\n",
       "  <tbody>\n",
       "    <tr>\n",
       "      <th>0</th>\n",
       "      <td>0</td>\n",
       "      <td>0</td>\n",
       "      <td>0</td>\n",
       "      <td>0</td>\n",
       "      <td>0</td>\n",
       "      <td>0</td>\n",
       "      <td>0</td>\n",
       "      <td>1</td>\n",
       "    </tr>\n",
       "    <tr>\n",
       "      <th>1</th>\n",
       "      <td>1</td>\n",
       "      <td>1</td>\n",
       "      <td>1</td>\n",
       "      <td>1</td>\n",
       "      <td>1</td>\n",
       "      <td>0</td>\n",
       "      <td>1</td>\n",
       "      <td>1</td>\n",
       "    </tr>\n",
       "    <tr>\n",
       "      <th>2</th>\n",
       "      <td>0</td>\n",
       "      <td>0</td>\n",
       "      <td>2</td>\n",
       "      <td>0</td>\n",
       "      <td>2</td>\n",
       "      <td>0</td>\n",
       "      <td>2</td>\n",
       "      <td>1</td>\n",
       "    </tr>\n",
       "    <tr>\n",
       "      <th>3</th>\n",
       "      <td>2</td>\n",
       "      <td>0</td>\n",
       "      <td>3</td>\n",
       "      <td>2</td>\n",
       "      <td>3</td>\n",
       "      <td>0</td>\n",
       "      <td>3</td>\n",
       "      <td>2</td>\n",
       "    </tr>\n",
       "    <tr>\n",
       "      <th>4</th>\n",
       "      <td>1</td>\n",
       "      <td>2</td>\n",
       "      <td>1</td>\n",
       "      <td>3</td>\n",
       "      <td>4</td>\n",
       "      <td>0</td>\n",
       "      <td>4</td>\n",
       "      <td>1</td>\n",
       "    </tr>\n",
       "  </tbody>\n",
       "</table>\n",
       "</div>"
      ],
      "text/plain": [
       "  Product Sub-product Issue Sub-issue Company Tags State  \\\n",
       "0       0           0     0         0       0    0     0   \n",
       "1       1           1     1         1       1    0     1   \n",
       "2       0           0     2         0       2    0     2   \n",
       "3       2           0     3         2       3    0     3   \n",
       "4       1           2     1         3       4    0     4   \n",
       "\n",
       "   Company response to consumer  \n",
       "0                             1  \n",
       "1                             1  \n",
       "2                             1  \n",
       "3                             2  \n",
       "4                             1  "
      ]
     },
     "execution_count": 36,
     "metadata": {},
     "output_type": "execute_result"
    }
   ],
   "source": [
    "create_df_no_text(df).head()"
   ]
  },
  {
   "cell_type": "code",
   "execution_count": null,
   "metadata": {
    "collapsed": true
   },
   "outputs": [],
   "source": []
  },
  {
   "cell_type": "markdown",
   "metadata": {},
   "source": [
    "## Other functions that I didn't need to use (see them in use (in non-function form) in the EDA_Response_Prediction_txt.ipynb)"
   ]
  },
  {
   "cell_type": "code",
   "execution_count": 38,
   "metadata": {
    "collapsed": true
   },
   "outputs": [],
   "source": [
    "def fill_missing_data(df):\n",
    "    \"\"\"\n",
    "    Take input df and fill all missing/NaN or non-sensical data with something\n",
    "    that is useful\n",
    "    INPUT - dataframe\n",
    "    OUTPUT - dataframe\n",
    "    \"\"\"\n",
    "    df['Product'].fillna('Not Provided', inplace=True)\n",
    "    df['Sub-product'].fillna('Not Provided', inplace=True)\n",
    "    df['Sub-issue'].fillna('Not Provided', inplace=True)\n",
    "    df['Issue'].fillna('Not Provided', inplace=True)\n",
    "    df['Consumer complaint narrative'].fillna('Not Provided', inplace=True)\n",
    "    df['Company public response'].fillna('Not Provided', inplace=True)\n",
    "    df['Company'].fillna('Not Provided', inplace=True)\n",
    "    # df['State'].fillna('Not Provided', inplace=True)\n",
    "    ## Modified by \"find_state_by_zip\" function\n",
    "    # df['ZIP code'].fillna('Not Provided', inplace=True)\n",
    "    ## Modified by \"find_state_by_zip\" function\n",
    "    df['Tags'].fillna('Not Provided', inplace=True)\n",
    "    df['Consumer consent provided?'].fillna('Not Provided', inplace=True)\n",
    "    df['Submitted via'].fillna('Not Provided',inplace=True)\n",
    "    df['Consumer disputed?'].fillna('Not Provided', inplace=True)\n",
    "\n",
    "    return df"
   ]
  },
  {
   "cell_type": "code",
   "execution_count": 39,
   "metadata": {
    "collapsed": true
   },
   "outputs": [],
   "source": [
    "def date_cleaning(df):\n",
    "    \"\"\"\n",
    "    Clean dates, transform to datetime\n",
    "    \"\"\"\n",
    "    df['Recieved Year'] = df['Date received'].apply(lambda x: x.year)\n",
    "    df['Recieved Month'] = df['Date received'].apply(lambda x: x.month)\n",
    "    df['Recieved Day'] = df['Date received'].apply(lambda x: x.day)\n",
    "\n",
    "    df['Submitted Year'] = df['Date sent to company'].apply(lambda x: x.year)\n",
    "    df['Submitted Month'] = df['Date sent to company'].apply(lambda x: x.month)\n",
    "    df['Submitted Day'] = df['Date sent to company'].apply(lambda x: x.day)\n",
    "\n",
    "    return df"
   ]
  },
  {
   "cell_type": "code",
   "execution_count": 40,
   "metadata": {
    "collapsed": true
   },
   "outputs": [],
   "source": [
    "def modify_categoricals(df):\n",
    "    \"\"\"\n",
    "    Turn categorical variables into Yes/No, True/False, or 1/0 for input into models.\n",
    "    INPUT - dataframe\n",
    "    OUTPUT - dataframe\n",
    "    \"\"\"\n",
    "\n",
    "    # MODIFY 'Consumer consent provided?' to be T/F\n",
    "    df['Consumer consent provided?'] = df['Consumer consent provided?'].apply(lambda x:'Consent not provided' if x=='Other' or x=='Consent withdrawn' or x=='Not Provided' else x)\n",
    "    \n",
    "    replace_consent = {'Consent provided': True, \"Consent not provided\": False}\n",
    "    df['Consumer consent provided?'] = df['Consumer consent provided?'].apply(lambda x: replace_consent[x])\n",
    "\n",
    "    # MODIFY 'Consumer disputed?' to be yes/no\n",
    "    df['Consumer disputed?'] = df['Consumer disputed?'].apply(lambda x: 'No' if x=='Not Provided' else x)\n",
    "\n",
    "    replace_Y_N_to_TF = {'Yes': True, 'No':False}\n",
    "\n",
    "    df['Consumer disputed?'] = df['Consumer disputed?'].apply(lambda x: replace_Y_N_to_TF[x])\n",
    "\n",
    "#     MODIFY 'Timely response?'\n",
    "#     df['Timely response?'] = df['Timely response?'].apply(lambda x: replace[x])\n",
    "\n",
    "    return df\n"
   ]
  },
  {
   "cell_type": "code",
   "execution_count": 41,
   "metadata": {
    "collapsed": true
   },
   "outputs": [],
   "source": [
    "def count_company_complaints(df):\n",
    "    \"\"\"\n",
    "    Create count of complaints for each company, add column\n",
    "    \"\"\"\n",
    "    count_company_complaints = df['Company'].value_counts()\n",
    "    df['Count of Company Complaints'] = df['Company'].apply(lambda x: count_company_complaints[x])\n",
    "\n",
    "    return df"
   ]
  },
  {
   "cell_type": "code",
   "execution_count": 42,
   "metadata": {
    "collapsed": false
   },
   "outputs": [],
   "source": [
    "def find_state_by_zip(df):\n",
    "    zipcode = ZipCodeDatabase\n",
    "    for item in df[pd.isnull(df['State']) & pd.notnull(df['ZIP code'])].index:\n",
    "        try:\n",
    "            df['State'][i] = str(zip[df['ZIP code'][i]].state)\n",
    "        except:\n",
    "            continue\n",
    "\n",
    "    #  Fill in empties that can't be filled with pyzipcode\n",
    "    df['State'].fillna('Not provided', inplace=True)\n",
    "    df['ZIP code'].fillna('Not provided', inplace=True)\n",
    "\n",
    "    return df"
   ]
  },
  {
   "cell_type": "code",
   "execution_count": 43,
   "metadata": {
    "collapsed": true
   },
   "outputs": [],
   "source": [
    "def create_numerical_features(df):\n",
    "    \"\"\"\n",
    "    Create numerical values for columns with many different values.\n",
    "    ['Product', 'Sub-product','Issue','Sub-issue','Tags', 'State']\n",
    "    Count unique items (see EDA for more info) and assign number\n",
    "    INPUT - dataframe\n",
    "    OUTPUT - dataframe\n",
    "    \"\"\"\n",
    "    column=['Product', 'Sub-product','Issue','Sub-issue','Tags', 'State']\n",
    "    for name in column:\n",
    "        repl={}\n",
    "        i=0\n",
    "        for value in df[name].unique():\n",
    "            repl[value] = i\n",
    "            i+=1\n",
    "\n",
    "    df[name] = df[name].apply(lambda x: repl[x])\n",
    "#     df_model[name] = df[name].astype('category')\n",
    "\n",
    "    return df\n"
   ]
  },
  {
   "cell_type": "code",
   "execution_count": 45,
   "metadata": {
    "collapsed": false
   },
   "outputs": [],
   "source": [
    "# fill_missing_data(df)\n",
    "# date_cleaning(df)\n",
    "# modify_categoricals(df)\n",
    "# count_company_complaints(df)\n",
    "# find_state_by_zip(df)\n",
    "# create_numerical_features(df)"
   ]
  },
  {
   "cell_type": "code",
   "execution_count": 46,
   "metadata": {
    "collapsed": false
   },
   "outputs": [
    {
     "data": {
      "text/html": [
       "<div>\n",
       "<table border=\"1\" class=\"dataframe\">\n",
       "  <thead>\n",
       "    <tr style=\"text-align: right;\">\n",
       "      <th></th>\n",
       "      <th>Date received</th>\n",
       "      <th>Product</th>\n",
       "      <th>Sub-product</th>\n",
       "      <th>Issue</th>\n",
       "      <th>Sub-issue</th>\n",
       "      <th>Consumer complaint narrative</th>\n",
       "      <th>Company public response</th>\n",
       "      <th>Company</th>\n",
       "      <th>State</th>\n",
       "      <th>ZIP code</th>\n",
       "      <th>Tags</th>\n",
       "      <th>Consumer consent provided?</th>\n",
       "      <th>Submitted via</th>\n",
       "      <th>Date sent to company</th>\n",
       "      <th>Company response to consumer</th>\n",
       "      <th>Timely response?</th>\n",
       "      <th>Consumer disputed?</th>\n",
       "      <th>Complaint ID</th>\n",
       "    </tr>\n",
       "  </thead>\n",
       "  <tbody>\n",
       "    <tr>\n",
       "      <th>0</th>\n",
       "      <td>03/24/2015</td>\n",
       "      <td>0</td>\n",
       "      <td>0</td>\n",
       "      <td>0</td>\n",
       "      <td>0</td>\n",
       "      <td>Received Capital One charge card offer XXXX. A...</td>\n",
       "      <td>Not Provided</td>\n",
       "      <td>0</td>\n",
       "      <td>0</td>\n",
       "      <td>440XX</td>\n",
       "      <td>0</td>\n",
       "      <td>Consent provided</td>\n",
       "      <td>Web</td>\n",
       "      <td>03/30/2015</td>\n",
       "      <td>Closed with explanation</td>\n",
       "      <td>Yes</td>\n",
       "      <td>No</td>\n",
       "      <td>1297939</td>\n",
       "    </tr>\n",
       "    <tr>\n",
       "      <th>1</th>\n",
       "      <td>03/23/2015</td>\n",
       "      <td>1</td>\n",
       "      <td>1</td>\n",
       "      <td>1</td>\n",
       "      <td>1</td>\n",
       "      <td>I do n't know how they got my cell number. I t...</td>\n",
       "      <td>Not Provided</td>\n",
       "      <td>1</td>\n",
       "      <td>1</td>\n",
       "      <td>727XX</td>\n",
       "      <td>0</td>\n",
       "      <td>Consent provided</td>\n",
       "      <td>Web</td>\n",
       "      <td>03/23/2015</td>\n",
       "      <td>Closed with explanation</td>\n",
       "      <td>Yes</td>\n",
       "      <td>No</td>\n",
       "      <td>1296593</td>\n",
       "    </tr>\n",
       "    <tr>\n",
       "      <th>2</th>\n",
       "      <td>03/23/2015</td>\n",
       "      <td>0</td>\n",
       "      <td>0</td>\n",
       "      <td>2</td>\n",
       "      <td>0</td>\n",
       "      <td>I 'm a longtime member of Charter One Bank/RBS...</td>\n",
       "      <td>Not Provided</td>\n",
       "      <td>2</td>\n",
       "      <td>2</td>\n",
       "      <td>482XX</td>\n",
       "      <td>0</td>\n",
       "      <td>Consent provided</td>\n",
       "      <td>Web</td>\n",
       "      <td>03/23/2015</td>\n",
       "      <td>Closed with explanation</td>\n",
       "      <td>Yes</td>\n",
       "      <td>Yes</td>\n",
       "      <td>1296693</td>\n",
       "    </tr>\n",
       "    <tr>\n",
       "      <th>3</th>\n",
       "      <td>03/23/2015</td>\n",
       "      <td>2</td>\n",
       "      <td>0</td>\n",
       "      <td>3</td>\n",
       "      <td>2</td>\n",
       "      <td>After looking at my credit report, I saw a col...</td>\n",
       "      <td>Company chooses not to provide a public response</td>\n",
       "      <td>3</td>\n",
       "      <td>3</td>\n",
       "      <td>331XX</td>\n",
       "      <td>0</td>\n",
       "      <td>Consent provided</td>\n",
       "      <td>Web</td>\n",
       "      <td>03/27/2015</td>\n",
       "      <td>Closed with non-monetary relief</td>\n",
       "      <td>Yes</td>\n",
       "      <td>No</td>\n",
       "      <td>1296955</td>\n",
       "    </tr>\n",
       "    <tr>\n",
       "      <th>4</th>\n",
       "      <td>03/23/2015</td>\n",
       "      <td>1</td>\n",
       "      <td>2</td>\n",
       "      <td>1</td>\n",
       "      <td>3</td>\n",
       "      <td>I received a call from a XXXX XXXX from XXXX @...</td>\n",
       "      <td>Not Provided</td>\n",
       "      <td>4</td>\n",
       "      <td>4</td>\n",
       "      <td>291XX</td>\n",
       "      <td>0</td>\n",
       "      <td>Consent provided</td>\n",
       "      <td>Web</td>\n",
       "      <td>03/23/2015</td>\n",
       "      <td>Closed with explanation</td>\n",
       "      <td>Yes</td>\n",
       "      <td>No</td>\n",
       "      <td>1296727</td>\n",
       "    </tr>\n",
       "  </tbody>\n",
       "</table>\n",
       "</div>"
      ],
      "text/plain": [
       "  Date received  Product  Sub-product  Issue  Sub-issue  \\\n",
       "0    03/24/2015        0            0      0          0   \n",
       "1    03/23/2015        1            1      1          1   \n",
       "2    03/23/2015        0            0      2          0   \n",
       "3    03/23/2015        2            0      3          2   \n",
       "4    03/23/2015        1            2      1          3   \n",
       "\n",
       "                        Consumer complaint narrative  \\\n",
       "0  Received Capital One charge card offer XXXX. A...   \n",
       "1  I do n't know how they got my cell number. I t...   \n",
       "2  I 'm a longtime member of Charter One Bank/RBS...   \n",
       "3  After looking at my credit report, I saw a col...   \n",
       "4  I received a call from a XXXX XXXX from XXXX @...   \n",
       "\n",
       "                            Company public response  Company  State ZIP code  \\\n",
       "0                                      Not Provided        0      0    440XX   \n",
       "1                                      Not Provided        1      1    727XX   \n",
       "2                                      Not Provided        2      2    482XX   \n",
       "3  Company chooses not to provide a public response        3      3    331XX   \n",
       "4                                      Not Provided        4      4    291XX   \n",
       "\n",
       "   Tags Consumer consent provided? Submitted via Date sent to company  \\\n",
       "0     0           Consent provided           Web           03/30/2015   \n",
       "1     0           Consent provided           Web           03/23/2015   \n",
       "2     0           Consent provided           Web           03/23/2015   \n",
       "3     0           Consent provided           Web           03/27/2015   \n",
       "4     0           Consent provided           Web           03/23/2015   \n",
       "\n",
       "      Company response to consumer Timely response? Consumer disputed?  \\\n",
       "0          Closed with explanation              Yes                 No   \n",
       "1          Closed with explanation              Yes                 No   \n",
       "2          Closed with explanation              Yes                Yes   \n",
       "3  Closed with non-monetary relief              Yes                 No   \n",
       "4          Closed with explanation              Yes                 No   \n",
       "\n",
       "   Complaint ID  \n",
       "0       1297939  \n",
       "1       1296593  \n",
       "2       1296693  \n",
       "3       1296955  \n",
       "4       1296727  "
      ]
     },
     "execution_count": 46,
     "metadata": {},
     "output_type": "execute_result"
    }
   ],
   "source": [
    "df.head()"
   ]
  },
  {
   "cell_type": "code",
   "execution_count": null,
   "metadata": {
    "collapsed": true
   },
   "outputs": [],
   "source": []
  }
 ],
 "metadata": {
  "kernelspec": {
   "display_name": "Python 2",
   "language": "python",
   "name": "python2"
  },
  "language_info": {
   "codemirror_mode": {
    "name": "ipython",
    "version": 2
   },
   "file_extension": ".py",
   "mimetype": "text/x-python",
   "name": "python",
   "nbconvert_exporter": "python",
   "pygments_lexer": "ipython2",
   "version": "2.7.11"
  }
 },
 "nbformat": 4,
 "nbformat_minor": 0
}
