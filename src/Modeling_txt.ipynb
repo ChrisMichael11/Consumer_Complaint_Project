{
 "cells": [
  {
   "cell_type": "code",
   "execution_count": 1,
   "metadata": {
    "collapsed": true
   },
   "outputs": [],
   "source": [
    "import pandas as pd\n",
    "from pandas import DataFrame, Series\n",
    "import numpy as np\n",
    "import matplotlib.pyplot as plt\n",
    "import datetime\n",
    "import random\n",
    "\n",
    "%matplotlib inline"
   ]
  },
  {
   "cell_type": "code",
   "execution_count": 2,
   "metadata": {
    "collapsed": true
   },
   "outputs": [],
   "source": [
    "df = pd.read_csv('../data/Consumer_Complaints_with_Consumer_Complaint_Narratives.csv')"
   ]
  },
  {
   "cell_type": "markdown",
   "metadata": {},
   "source": [
    "# Create 'df_text' for text modeling"
   ]
  },
  {
   "cell_type": "code",
   "execution_count": 3,
   "metadata": {
    "collapsed": true
   },
   "outputs": [],
   "source": [
    "def create_df_text(df):\n",
    "    df_text = pd.DataFrame()  # Create empty df to fill\n",
    "    \n",
    "    df_text['Consumer complaint narrative'] = df['Consumer complaint narrative']\n",
    "    \n",
    "    cust_resp_dict ={'Closed':0,\n",
    "                 'Untimely response':0,\n",
    "                 'Closed with explanation':1,\n",
    "                 'Closed with non-monetary relief':2,\n",
    "                 'Closed with monetary relief':2}\n",
    "    \n",
    "    df_text['Company response to consumer'] = df['Company response to consumer'].apply(lambda x: cust_resp_dict[x])\n",
    "    \n",
    "    return df_text"
   ]
  },
  {
   "cell_type": "code",
   "execution_count": 4,
   "metadata": {
    "collapsed": false
   },
   "outputs": [
    {
     "data": {
      "text/html": [
       "<div>\n",
       "<table border=\"1\" class=\"dataframe\">\n",
       "  <thead>\n",
       "    <tr style=\"text-align: right;\">\n",
       "      <th></th>\n",
       "      <th>Consumer complaint narrative</th>\n",
       "      <th>Company response to consumer</th>\n",
       "    </tr>\n",
       "  </thead>\n",
       "  <tbody>\n",
       "    <tr>\n",
       "      <th>0</th>\n",
       "      <td>Received Capital One charge card offer XXXX. A...</td>\n",
       "      <td>1</td>\n",
       "    </tr>\n",
       "    <tr>\n",
       "      <th>1</th>\n",
       "      <td>I do n't know how they got my cell number. I t...</td>\n",
       "      <td>1</td>\n",
       "    </tr>\n",
       "    <tr>\n",
       "      <th>2</th>\n",
       "      <td>I 'm a longtime member of Charter One Bank/RBS...</td>\n",
       "      <td>1</td>\n",
       "    </tr>\n",
       "    <tr>\n",
       "      <th>3</th>\n",
       "      <td>After looking at my credit report, I saw a col...</td>\n",
       "      <td>2</td>\n",
       "    </tr>\n",
       "    <tr>\n",
       "      <th>4</th>\n",
       "      <td>I received a call from a XXXX XXXX from XXXX @...</td>\n",
       "      <td>1</td>\n",
       "    </tr>\n",
       "  </tbody>\n",
       "</table>\n",
       "</div>"
      ],
      "text/plain": [
       "                        Consumer complaint narrative  \\\n",
       "0  Received Capital One charge card offer XXXX. A...   \n",
       "1  I do n't know how they got my cell number. I t...   \n",
       "2  I 'm a longtime member of Charter One Bank/RBS...   \n",
       "3  After looking at my credit report, I saw a col...   \n",
       "4  I received a call from a XXXX XXXX from XXXX @...   \n",
       "\n",
       "   Company response to consumer  \n",
       "0                             1  \n",
       "1                             1  \n",
       "2                             1  \n",
       "3                             2  \n",
       "4                             1  "
      ]
     },
     "execution_count": 4,
     "metadata": {},
     "output_type": "execute_result"
    }
   ],
   "source": [
    "create_df_text(df).head()"
   ]
  },
  {
   "cell_type": "markdown",
   "metadata": {},
   "source": [
    "# Using Text Features"
   ]
  },
  {
   "cell_type": "code",
   "execution_count": 5,
   "metadata": {
    "collapsed": true
   },
   "outputs": [],
   "source": [
    "def prep_text_data(df):\n",
    "    from sklearn.preprocessing import StandardScaler, label_binarize, MaxAbsScaler\n",
    "#     print df.head()\n",
    "    y_ = df['Company response to consumer']\n",
    "    y = label_binarize(y_, classes = [0, 1, 2])\n",
    "    n_classes=3\n",
    "#     y = y.sum(axis=1)\n",
    "    df.pop('Company response to consumer')\n",
    "    X = df.values\n",
    "\n",
    "    print X.shape, y.shape\n",
    "    print y\n",
    "    return X, y"
   ]
  },
  {
   "cell_type": "code",
   "execution_count": 7,
   "metadata": {
    "collapsed": false
   },
   "outputs": [
    {
     "name": "stdout",
     "output_type": "stream",
     "text": [
      "(84466, 1) (84466, 3)\n",
      "[[0 1 0]\n",
      " [0 1 0]\n",
      " [0 1 0]\n",
      " ..., \n",
      " [0 1 0]\n",
      " [0 1 0]\n",
      " [0 0 1]]\n"
     ]
    }
   ],
   "source": [
    "df_text = create_df_text(df)\n",
    "X, y = prep_text_data(df_text)"
   ]
  },
  {
   "cell_type": "code",
   "execution_count": 13,
   "metadata": {
    "collapsed": true
   },
   "outputs": [],
   "source": [
    "def train_test_split_function(X, y):\n",
    "    from sklearn.cross_validation import train_test_split\n",
    "\n",
    "    X_train, X_test, y_train, y_test = train_test_split(X,\n",
    "                                                        y,\n",
    "                                                        test_size=0.3,\n",
    "                                                        random_state=11)\n",
    "    \n",
    "#     scaler = StandardScaler()\n",
    "#     scaler.fit(X_train)\n",
    "#     X_train = scaler.transform(X_train)\n",
    "#     X_test = scaler.transform(X_test)\n",
    "#     from sklearn.utils import shuffle\n",
    "#     X_shuf, Y_shuf = shuffle(X_transformed, Y)\n",
    "    return X_train, X_test, y_train, y_test"
   ]
  },
  {
   "cell_type": "code",
   "execution_count": 14,
   "metadata": {
    "collapsed": false
   },
   "outputs": [],
   "source": [
    "X_train, X_test, y_train, y_test = train_test_split_function(X, y)"
   ]
  },
  {
   "cell_type": "code",
   "execution_count": 12,
   "metadata": {
    "collapsed": false
   },
   "outputs": [
    {
     "data": {
      "text/plain": [
       "array([[ 'Order # XXXX was supposedly delivered on or around XXXX XXXX, tracking info shows it was signed by someone who forged my signature, a copy is enclosed. XXXX XXXX was a Monday, I was not at home on this day and the signature is forged as it is not mine, not even fully signed. The signature is not my full name, you can see from the copy provided my USPS. An A-Z claim was filed with Amazon, however, it was closed a day after opening stating the item was signed for by myself and would not investigate further. A dispute was made with Amazon credit as well, however, it might have been closed as well and the reason for this complaint. The total charge for the order is XXXX, please advise Synchrony Bank I need this item disputed and or refunded, if possible. \\n'],\n",
       "       [ 'My mortgage was owned by XXXX XXXX XXXX. It was then, as customary, my mortgage is now being handled by Seterus, which in the past 2 years have been, by far the worse .... even worse than XXXX XXXX XXXX. XXXX XXXX, 2015 I sent Seterus a check from XXXX XXXX to have return to XXXX being that I decided to go with another Insurance Company. A year later, Seterus claims I owe that money and they had never received the funds.Of course they increased my ESCROW so I had to do their job, contact XXXX, have them re-issue the check, send it to Seterus via Register Return Receipt, once I confirmed the check was received by Seterus, I called to follow up, and they still claimed the check had not been receive, I lost it and told them off.They increased my mortgage payment and said once they received the check, they will do another escrow analysis and it would take up to 30 business days to make any adjustments in my account. XXXX & behold they made the adjustments and 30 days exactly my mortgage payment was re-adjusted, ( which leads me to believe they had the check all along and did not want to admit it ). Yesterday I come to find that the taxes on my home have not been paid. Seterus was returned a payment of {$1600.00} from XXXX XXXX XXXX Collector and has been sitting on it for 1 month.Yesterday I received an email form them indicating my taxes are past due and that further penalties and fees are being accrued for lack of payment. I called Seterus once again spoke to a representative by the name of XXXX, and was told she would put an \" urgent action required \\'\\' note in my file and I would have to call back and follow up. Really? do I have to follow up and do their job? why in XXXX are they managing something they ca n\\'t obviously not able to handle? I am the victim here, not only has my home insurance been jeopardize but now my taxes? Seriously? Does n\\'t Seterus and their \" reps \\'\\' know I can have my home be taken away for not paying my Insurance or Taxes? What kind of a joint are they running there? If these XXXX ups are the lack of service Seterus creates, then why nothing is being done, why does n\\'t Seterus pay out of their pockets these kind of financial XXXX ups caused by their lack of service? I am sure they have liability insurance. I refuse to pay for their XXXX ups anymore, nor do their job for them. \\nI WANT SETERUS TO PAY FOR ALL THE AGGRAVATION, HARDSHIP, FRUSTRATION AND PUNITIVE DAMAGES THEY HAVE CAUSED ME. \\n'],\n",
       "       [ \"In XX/XX/XXXX I was mailed a check and paperwork with it stated that it was real money and if I cashed this check I would be obligated to repay the loan ... In XX/XX/XXXX my now ex girlfriend became XXXX.. In XX/XX/XXXX I lost my job and it was n't until XX/XX/XXXX that I gained another job that paid halfway decent. Throughout all this we managed to make the payments on this loan.. Then in XX/XX/XXXX we just did n't have the money ... We called and made a partial payment, we tried to make a partial payment the following month and they would not accept it ... So I stopped paying as they told me they were turning me over for legal action ... Meanwhile they have continued to call, we just did n't answer, they continued to send me mail stating they were proceeding with legal action ... About a week or so ago, my ex called me to tell me she had gotten a letter from them stating I now have a court date for XX/XX/XXXX I believe ... I then contacted them as while they have been sending all these collection notices they have also been sending more of those checks hoping I would cash another.. Which I have not.. Cant afford the loan I do have ... Anyway I contacted them and then went to see them this morning.. I took them a payment and told them I needed to know when I took out the loan, how much I borrowed and how much I have paid back.. I also wanted to know my balance ... The original note was for XXXX on XXXX XXXX, XXXX Then in XX/XX/XXXX I borrowed another XXXX ... They combined the loans and I had been paying XXXX a month until I reached a point I no longer could pay that amount ... Today I was told my total loan amount was for XXXX I have paid in XXXX. XXXX ... I have a balance of XXXX outstanding ... How can they legally do this to me? I will never get out from under this debt.. I figured it up and its like 72 % interest ... Is n't this illegal? What are my options here? My gf and I are no longer together, I am playing catch up on all my bills as I had to pay hers as well because she was unable to work ... I can not afford to pay these people 150 some dollars a month and I need some help ... I am of the opinion this company as well as others like it go through and get peoples credit scores and then in knowing they can not afford a loan, would not be approved for a normal loan, they then send out these checks to the poor who need help.. Then when the poor cash the checks they are in a vicious debt trap ... And they harass you sometimes calling XXXX-XXXX times a week wanting to know when they can expect their payments ... Please someone I need help with this as they are finally taking me to court.. Is there really a judge that will order me to pay this note at 72 % interest? \\n\"],\n",
       "       ..., \n",
       "       [ 'My bank of america accounts were closed ( checking and savings ) forcibly and no reason has been specified. I even got a letter saying that any remaining balances would not be returned. I had balances of nearly {$740.00}. \\nI was given a phone number of a person from Security Department ( XXXX - XXXX ), tried many times in last week to reach that person. Neither anyone lifts the phone nor returns my calls/messages. \\nI tried to call the customer service again to find out if there was any other person whom I can talk to find out what happened to my accounts. They would only ask to keep calling the above number and there is nothing anyone else can do anything about my accounts/money in them. \\nThis is so frustrating and annoying. Such irresponsible and anti-customer behavior. \\n'],\n",
       "       [ 'Repeated calling more than once a day. I remind collector the same thing each day called and even explained options available. I have requested not to be contacted at such frequencies due always the calls are at working hours. Creditors are also calling family members. Some operators have even escalated tone of voice. \\n'],\n",
       "       [ 'PayPal contacted credit bureau without my consent. I want to register a complaint \\n']], dtype=object)"
      ]
     },
     "execution_count": 12,
     "metadata": {},
     "output_type": "execute_result"
    }
   ],
   "source": [
    "X_train\n"
   ]
  },
  {
   "cell_type": "code",
   "execution_count": null,
   "metadata": {
    "collapsed": true
   },
   "outputs": [],
   "source": []
  }
 ],
 "metadata": {
  "kernelspec": {
   "display_name": "Python 2",
   "language": "python",
   "name": "python2"
  },
  "language_info": {
   "codemirror_mode": {
    "name": "ipython",
    "version": 2
   },
   "file_extension": ".py",
   "mimetype": "text/x-python",
   "name": "python",
   "nbconvert_exporter": "python",
   "pygments_lexer": "ipython2",
   "version": "2.7.11"
  }
 },
 "nbformat": 4,
 "nbformat_minor": 0
}
